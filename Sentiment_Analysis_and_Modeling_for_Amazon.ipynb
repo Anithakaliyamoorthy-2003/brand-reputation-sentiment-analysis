{
  "metadata": {
    "kernelspec": {
      "display_name": "Python 3",
      "name": "python3"
    },
    "language_info": {
      "name": "python",
      "version": "3.10.12",
      "mimetype": "text/x-python",
      "codemirror_mode": {
        "name": "ipython",
        "version": 3
      },
      "pygments_lexer": "ipython3",
      "nbconvert_exporter": "python",
      "file_extension": ".py"
    },
    "kaggle": {
      "accelerator": "none",
      "dataSources": [
        {
          "sourceId": 6378780,
          "sourceType": "datasetVersion",
          "datasetId": 3675955
        }
      ],
      "dockerImageVersionId": 30626,
      "isInternetEnabled": true,
      "language": "python",
      "sourceType": "notebook",
      "isGpuEnabled": false
    },
    "colab": {
      "name": "Sentiment Analysis and Modeling for Amazon",
      "provenance": [],
      "gpuType": "T4",
      "include_colab_link": true
    },
    "accelerator": "GPU"
  },
  "nbformat_minor": 0,
  "nbformat": 4,
  "cells": [
    {
      "cell_type": "markdown",
      "metadata": {
        "id": "view-in-github",
        "colab_type": "text"
      },
      "source": [
        "<a href=\"https://colab.research.google.com/github/Anithakaliyamoorthy-2003/brand-reputation-sentiment-analysis/blob/main/Sentiment_Analysis_and_Modeling_for_Amazon.ipynb\" target=\"_parent\"><img src=\"https://colab.research.google.com/assets/colab-badge.svg\" alt=\"Open In Colab\"/></a>"
      ]
    },
    {
      "source": [
        "# IMPORTANT: RUN THIS CELL IN ORDER TO IMPORT YOUR KAGGLE DATA SOURCES,\n",
        "# THEN FEEL FREE TO DELETE THIS CELL.\n",
        "# NOTE: THIS NOTEBOOK ENVIRONMENT DIFFERS FROM KAGGLE'S PYTHON\n",
        "# ENVIRONMENT SO THERE MAY BE MISSING LIBRARIES USED BY YOUR\n",
        "# NOTEBOOK.\n",
        "import kagglehub\n",
        "vedatgul_amazon_reviews_path = kagglehub.dataset_download('vedatgul/amazon-reviews')\n",
        "\n",
        "print('Data source import complete.')\n"
      ],
      "metadata": {
        "id": "QC18OvJoxU_F",
        "outputId": "59f8602d-91cf-4236-b73a-06f5f8205fd4",
        "colab": {
          "base_uri": "https://localhost:8080/"
        }
      },
      "cell_type": "code",
      "outputs": [
        {
          "output_type": "stream",
          "name": "stdout",
          "text": [
            "Downloading from https://www.kaggle.com/api/v1/datasets/download/vedatgul/amazon-reviews?dataset_version_number=1...\n"
          ]
        },
        {
          "output_type": "stream",
          "name": "stderr",
          "text": [
            "100%|██████████| 705k/705k [00:00<00:00, 823kB/s]"
          ]
        },
        {
          "output_type": "stream",
          "name": "stdout",
          "text": [
            "Extracting files...\n",
            "Data source import complete.\n"
          ]
        },
        {
          "output_type": "stream",
          "name": "stderr",
          "text": [
            "\n"
          ]
        }
      ],
      "execution_count": 1
    },
    {
      "cell_type": "markdown",
      "source": [
        "![sentiment analysis.png](attachment:a47bd6fd-c59b-4482-95c6-7ba883a293f6.png)"
      ],
      "metadata": {
        "id": "vs2a-TKoxU_G"
      }
    },
    {
      "cell_type": "markdown",
      "source": [
        "<div style=\"padding: 40px; background: linear-gradient(135deg, #f5f7fa, #cdd2d8); border: 3px groove #d1d8e0; border-radius: 30px; box-shadow: 0 10px 25px rgba(0,0,0,0.1); font-size: 120%; line-height: 1.9; color: #333; font-family: 'Georgia', serif; text-align: justify; position: relative;\">\n",
        "    <h2 style=\"color: #2c3e50; font-size: 150%; border-bottom: 3px solid #3498db; display: inline-block; padding-bottom: 10px; margin-bottom: 20px;\">\n",
        "        Business Problem\n",
        "    </h2>\n",
        "    <p style=\"font-size: 140%; color: #34495e; letter-spacing: 1px;\">Amazon is a global e-commerce platform where millions of products are reviewed. This project aims to analyze and model the sentiments expressed in Amazon customer reviews.</p>\n",
        "    <p>By analyzing the text of the reviews and the ratings given, in-depth information about customer satisfaction and preferences can be obtained. These insights can contribute to product development, targeted marketing strategies, and improvement of customer services. This analysis involves the challenge of efficiently processing large volumes of textual data and accurately interpreting the nuanced emotions expressed. A successful sentiment analysis and modeling implementation can significantly contribute to increasing customer trust and loyalty, thereby driving business growth.</p>\n",
        "</div>\n"
      ],
      "metadata": {
        "id": "AJUYpqZrxU_I"
      }
    },
    {
      "cell_type": "markdown",
      "source": [
        "<div style=\"border: 10px solid #3498db; border-radius: 30px; padding: 40px; box-shadow: 10px 10px 25px #2980b9; background: linear-gradient(to bottom right, #D6EAF8, #EBF5FB);\">\n",
        "    <h2 style=\"font-size: 34px; font-weight: bold; color: #0E6655; text-align: center; border-bottom: 5px solid #F1C40F; font-family: 'Arial'; padding: 20px; margin-top: 0; box-shadow: 5px 5px 15px #7D8A99; background-color: #FEF5E7; border-radius: 20px;\">📊 Dataset Story</h2>\n",
        "    <ul style=\"font-size: 18px; font-family: 'Calibri'; padding: 30px; line-height: 1.7; list-style-type: none;\">\n",
        "        <li>📌 <strong style=\"color: #0E6655;\">Dataset Origin:</strong> This dataset comprises Amazon product reviews, spanning various categories and years.</li>\n",
        "        <li>📄 <strong style=\"color: #0E6655;\">Attributes:</strong>\n",
        "            <ul>\n",
        "                <li>ReviewerID: Unique identifier of the reviewer</li>\n",
        "                <li>ProductID (asin): Unique identifier of the product</li>\n",
        "                <li>ReviewerName: Name of the reviewer</li>\n",
        "                <li>ReviewText: Text of the review</li>\n",
        "                <li>Overall: Rating given by the reviewer</li>\n",
        "                <li>Summary: Short summary of the review</li>\n",
        "                <li>UnixReviewTime: Time of the review (UNIX format)</li>\n",
        "                <li>ReviewTime: Time of the review in a human-readable format</li>\n",
        "                <li>Helpful: Votes for the review being helpful [helpful_yes, total_vote]</li>\n",
        "                <li>Day_diff: Number of days between the review time and a specific reference time</li>\n",
        "                <li>Helpful_yes: Number of votes indicating the review was helpful</li>\n",
        "                <li>Total_vote: Total number of votes for the review</li>\n",
        "            </ul>\n",
        "        </li>\n",
        "        <li>🔍 <strong style=\"color: #0E6655;\">Objective:</strong> To perform sentiment analysis and sentiment modeling on the review texts to understand customer preferences and satisfaction levels.</li>\n",
        "    </ul>\n",
        "</div>\n"
      ],
      "metadata": {
        "id": "LValqMlqxU_I"
      }
    },
    {
      "cell_type": "markdown",
      "source": [
        "<div style=\"background-color: #e8f4f8; padding: 20px; border-radius: 5px; box-shadow: 0 4px 6px rgba(0, 0, 0, 0.1);\">\n",
        "    <h2 style=\"color: #0d6efd; text-align: center; font-size: 24px; border-bottom: 2px solid #0d6efd; display: inline-block; padding-bottom: 5px;\">📜 Project Workflow</h2>\n",
        "    <ul style=\"list-style: none; padding-left: 0;\">\n",
        "        <li style=\"background-color: #d1e7dd; border: 1px solid #badbcc; margin-bottom: 10px; border-radius: 5px; padding: 10px; color: #0f5132;\">\n",
        "            <span style=\"font-weight: bold; font-size: 18px;\">1.</span> <span style=\"font-weight: bold; font-size: 18px;\">Text Preprocessing</span>\n",
        "            <ul style=\"list-style: circle; padding-left: 20px; color: #084c61;\">\n",
        "                <li>Normalizing Case Folding</li>\n",
        "                <li>Punctuations</li>\n",
        "                <li>Numbers</li>\n",
        "                <li>Stopwords</li>\n",
        "                <li>Rarewords</li>\n",
        "                <li>Tokenization</li>\n",
        "                <li>Lemmatization</li>\n",
        "            </ul>\n",
        "        </li>\n",
        "        <li style=\"background-color: #cff4fc; border: 1px solid #b6effb; margin-bottom: 10px; border-radius: 5px; padding: 10px; color: #055160;\">\n",
        "            <span style=\"font-weight: bold; font-size: 18px;\">2.</span> <span style=\"font-weight: bold; font-size: 18px;\">Text Visualization</span>\n",
        "            <ul style=\"list-style: circle; padding-left: 20px; color: #6610f2;\">\n",
        "                <li>Calculation of Term Frequencies</li>\n",
        "                <li>Barplot</li>\n",
        "                <li>Wordcloud</li>\n",
        "                <li>Wordcloud by Templates</li>\n",
        "            </ul>\n",
        "        </li>\n",
        "        <li style=\"background-color: #fce7f3; border: 1px solid #f5c2e7; margin-bottom: 10px; border-radius: 5px; padding: 10px; color: #6f42c1;\">\n",
        "            <span style=\"font-weight: bold; font-size: 18px;\">3.</span> <span style=\"font-weight: bold; font-size: 18px;\">Sentiment Analysis</span>\n",
        "        </li>\n",
        "        <li style=\"background-color: #fff3cd; border: 1px solid #ffecb5; margin-bottom: 10px; border-radius: 5px; padding: 10px; color: #664d03;\">\n",
        "            <span style=\"font-weight: bold; font-size: 18px;\">4.</span> <span style=\"font-weight: bold; font-size: 18px;\">Feature Engineering</span>\n",
        "            <ul style=\"list-style: circle; padding-left: 20px; color: #198754;\">\n",
        "                <li>Count Vectors</li>\n",
        "                <li>TF-IDF</li>\n",
        "            </ul>\n",
        "        </li>\n",
        "        <li style=\"background-color: #d1e7dd; border: 1px solid #badbcc; margin-bottom: 10px; border-radius: 5px; padding: 10px; color: #0f5132;\">\n",
        "            <span style=\"font-weight: bold; font-size: 18px;\">5.</span> <span style=\"font-weight: bold; font-size: 18px;\">Sentiment Modeling</span>\n",
        "            <ul style=\"list-style: circle; padding-left: 20px; color: #084c61;\">\n",
        "                <li>Logistic Regression</li>\n",
        "                <li>Random Forests</li>\n",
        "                <li>Hyperparameter Optimization</li>\n",
        "            </ul>\n",
        "        </li>\n",
        "    </ul>\n",
        "</div>\n"
      ],
      "metadata": {
        "id": "OJ5UvM9jxU_J"
      }
    },
    {
      "cell_type": "markdown",
      "source": [
        "<div style=\"background-color: #3b3745; border-radius: 12px; padding: 20px; box-shadow: 0 4px 8px 0 rgba(0,0,0,0.2);\">\n",
        "    <h2 style=\"color: #F1A424; text-align: center;\">Table of Contents</h2>\n",
        "    <ul style=\"list-style: none; padding: 0;\">\n",
        "        <li><a href=\"#section-1\" style=\"color: white; text-decoration: none; display: flex; align-items: center; padding: 8px 15px; border-radius: 6px; transition: background-color 0.3s;\"><span style=\"margin-right: 10px; font-weight: bold; color: #F1A424;\">1.</span>  Importing Libraries</a></li>\n",
        "        <li><a href=\"#section-2\" style=\"color: white; text-decoration: none; display: flex; align-items: center; padding: 8px 15px; border-radius: 6px; transition: background-color 0.3s;\"><span style=\"margin-right: 10px; font-weight: bold; color: #F1A424;\">2.</span> Adjusting Row Column Settings</a></li>\n",
        "        <li><a href=\"#section-3\" style=\"color: white; text-decoration: none; display: flex; align-items: center; padding: 8px 15px; border-radius: 6px; transition: background-color 0.3s;\"><span style=\"margin-right: 10px; font-weight: bold; color: #F1A424;\">3.</span> Text Preprocessing</a></li>\n",
        "        <li><a href=\"#section-4\" style=\"color: white; text-decoration: none; display: flex; align-items: center; padding: 8px 15px; border-radius: 6px; transition: background-color 0.3s;\"><span style=\"margin-right: 10px; font-weight: bold; color: #F1A424;\">3.1</span> Normalizing Case Folding</a></li>\n",
        "        <li><a href=\"#section-5\" style=\"color: white; text-decoration: none; display: flex; align-items: center; padding: 8px 15px; border-radius: 6px; transition: background-color 0.3s;\"><span style=\"margin-right: 10px; font-weight: bold; color: #F1A424;\">3.2</span> Punctuations</a></li>\n",
        "        <li><a href=\"#section-6\" style=\"color: white; text-decoration: none; display: flex; align-items: center; padding: 8px 15px; border-radius: 6px; transition: background-color 0.3s;\"><span style=\"margin-right: 10px; font-weight: bold; color: #F1A424;\">3.3</span> Numbers</a></li>\n",
        "        <li><a href=\"#section-7\" style=\"color: white; text-decoration: none; display: flex; align-items: center; padding: 8px 15px; border-radius: 6px; transition: background-color 0.3s;\"><span style=\"margin-right: 10px; font-weight: bold; color: #F1A424;\">3.4</span> Stopwords</a></li>\n",
        "        <li><a href=\"#section-8\" style=\"color: white; text-decoration: none; display: flex; align-items: center; padding: 8px 15px; border-radius: 6px; transition: background-color 0.3s;\"><span style=\"margin-right: 10px; font-weight: bold; color: #F1A424;\">3.5</span> Rarewords</a></li>\n",
        "        <li><a href=\"#section-9\" style=\"color: white; text-decoration: none; display: flex; align-items: center; padding: 8px 15px; border-radius: 6px; transition: background-color 0.3s;\"><span style=\"margin-right: 10px; font-weight: bold; color: #F1A424;\">3.6</span> Tokenization</a></li>\n",
        "        <li><a href=\"#section-10\" style=\"color: white; text-decoration: none; display: flex; align-items: center; padding: 8px 15px; border-radius: 6px; transition: background-color 0.3s;\"><span style=\"margin-right: 10px; font-weight: bold; color: #F1A424;\">3.7</span> Lemmatization</a></li>\n",
        "        <li><a href=\"#section-11\" style=\"color: white; text-decoration: none; display: flex; align-items: center; padding: 8px 15px; border-radius: 6px; transition: background-color 0.3s;\"><span style=\"margin-right: 10px; font-weight: bold; color: #F1A424;\">4.</span> Text Visualization</a></li>\n",
        "        <li><a href=\"#section-12\" style=\"color: white; text-decoration: none; display: flex; align-items: center; padding: 8px 15px; border-radius: 6px; transition: background-color 0.3s;\"><span style=\"margin-right: 10px; font-weight: bold; color: #F1A424;\">4.1</span> Calculation of Term Frequencies</a></li>\n",
        "        <li><a href=\"#section-13\" style=\"color: white; text-decoration: none; display: flex; align-items: center; padding: 8px 15px; border-radius: 6px; transition: background-color 0.3s;\"><span style=\"margin-right: 10px; font-weight: bold; color: #F1A424;\">4.2</span> Barplot</a></li>\n",
        "        <li><a href=\"#section-14\" style=\"color: white; text-decoration: none; display: flex; align-items: center; padding: 8px 15px; border-radius: 6px; transition: background-color 0.3s;\"><span style=\"margin-right: 10px; font-weight: bold; color: #F1A424;\">4.3</span> Word Cloud</a></li>\n",
        "        <li><a href=\"#section-15\" style=\"color: white; text-decoration: none; display: flex; align-items: center; padding: 8px 15px; border-radius: 6px; transition: background-color 0.3s;\"><span style=\"margin-right: 10px; font-weight: bold; color: #F1A424;\">4.4</span> Word Cloud by Templates</a></li>\n",
        "        <li><a href=\"#section-16\" style=\"color: white; text-decoration: none; display: flex; align-items: center; padding: 8px 15px; border-radius: 6px; transition: background-color 0.3s;\"><span style=\"margin-right: 10px; font-weight: bold; color: #F1A424;\">5 </span> Sentiment Analysis</a></li>\n",
        "        <li><a href=\"#section-17\" style=\"color: white; text-decoration: none; display: flex; align-items: center; padding: 8px 15px; border-radius: 6px; transition: background-color 0.3s;\"><span style=\"margin-right: 10px; font-weight: bold; color: #F1A424;\">6 </span> Feature Engineering</a></li>\n",
        "        <li><a href=\"#section-18\" style=\"color: white; text-decoration: none; display: flex; align-items: center; padding: 8px 15px; border-radius: 6px; transition: background-color 0.3s;\"><span style=\"margin-right: 10px; font-weight: bold; color: #F1A424;\">6.1. </span> Count Vectors</a></li>\n",
        "        <li><a href=\"#section-19\" style=\"color: white; text-decoration: none; display: flex; align-items: center; padding: 8px 15px; border-radius: 6px; transition: background-color 0.3s;\"><span style=\"margin-right: 10px; font-weight: bold; color: #F1A424;\">6.2 </span> TF-IDF</a></li>\n",
        "        <li><a href=\"#section-20\" style=\"color: white; text-decoration: none; display: flex; align-items: center; padding: 8px 15px; border-radius: 6px; transition: background-color 0.3s;\"><span style=\"margin-right: 10px; font-weight: bold; color: #F1A424;\">7 </span> Sentiment Modeling</a></li>\n",
        "        <li><a href=\"#section-21\" style=\"color: white; text-decoration: none; display: flex; align-items: center; padding: 8px 15px; border-radius: 6px; transition: background-color 0.3s;\"><span style=\"margin-right: 10px; font-weight: bold; color: #F1A424;\">7.1 </span> Logistic Regression</a></li>\n",
        "        <li><a href=\"#section-22\" style=\"color: white; text-decoration: none; display: flex; align-items: center; padding: 8px 15px; border-radius: 6px; transition: background-color 0.3s;\"><span style=\"margin-right: 10px; font-weight: bold; color: #F1A424;\">7.2 </span> Random Forests</a></li>\n",
        "        <li><a href=\"#section-23\" style=\"color: white; text-decoration: none; display: flex; align-items: center; padding: 8px 15px; border-radius: 6px; transition: background-color 0.3s;\"><span style=\"margin-right: 10px; font-weight: bold; color: #F1A424;\">7.3 </span> Hyperparameter Optimization</a></li>\n",
        "    </ul>\n",
        "</div>"
      ],
      "metadata": {
        "id": "6amqVgtaxU_J"
      }
    },
    {
      "cell_type": "markdown",
      "source": [
        "<a id=\"section-1\"></a>\n",
        "# <div style=\"padding: 30px; color:white; margin:10; font-size:75%; text-align:left; display:fill; border-radius:10px; background-color:#3b3745\"><b><span style='color:#F1A424'>1 |</span></b> <b>  Importing Libraries</b></div>"
      ],
      "metadata": {
        "id": "ocHbOFRJxU_K"
      }
    },
    {
      "cell_type": "code",
      "source": [
        "!pip install nltk\n",
        "!pip install twython\n",
        "!pip install textblob\n",
        "!pip install wordcloud"
      ],
      "metadata": {
        "execution": {
          "iopub.status.busy": "2024-01-08T10:33:39.506258Z",
          "iopub.execute_input": "2024-01-08T10:33:39.506676Z",
          "iopub.status.idle": "2024-01-08T10:34:38.926225Z",
          "shell.execute_reply.started": "2024-01-08T10:33:39.506642Z",
          "shell.execute_reply": "2024-01-08T10:34:38.924911Z"
        },
        "trusted": true,
        "id": "0OonFPIKxU_K",
        "outputId": "b7352a77-7eeb-454f-da50-c59265e563ac",
        "colab": {
          "base_uri": "https://localhost:8080/"
        }
      },
      "execution_count": 2,
      "outputs": [
        {
          "output_type": "stream",
          "name": "stdout",
          "text": [
            "Requirement already satisfied: nltk in /usr/local/lib/python3.11/dist-packages (3.9.1)\n",
            "Requirement already satisfied: click in /usr/local/lib/python3.11/dist-packages (from nltk) (8.1.8)\n",
            "Requirement already satisfied: joblib in /usr/local/lib/python3.11/dist-packages (from nltk) (1.4.2)\n",
            "Requirement already satisfied: regex>=2021.8.3 in /usr/local/lib/python3.11/dist-packages (from nltk) (2024.11.6)\n",
            "Requirement already satisfied: tqdm in /usr/local/lib/python3.11/dist-packages (from nltk) (4.67.1)\n",
            "Collecting twython\n",
            "  Downloading twython-3.9.1-py3-none-any.whl.metadata (20 kB)\n",
            "Requirement already satisfied: requests>=2.1.0 in /usr/local/lib/python3.11/dist-packages (from twython) (2.32.3)\n",
            "Requirement already satisfied: requests-oauthlib>=0.4.0 in /usr/local/lib/python3.11/dist-packages (from twython) (2.0.0)\n",
            "Requirement already satisfied: charset-normalizer<4,>=2 in /usr/local/lib/python3.11/dist-packages (from requests>=2.1.0->twython) (3.4.1)\n",
            "Requirement already satisfied: idna<4,>=2.5 in /usr/local/lib/python3.11/dist-packages (from requests>=2.1.0->twython) (3.10)\n",
            "Requirement already satisfied: urllib3<3,>=1.21.1 in /usr/local/lib/python3.11/dist-packages (from requests>=2.1.0->twython) (2.4.0)\n",
            "Requirement already satisfied: certifi>=2017.4.17 in /usr/local/lib/python3.11/dist-packages (from requests>=2.1.0->twython) (2025.4.26)\n",
            "Requirement already satisfied: oauthlib>=3.0.0 in /usr/local/lib/python3.11/dist-packages (from requests-oauthlib>=0.4.0->twython) (3.2.2)\n",
            "Downloading twython-3.9.1-py3-none-any.whl (33 kB)\n",
            "Installing collected packages: twython\n",
            "Successfully installed twython-3.9.1\n",
            "Requirement already satisfied: textblob in /usr/local/lib/python3.11/dist-packages (0.19.0)\n",
            "Requirement already satisfied: nltk>=3.9 in /usr/local/lib/python3.11/dist-packages (from textblob) (3.9.1)\n",
            "Requirement already satisfied: click in /usr/local/lib/python3.11/dist-packages (from nltk>=3.9->textblob) (8.1.8)\n",
            "Requirement already satisfied: joblib in /usr/local/lib/python3.11/dist-packages (from nltk>=3.9->textblob) (1.4.2)\n",
            "Requirement already satisfied: regex>=2021.8.3 in /usr/local/lib/python3.11/dist-packages (from nltk>=3.9->textblob) (2024.11.6)\n",
            "Requirement already satisfied: tqdm in /usr/local/lib/python3.11/dist-packages (from nltk>=3.9->textblob) (4.67.1)\n",
            "Requirement already satisfied: wordcloud in /usr/local/lib/python3.11/dist-packages (1.9.4)\n",
            "Requirement already satisfied: numpy>=1.6.1 in /usr/local/lib/python3.11/dist-packages (from wordcloud) (2.0.2)\n",
            "Requirement already satisfied: pillow in /usr/local/lib/python3.11/dist-packages (from wordcloud) (11.2.1)\n",
            "Requirement already satisfied: matplotlib in /usr/local/lib/python3.11/dist-packages (from wordcloud) (3.10.0)\n",
            "Requirement already satisfied: contourpy>=1.0.1 in /usr/local/lib/python3.11/dist-packages (from matplotlib->wordcloud) (1.3.2)\n",
            "Requirement already satisfied: cycler>=0.10 in /usr/local/lib/python3.11/dist-packages (from matplotlib->wordcloud) (0.12.1)\n",
            "Requirement already satisfied: fonttools>=4.22.0 in /usr/local/lib/python3.11/dist-packages (from matplotlib->wordcloud) (4.57.0)\n",
            "Requirement already satisfied: kiwisolver>=1.3.1 in /usr/local/lib/python3.11/dist-packages (from matplotlib->wordcloud) (1.4.8)\n",
            "Requirement already satisfied: packaging>=20.0 in /usr/local/lib/python3.11/dist-packages (from matplotlib->wordcloud) (24.2)\n",
            "Requirement already satisfied: pyparsing>=2.3.1 in /usr/local/lib/python3.11/dist-packages (from matplotlib->wordcloud) (3.2.3)\n",
            "Requirement already satisfied: python-dateutil>=2.7 in /usr/local/lib/python3.11/dist-packages (from matplotlib->wordcloud) (2.9.0.post0)\n",
            "Requirement already satisfied: six>=1.5 in /usr/local/lib/python3.11/dist-packages (from python-dateutil>=2.7->matplotlib->wordcloud) (1.17.0)\n"
          ]
        }
      ]
    },
    {
      "cell_type": "code",
      "source": [
        "!unzip -o /usr/share/nltk_data/corpora/wordnet.zip -d /usr/share/nltk_data/corpora/"
      ],
      "metadata": {
        "execution": {
          "iopub.status.busy": "2024-01-08T10:34:41.344854Z",
          "iopub.execute_input": "2024-01-08T10:34:41.345245Z",
          "iopub.status.idle": "2024-01-08T10:34:42.81275Z",
          "shell.execute_reply.started": "2024-01-08T10:34:41.345214Z",
          "shell.execute_reply": "2024-01-08T10:34:42.811089Z"
        },
        "trusted": true,
        "id": "so3CuoCmxU_L",
        "outputId": "5412e206-7539-4d0e-f31b-42fa25201c86",
        "colab": {
          "base_uri": "https://localhost:8080/"
        }
      },
      "execution_count": 3,
      "outputs": [
        {
          "output_type": "stream",
          "name": "stdout",
          "text": [
            "unzip:  cannot find or open /usr/share/nltk_data/corpora/wordnet.zip, /usr/share/nltk_data/corpora/wordnet.zip.zip or /usr/share/nltk_data/corpora/wordnet.zip.ZIP.\n"
          ]
        }
      ]
    },
    {
      "cell_type": "code",
      "source": [
        "from warnings import filterwarnings\n",
        "import matplotlib.pyplot as plt\n",
        "import numpy as np\n",
        "import pandas as pd\n",
        "import nltk\n",
        "from PIL import Image\n",
        "from nltk.corpus import stopwords\n",
        "from nltk.sentiment import SentimentIntensityAnalyzer\n",
        "from sklearn.feature_extraction.text import CountVectorizer\n",
        "from sklearn.feature_extraction.text import TfidfVectorizer\n",
        "from sklearn.ensemble import RandomForestClassifier\n",
        "from sklearn.linear_model import LogisticRegression\n",
        "from sklearn.model_selection import cross_val_score, GridSearchCV, cross_validate\n",
        "from sklearn.preprocessing import LabelEncoder\n",
        "from textblob import Word, TextBlob\n",
        "from wordcloud import WordCloud"
      ],
      "metadata": {
        "execution": {
          "iopub.status.busy": "2024-01-08T12:43:22.440491Z",
          "iopub.execute_input": "2024-01-08T12:43:22.440981Z",
          "iopub.status.idle": "2024-01-08T12:43:22.451243Z",
          "shell.execute_reply.started": "2024-01-08T12:43:22.440946Z",
          "shell.execute_reply": "2024-01-08T12:43:22.449965Z"
        },
        "trusted": true,
        "id": "xzj1ZcBNxU_L"
      },
      "execution_count": 4,
      "outputs": []
    },
    {
      "cell_type": "markdown",
      "source": [
        "<a id=\"section-2\"></a>\n",
        "# <div style=\"padding: 30px; color:white; margin:10; font-size:75%; text-align:left; display:fill; border-radius:10px; background-color:#3b3745\"><b><span style='color:#F1A424'>2 |</span></b> <b> Adjusting Row Column Settings</b></div>"
      ],
      "metadata": {
        "id": "FRHG7zMyxU_L"
      }
    },
    {
      "cell_type": "code",
      "source": [
        "filterwarnings('ignore')\n",
        "pd.set_option('display.max_columns', None)\n",
        "pd.set_option('display.width', 200)\n",
        "pd.set_option('display.float_format', lambda x: '%.2f' % x)"
      ],
      "metadata": {
        "execution": {
          "iopub.status.busy": "2024-01-08T10:34:48.881296Z",
          "iopub.execute_input": "2024-01-08T10:34:48.881942Z",
          "iopub.status.idle": "2024-01-08T10:34:48.888858Z",
          "shell.execute_reply.started": "2024-01-08T10:34:48.881897Z",
          "shell.execute_reply": "2024-01-08T10:34:48.887571Z"
        },
        "trusted": true,
        "id": "HwFabAvwxU_L"
      },
      "execution_count": 5,
      "outputs": []
    },
    {
      "cell_type": "markdown",
      "source": [
        "<a id=\"section-3\"></a>\n",
        "# <div style=\"padding: 30px; color:white; margin:10; font-size:75%; text-align:left; display:fill; border-radius:10px; background-color:#3b3745\"><b><span style='color:#F1A424'>3 |</span></b> <b>Text Preprocessing</b></div>[](http://)"
      ],
      "metadata": {
        "id": "BWpiLW_hxU_M"
      }
    },
    {
      "cell_type": "code",
      "source": [
        "# Loading data set\n",
        "\n",
        "df = pd.read_csv(f\"{vedatgul_amazon_reviews_path}/amazon_reviews.csv\")\n"
      ],
      "metadata": {
        "execution": {
          "iopub.status.busy": "2024-01-08T10:34:52.771605Z",
          "iopub.execute_input": "2024-01-08T10:34:52.772033Z",
          "iopub.status.idle": "2024-01-08T10:34:52.868334Z",
          "shell.execute_reply.started": "2024-01-08T10:34:52.771999Z",
          "shell.execute_reply": "2024-01-08T10:34:52.867334Z"
        },
        "trusted": true,
        "id": "yBcy6FJfxU_M"
      },
      "execution_count": 8,
      "outputs": []
    },
    {
      "cell_type": "code",
      "source": [
        "df.head()"
      ],
      "metadata": {
        "execution": {
          "iopub.status.busy": "2024-01-08T10:34:54.404122Z",
          "iopub.execute_input": "2024-01-08T10:34:54.40457Z",
          "iopub.status.idle": "2024-01-08T10:34:54.437759Z",
          "shell.execute_reply.started": "2024-01-08T10:34:54.404529Z",
          "shell.execute_reply": "2024-01-08T10:34:54.4364Z"
        },
        "trusted": true,
        "id": "-yh-KWWpxU_M",
        "outputId": "48715745-9044-42eb-f811-2dee4450cc5c",
        "colab": {
          "base_uri": "https://localhost:8080/",
          "height": 275
        }
      },
      "execution_count": 9,
      "outputs": [
        {
          "output_type": "execute_result",
          "data": {
            "text/plain": [
              "       reviewerID        asin  reviewerName helpful                                         reviewText  overall                                 summary  unixReviewTime  reviewTime  day_diff  \\\n",
              "0  A3SBTW3WS4IQSN  B007WTAJTO           NaN  [0, 0]                                         No issues.     4.00                              Four Stars      1406073600  2014-07-23       138   \n",
              "1  A18K1ODH1I2MVB  B007WTAJTO          0mie  [0, 0]  Purchased this for my device, it worked as adv...     5.00                           MOAR SPACE!!!      1382659200  2013-10-25       409   \n",
              "2  A2FII3I2MBMUIA  B007WTAJTO           1K3  [0, 0]  it works as expected. I should have sprung for...     4.00               nothing to really say....      1356220800  2012-12-23       715   \n",
              "3   A3H99DFEG68SR  B007WTAJTO           1m2  [0, 0]  This think has worked out great.Had a diff. br...     5.00  Great buy at this price!!!  *** UPDATE      1384992000  2013-11-21       382   \n",
              "4  A375ZM4U047O79  B007WTAJTO  2&amp;1/2Men  [0, 0]  Bought it with Retail Packaging, arrived legit...     5.00                        best deal around      1373673600  2013-07-13       513   \n",
              "\n",
              "   helpful_yes  total_vote  \n",
              "0            0           0  \n",
              "1            0           0  \n",
              "2            0           0  \n",
              "3            0           0  \n",
              "4            0           0  "
            ],
            "text/html": [
              "\n",
              "  <div id=\"df-590dbc5b-733e-48af-9ead-92c8f193e49b\" class=\"colab-df-container\">\n",
              "    <div>\n",
              "<style scoped>\n",
              "    .dataframe tbody tr th:only-of-type {\n",
              "        vertical-align: middle;\n",
              "    }\n",
              "\n",
              "    .dataframe tbody tr th {\n",
              "        vertical-align: top;\n",
              "    }\n",
              "\n",
              "    .dataframe thead th {\n",
              "        text-align: right;\n",
              "    }\n",
              "</style>\n",
              "<table border=\"1\" class=\"dataframe\">\n",
              "  <thead>\n",
              "    <tr style=\"text-align: right;\">\n",
              "      <th></th>\n",
              "      <th>reviewerID</th>\n",
              "      <th>asin</th>\n",
              "      <th>reviewerName</th>\n",
              "      <th>helpful</th>\n",
              "      <th>reviewText</th>\n",
              "      <th>overall</th>\n",
              "      <th>summary</th>\n",
              "      <th>unixReviewTime</th>\n",
              "      <th>reviewTime</th>\n",
              "      <th>day_diff</th>\n",
              "      <th>helpful_yes</th>\n",
              "      <th>total_vote</th>\n",
              "    </tr>\n",
              "  </thead>\n",
              "  <tbody>\n",
              "    <tr>\n",
              "      <th>0</th>\n",
              "      <td>A3SBTW3WS4IQSN</td>\n",
              "      <td>B007WTAJTO</td>\n",
              "      <td>NaN</td>\n",
              "      <td>[0, 0]</td>\n",
              "      <td>No issues.</td>\n",
              "      <td>4.00</td>\n",
              "      <td>Four Stars</td>\n",
              "      <td>1406073600</td>\n",
              "      <td>2014-07-23</td>\n",
              "      <td>138</td>\n",
              "      <td>0</td>\n",
              "      <td>0</td>\n",
              "    </tr>\n",
              "    <tr>\n",
              "      <th>1</th>\n",
              "      <td>A18K1ODH1I2MVB</td>\n",
              "      <td>B007WTAJTO</td>\n",
              "      <td>0mie</td>\n",
              "      <td>[0, 0]</td>\n",
              "      <td>Purchased this for my device, it worked as adv...</td>\n",
              "      <td>5.00</td>\n",
              "      <td>MOAR SPACE!!!</td>\n",
              "      <td>1382659200</td>\n",
              "      <td>2013-10-25</td>\n",
              "      <td>409</td>\n",
              "      <td>0</td>\n",
              "      <td>0</td>\n",
              "    </tr>\n",
              "    <tr>\n",
              "      <th>2</th>\n",
              "      <td>A2FII3I2MBMUIA</td>\n",
              "      <td>B007WTAJTO</td>\n",
              "      <td>1K3</td>\n",
              "      <td>[0, 0]</td>\n",
              "      <td>it works as expected. I should have sprung for...</td>\n",
              "      <td>4.00</td>\n",
              "      <td>nothing to really say....</td>\n",
              "      <td>1356220800</td>\n",
              "      <td>2012-12-23</td>\n",
              "      <td>715</td>\n",
              "      <td>0</td>\n",
              "      <td>0</td>\n",
              "    </tr>\n",
              "    <tr>\n",
              "      <th>3</th>\n",
              "      <td>A3H99DFEG68SR</td>\n",
              "      <td>B007WTAJTO</td>\n",
              "      <td>1m2</td>\n",
              "      <td>[0, 0]</td>\n",
              "      <td>This think has worked out great.Had a diff. br...</td>\n",
              "      <td>5.00</td>\n",
              "      <td>Great buy at this price!!!  *** UPDATE</td>\n",
              "      <td>1384992000</td>\n",
              "      <td>2013-11-21</td>\n",
              "      <td>382</td>\n",
              "      <td>0</td>\n",
              "      <td>0</td>\n",
              "    </tr>\n",
              "    <tr>\n",
              "      <th>4</th>\n",
              "      <td>A375ZM4U047O79</td>\n",
              "      <td>B007WTAJTO</td>\n",
              "      <td>2&amp;amp;1/2Men</td>\n",
              "      <td>[0, 0]</td>\n",
              "      <td>Bought it with Retail Packaging, arrived legit...</td>\n",
              "      <td>5.00</td>\n",
              "      <td>best deal around</td>\n",
              "      <td>1373673600</td>\n",
              "      <td>2013-07-13</td>\n",
              "      <td>513</td>\n",
              "      <td>0</td>\n",
              "      <td>0</td>\n",
              "    </tr>\n",
              "  </tbody>\n",
              "</table>\n",
              "</div>\n",
              "    <div class=\"colab-df-buttons\">\n",
              "\n",
              "  <div class=\"colab-df-container\">\n",
              "    <button class=\"colab-df-convert\" onclick=\"convertToInteractive('df-590dbc5b-733e-48af-9ead-92c8f193e49b')\"\n",
              "            title=\"Convert this dataframe to an interactive table.\"\n",
              "            style=\"display:none;\">\n",
              "\n",
              "  <svg xmlns=\"http://www.w3.org/2000/svg\" height=\"24px\" viewBox=\"0 -960 960 960\">\n",
              "    <path d=\"M120-120v-720h720v720H120Zm60-500h600v-160H180v160Zm220 220h160v-160H400v160Zm0 220h160v-160H400v160ZM180-400h160v-160H180v160Zm440 0h160v-160H620v160ZM180-180h160v-160H180v160Zm440 0h160v-160H620v160Z\"/>\n",
              "  </svg>\n",
              "    </button>\n",
              "\n",
              "  <style>\n",
              "    .colab-df-container {\n",
              "      display:flex;\n",
              "      gap: 12px;\n",
              "    }\n",
              "\n",
              "    .colab-df-convert {\n",
              "      background-color: #E8F0FE;\n",
              "      border: none;\n",
              "      border-radius: 50%;\n",
              "      cursor: pointer;\n",
              "      display: none;\n",
              "      fill: #1967D2;\n",
              "      height: 32px;\n",
              "      padding: 0 0 0 0;\n",
              "      width: 32px;\n",
              "    }\n",
              "\n",
              "    .colab-df-convert:hover {\n",
              "      background-color: #E2EBFA;\n",
              "      box-shadow: 0px 1px 2px rgba(60, 64, 67, 0.3), 0px 1px 3px 1px rgba(60, 64, 67, 0.15);\n",
              "      fill: #174EA6;\n",
              "    }\n",
              "\n",
              "    .colab-df-buttons div {\n",
              "      margin-bottom: 4px;\n",
              "    }\n",
              "\n",
              "    [theme=dark] .colab-df-convert {\n",
              "      background-color: #3B4455;\n",
              "      fill: #D2E3FC;\n",
              "    }\n",
              "\n",
              "    [theme=dark] .colab-df-convert:hover {\n",
              "      background-color: #434B5C;\n",
              "      box-shadow: 0px 1px 3px 1px rgba(0, 0, 0, 0.15);\n",
              "      filter: drop-shadow(0px 1px 2px rgba(0, 0, 0, 0.3));\n",
              "      fill: #FFFFFF;\n",
              "    }\n",
              "  </style>\n",
              "\n",
              "    <script>\n",
              "      const buttonEl =\n",
              "        document.querySelector('#df-590dbc5b-733e-48af-9ead-92c8f193e49b button.colab-df-convert');\n",
              "      buttonEl.style.display =\n",
              "        google.colab.kernel.accessAllowed ? 'block' : 'none';\n",
              "\n",
              "      async function convertToInteractive(key) {\n",
              "        const element = document.querySelector('#df-590dbc5b-733e-48af-9ead-92c8f193e49b');\n",
              "        const dataTable =\n",
              "          await google.colab.kernel.invokeFunction('convertToInteractive',\n",
              "                                                    [key], {});\n",
              "        if (!dataTable) return;\n",
              "\n",
              "        const docLinkHtml = 'Like what you see? Visit the ' +\n",
              "          '<a target=\"_blank\" href=https://colab.research.google.com/notebooks/data_table.ipynb>data table notebook</a>'\n",
              "          + ' to learn more about interactive tables.';\n",
              "        element.innerHTML = '';\n",
              "        dataTable['output_type'] = 'display_data';\n",
              "        await google.colab.output.renderOutput(dataTable, element);\n",
              "        const docLink = document.createElement('div');\n",
              "        docLink.innerHTML = docLinkHtml;\n",
              "        element.appendChild(docLink);\n",
              "      }\n",
              "    </script>\n",
              "  </div>\n",
              "\n",
              "\n",
              "    <div id=\"df-288f3c97-6754-44da-93ee-6d9f8721b5a6\">\n",
              "      <button class=\"colab-df-quickchart\" onclick=\"quickchart('df-288f3c97-6754-44da-93ee-6d9f8721b5a6')\"\n",
              "                title=\"Suggest charts\"\n",
              "                style=\"display:none;\">\n",
              "\n",
              "<svg xmlns=\"http://www.w3.org/2000/svg\" height=\"24px\"viewBox=\"0 0 24 24\"\n",
              "     width=\"24px\">\n",
              "    <g>\n",
              "        <path d=\"M19 3H5c-1.1 0-2 .9-2 2v14c0 1.1.9 2 2 2h14c1.1 0 2-.9 2-2V5c0-1.1-.9-2-2-2zM9 17H7v-7h2v7zm4 0h-2V7h2v10zm4 0h-2v-4h2v4z\"/>\n",
              "    </g>\n",
              "</svg>\n",
              "      </button>\n",
              "\n",
              "<style>\n",
              "  .colab-df-quickchart {\n",
              "      --bg-color: #E8F0FE;\n",
              "      --fill-color: #1967D2;\n",
              "      --hover-bg-color: #E2EBFA;\n",
              "      --hover-fill-color: #174EA6;\n",
              "      --disabled-fill-color: #AAA;\n",
              "      --disabled-bg-color: #DDD;\n",
              "  }\n",
              "\n",
              "  [theme=dark] .colab-df-quickchart {\n",
              "      --bg-color: #3B4455;\n",
              "      --fill-color: #D2E3FC;\n",
              "      --hover-bg-color: #434B5C;\n",
              "      --hover-fill-color: #FFFFFF;\n",
              "      --disabled-bg-color: #3B4455;\n",
              "      --disabled-fill-color: #666;\n",
              "  }\n",
              "\n",
              "  .colab-df-quickchart {\n",
              "    background-color: var(--bg-color);\n",
              "    border: none;\n",
              "    border-radius: 50%;\n",
              "    cursor: pointer;\n",
              "    display: none;\n",
              "    fill: var(--fill-color);\n",
              "    height: 32px;\n",
              "    padding: 0;\n",
              "    width: 32px;\n",
              "  }\n",
              "\n",
              "  .colab-df-quickchart:hover {\n",
              "    background-color: var(--hover-bg-color);\n",
              "    box-shadow: 0 1px 2px rgba(60, 64, 67, 0.3), 0 1px 3px 1px rgba(60, 64, 67, 0.15);\n",
              "    fill: var(--button-hover-fill-color);\n",
              "  }\n",
              "\n",
              "  .colab-df-quickchart-complete:disabled,\n",
              "  .colab-df-quickchart-complete:disabled:hover {\n",
              "    background-color: var(--disabled-bg-color);\n",
              "    fill: var(--disabled-fill-color);\n",
              "    box-shadow: none;\n",
              "  }\n",
              "\n",
              "  .colab-df-spinner {\n",
              "    border: 2px solid var(--fill-color);\n",
              "    border-color: transparent;\n",
              "    border-bottom-color: var(--fill-color);\n",
              "    animation:\n",
              "      spin 1s steps(1) infinite;\n",
              "  }\n",
              "\n",
              "  @keyframes spin {\n",
              "    0% {\n",
              "      border-color: transparent;\n",
              "      border-bottom-color: var(--fill-color);\n",
              "      border-left-color: var(--fill-color);\n",
              "    }\n",
              "    20% {\n",
              "      border-color: transparent;\n",
              "      border-left-color: var(--fill-color);\n",
              "      border-top-color: var(--fill-color);\n",
              "    }\n",
              "    30% {\n",
              "      border-color: transparent;\n",
              "      border-left-color: var(--fill-color);\n",
              "      border-top-color: var(--fill-color);\n",
              "      border-right-color: var(--fill-color);\n",
              "    }\n",
              "    40% {\n",
              "      border-color: transparent;\n",
              "      border-right-color: var(--fill-color);\n",
              "      border-top-color: var(--fill-color);\n",
              "    }\n",
              "    60% {\n",
              "      border-color: transparent;\n",
              "      border-right-color: var(--fill-color);\n",
              "    }\n",
              "    80% {\n",
              "      border-color: transparent;\n",
              "      border-right-color: var(--fill-color);\n",
              "      border-bottom-color: var(--fill-color);\n",
              "    }\n",
              "    90% {\n",
              "      border-color: transparent;\n",
              "      border-bottom-color: var(--fill-color);\n",
              "    }\n",
              "  }\n",
              "</style>\n",
              "\n",
              "      <script>\n",
              "        async function quickchart(key) {\n",
              "          const quickchartButtonEl =\n",
              "            document.querySelector('#' + key + ' button');\n",
              "          quickchartButtonEl.disabled = true;  // To prevent multiple clicks.\n",
              "          quickchartButtonEl.classList.add('colab-df-spinner');\n",
              "          try {\n",
              "            const charts = await google.colab.kernel.invokeFunction(\n",
              "                'suggestCharts', [key], {});\n",
              "          } catch (error) {\n",
              "            console.error('Error during call to suggestCharts:', error);\n",
              "          }\n",
              "          quickchartButtonEl.classList.remove('colab-df-spinner');\n",
              "          quickchartButtonEl.classList.add('colab-df-quickchart-complete');\n",
              "        }\n",
              "        (() => {\n",
              "          let quickchartButtonEl =\n",
              "            document.querySelector('#df-288f3c97-6754-44da-93ee-6d9f8721b5a6 button');\n",
              "          quickchartButtonEl.style.display =\n",
              "            google.colab.kernel.accessAllowed ? 'block' : 'none';\n",
              "        })();\n",
              "      </script>\n",
              "    </div>\n",
              "\n",
              "    </div>\n",
              "  </div>\n"
            ],
            "application/vnd.google.colaboratory.intrinsic+json": {
              "type": "dataframe",
              "variable_name": "df",
              "summary": "{\n  \"name\": \"df\",\n  \"rows\": 4915,\n  \"fields\": [\n    {\n      \"column\": \"reviewerID\",\n      \"properties\": {\n        \"dtype\": \"string\",\n        \"num_unique_values\": 4915,\n        \"samples\": [\n          \"A3V5DNLW7DPMUA\",\n          \"A1F08OEM2LEJLK\",\n          \"AOOJ8Y18T3DGM\"\n        ],\n        \"semantic_type\": \"\",\n        \"description\": \"\"\n      }\n    },\n    {\n      \"column\": \"asin\",\n      \"properties\": {\n        \"dtype\": \"category\",\n        \"num_unique_values\": 1,\n        \"samples\": [\n          \"B007WTAJTO\"\n        ],\n        \"semantic_type\": \"\",\n        \"description\": \"\"\n      }\n    },\n    {\n      \"column\": \"reviewerName\",\n      \"properties\": {\n        \"dtype\": \"string\",\n        \"num_unique_values\": 4594,\n        \"samples\": [\n          \"nta699\"\n        ],\n        \"semantic_type\": \"\",\n        \"description\": \"\"\n      }\n    },\n    {\n      \"column\": \"helpful\",\n      \"properties\": {\n        \"dtype\": \"category\",\n        \"num_unique_values\": 42,\n        \"samples\": [\n          \"[1952, 2020]\"\n        ],\n        \"semantic_type\": \"\",\n        \"description\": \"\"\n      }\n    },\n    {\n      \"column\": \"reviewText\",\n      \"properties\": {\n        \"dtype\": \"string\",\n        \"num_unique_values\": 4912,\n        \"samples\": [\n          \"Bought this for extended memory in a Galaxy S III.  Great price. Easy to install and the phone recognized it instantly. Does what its supposed to do.\"\n        ],\n        \"semantic_type\": \"\",\n        \"description\": \"\"\n      }\n    },\n    {\n      \"column\": \"overall\",\n      \"properties\": {\n        \"dtype\": \"number\",\n        \"std\": 0.9968451383820023,\n        \"min\": 1.0,\n        \"max\": 5.0,\n        \"num_unique_values\": 5,\n        \"samples\": [\n          5.0\n        ],\n        \"semantic_type\": \"\",\n        \"description\": \"\"\n      }\n    },\n    {\n      \"column\": \"summary\",\n      \"properties\": {\n        \"dtype\": \"string\",\n        \"num_unique_values\": 3885,\n        \"samples\": [\n          \"NICE!!!\"\n        ],\n        \"semantic_type\": \"\",\n        \"description\": \"\"\n      }\n    },\n    {\n      \"column\": \"unixReviewTime\",\n      \"properties\": {\n        \"dtype\": \"number\",\n        \"std\": 15818574,\n        \"min\": 1339200000,\n        \"max\": 1406073600,\n        \"num_unique_values\": 690,\n        \"samples\": [\n          1386028800\n        ],\n        \"semantic_type\": \"\",\n        \"description\": \"\"\n      }\n    },\n    {\n      \"column\": \"reviewTime\",\n      \"properties\": {\n        \"dtype\": \"object\",\n        \"num_unique_values\": 690,\n        \"samples\": [\n          \"2013-03-12\"\n        ],\n        \"semantic_type\": \"\",\n        \"description\": \"\"\n      }\n    },\n    {\n      \"column\": \"day_diff\",\n      \"properties\": {\n        \"dtype\": \"number\",\n        \"std\": 209,\n        \"min\": 1,\n        \"max\": 1064,\n        \"num_unique_values\": 690,\n        \"samples\": [\n          636\n        ],\n        \"semantic_type\": \"\",\n        \"description\": \"\"\n      }\n    },\n    {\n      \"column\": \"helpful_yes\",\n      \"properties\": {\n        \"dtype\": \"number\",\n        \"std\": 41,\n        \"min\": 0,\n        \"max\": 1952,\n        \"num_unique_values\": 23,\n        \"samples\": [\n          1428\n        ],\n        \"semantic_type\": \"\",\n        \"description\": \"\"\n      }\n    },\n    {\n      \"column\": \"total_vote\",\n      \"properties\": {\n        \"dtype\": \"number\",\n        \"std\": 44,\n        \"min\": 0,\n        \"max\": 2020,\n        \"num_unique_values\": 26,\n        \"samples\": [\n          495\n        ],\n        \"semantic_type\": \"\",\n        \"description\": \"\"\n      }\n    }\n  ]\n}"
            }
          },
          "metadata": {},
          "execution_count": 9
        }
      ]
    },
    {
      "cell_type": "markdown",
      "source": [
        "<a id=\"section-4\"></a>\n",
        "# <div style=\"padding: 30px; color:white; margin:10; font-size:75%; text-align:left; display:fill; border-radius:10px; background-color:#3b3745\"><b><span style='color:#F1A424'>3.1. |</span></b> <b>Normalizing Case Folding</b></div>"
      ],
      "metadata": {
        "id": "p-XMwPPgxU_M"
      }
    },
    {
      "cell_type": "markdown",
      "source": [
        "<blockquote style=\"border-left: 3px solid #ffcc00; background-color: #f9f9f9; padding: 10px 20px; margin: 20px 0;\">\n",
        "    <p style=\"font-style: italic;\">In the first step of our NLP project, we converted the comments in the 'reviewText' column to lowercase. This standardizes the data into a uniform format, eliminating inconsistencies that might arise from differences in case sensitivity during the text processing phase.</p>\n",
        "</blockquote>\n"
      ],
      "metadata": {
        "id": "nIfOz5uRxU_M"
      }
    },
    {
      "cell_type": "code",
      "source": [
        "df['reviewText']"
      ],
      "metadata": {
        "execution": {
          "iopub.status.busy": "2024-01-08T10:37:20.178356Z",
          "iopub.execute_input": "2024-01-08T10:37:20.179487Z",
          "iopub.status.idle": "2024-01-08T10:37:20.19285Z",
          "shell.execute_reply.started": "2024-01-08T10:37:20.179425Z",
          "shell.execute_reply": "2024-01-08T10:37:20.191726Z"
        },
        "trusted": true,
        "id": "qeacBudBxU_M",
        "outputId": "f5014654-b1c3-4b44-a4d5-62fcad9d7396",
        "colab": {
          "base_uri": "https://localhost:8080/",
          "height": 458
        }
      },
      "execution_count": 10,
      "outputs": [
        {
          "output_type": "execute_result",
          "data": {
            "text/plain": [
              "0                                              No issues.\n",
              "1       Purchased this for my device, it worked as adv...\n",
              "2       it works as expected. I should have sprung for...\n",
              "3       This think has worked out great.Had a diff. br...\n",
              "4       Bought it with Retail Packaging, arrived legit...\n",
              "                              ...                        \n",
              "4910    I bought this Sandisk 16GB Class 10 to use wit...\n",
              "4911    Used this for extending the capabilities of my...\n",
              "4912    Great card that is very fast and reliable. It ...\n",
              "4913    Good amount of space for the stuff I want to d...\n",
              "4914    I've heard bad things about this 64gb Micro SD...\n",
              "Name: reviewText, Length: 4915, dtype: object"
            ],
            "text/html": [
              "<div>\n",
              "<style scoped>\n",
              "    .dataframe tbody tr th:only-of-type {\n",
              "        vertical-align: middle;\n",
              "    }\n",
              "\n",
              "    .dataframe tbody tr th {\n",
              "        vertical-align: top;\n",
              "    }\n",
              "\n",
              "    .dataframe thead th {\n",
              "        text-align: right;\n",
              "    }\n",
              "</style>\n",
              "<table border=\"1\" class=\"dataframe\">\n",
              "  <thead>\n",
              "    <tr style=\"text-align: right;\">\n",
              "      <th></th>\n",
              "      <th>reviewText</th>\n",
              "    </tr>\n",
              "  </thead>\n",
              "  <tbody>\n",
              "    <tr>\n",
              "      <th>0</th>\n",
              "      <td>No issues.</td>\n",
              "    </tr>\n",
              "    <tr>\n",
              "      <th>1</th>\n",
              "      <td>Purchased this for my device, it worked as adv...</td>\n",
              "    </tr>\n",
              "    <tr>\n",
              "      <th>2</th>\n",
              "      <td>it works as expected. I should have sprung for...</td>\n",
              "    </tr>\n",
              "    <tr>\n",
              "      <th>3</th>\n",
              "      <td>This think has worked out great.Had a diff. br...</td>\n",
              "    </tr>\n",
              "    <tr>\n",
              "      <th>4</th>\n",
              "      <td>Bought it with Retail Packaging, arrived legit...</td>\n",
              "    </tr>\n",
              "    <tr>\n",
              "      <th>...</th>\n",
              "      <td>...</td>\n",
              "    </tr>\n",
              "    <tr>\n",
              "      <th>4910</th>\n",
              "      <td>I bought this Sandisk 16GB Class 10 to use wit...</td>\n",
              "    </tr>\n",
              "    <tr>\n",
              "      <th>4911</th>\n",
              "      <td>Used this for extending the capabilities of my...</td>\n",
              "    </tr>\n",
              "    <tr>\n",
              "      <th>4912</th>\n",
              "      <td>Great card that is very fast and reliable. It ...</td>\n",
              "    </tr>\n",
              "    <tr>\n",
              "      <th>4913</th>\n",
              "      <td>Good amount of space for the stuff I want to d...</td>\n",
              "    </tr>\n",
              "    <tr>\n",
              "      <th>4914</th>\n",
              "      <td>I've heard bad things about this 64gb Micro SD...</td>\n",
              "    </tr>\n",
              "  </tbody>\n",
              "</table>\n",
              "<p>4915 rows × 1 columns</p>\n",
              "</div><br><label><b>dtype:</b> object</label>"
            ]
          },
          "metadata": {},
          "execution_count": 10
        }
      ]
    },
    {
      "cell_type": "code",
      "source": [
        "df['reviewText'] = df['reviewText'].str.lower()"
      ],
      "metadata": {
        "execution": {
          "iopub.status.busy": "2024-01-08T10:37:35.384482Z",
          "iopub.execute_input": "2024-01-08T10:37:35.385248Z",
          "iopub.status.idle": "2024-01-08T10:37:35.399553Z",
          "shell.execute_reply.started": "2024-01-08T10:37:35.385198Z",
          "shell.execute_reply": "2024-01-08T10:37:35.398134Z"
        },
        "trusted": true,
        "id": "ktCJgFmnxU_M"
      },
      "execution_count": 11,
      "outputs": []
    },
    {
      "cell_type": "code",
      "source": [
        "df['reviewText']"
      ],
      "metadata": {
        "execution": {
          "iopub.status.busy": "2024-01-08T10:37:37.06099Z",
          "iopub.execute_input": "2024-01-08T10:37:37.061869Z",
          "iopub.status.idle": "2024-01-08T10:37:37.072542Z",
          "shell.execute_reply.started": "2024-01-08T10:37:37.061821Z",
          "shell.execute_reply": "2024-01-08T10:37:37.071117Z"
        },
        "trusted": true,
        "id": "kLhcfpJzxU_M",
        "outputId": "52f2c599-ff16-461c-f821-35b0aa78ab10",
        "colab": {
          "base_uri": "https://localhost:8080/",
          "height": 458
        }
      },
      "execution_count": 12,
      "outputs": [
        {
          "output_type": "execute_result",
          "data": {
            "text/plain": [
              "0                                              no issues.\n",
              "1       purchased this for my device, it worked as adv...\n",
              "2       it works as expected. i should have sprung for...\n",
              "3       this think has worked out great.had a diff. br...\n",
              "4       bought it with retail packaging, arrived legit...\n",
              "                              ...                        \n",
              "4910    i bought this sandisk 16gb class 10 to use wit...\n",
              "4911    used this for extending the capabilities of my...\n",
              "4912    great card that is very fast and reliable. it ...\n",
              "4913    good amount of space for the stuff i want to d...\n",
              "4914    i've heard bad things about this 64gb micro sd...\n",
              "Name: reviewText, Length: 4915, dtype: object"
            ],
            "text/html": [
              "<div>\n",
              "<style scoped>\n",
              "    .dataframe tbody tr th:only-of-type {\n",
              "        vertical-align: middle;\n",
              "    }\n",
              "\n",
              "    .dataframe tbody tr th {\n",
              "        vertical-align: top;\n",
              "    }\n",
              "\n",
              "    .dataframe thead th {\n",
              "        text-align: right;\n",
              "    }\n",
              "</style>\n",
              "<table border=\"1\" class=\"dataframe\">\n",
              "  <thead>\n",
              "    <tr style=\"text-align: right;\">\n",
              "      <th></th>\n",
              "      <th>reviewText</th>\n",
              "    </tr>\n",
              "  </thead>\n",
              "  <tbody>\n",
              "    <tr>\n",
              "      <th>0</th>\n",
              "      <td>no issues.</td>\n",
              "    </tr>\n",
              "    <tr>\n",
              "      <th>1</th>\n",
              "      <td>purchased this for my device, it worked as adv...</td>\n",
              "    </tr>\n",
              "    <tr>\n",
              "      <th>2</th>\n",
              "      <td>it works as expected. i should have sprung for...</td>\n",
              "    </tr>\n",
              "    <tr>\n",
              "      <th>3</th>\n",
              "      <td>this think has worked out great.had a diff. br...</td>\n",
              "    </tr>\n",
              "    <tr>\n",
              "      <th>4</th>\n",
              "      <td>bought it with retail packaging, arrived legit...</td>\n",
              "    </tr>\n",
              "    <tr>\n",
              "      <th>...</th>\n",
              "      <td>...</td>\n",
              "    </tr>\n",
              "    <tr>\n",
              "      <th>4910</th>\n",
              "      <td>i bought this sandisk 16gb class 10 to use wit...</td>\n",
              "    </tr>\n",
              "    <tr>\n",
              "      <th>4911</th>\n",
              "      <td>used this for extending the capabilities of my...</td>\n",
              "    </tr>\n",
              "    <tr>\n",
              "      <th>4912</th>\n",
              "      <td>great card that is very fast and reliable. it ...</td>\n",
              "    </tr>\n",
              "    <tr>\n",
              "      <th>4913</th>\n",
              "      <td>good amount of space for the stuff i want to d...</td>\n",
              "    </tr>\n",
              "    <tr>\n",
              "      <th>4914</th>\n",
              "      <td>i've heard bad things about this 64gb micro sd...</td>\n",
              "    </tr>\n",
              "  </tbody>\n",
              "</table>\n",
              "<p>4915 rows × 1 columns</p>\n",
              "</div><br><label><b>dtype:</b> object</label>"
            ]
          },
          "metadata": {},
          "execution_count": 12
        }
      ]
    },
    {
      "cell_type": "markdown",
      "source": [
        "<a id=\"section-5\"></a>\n",
        "# <div style=\"padding: 30px; color:white; margin:10; font-size:75%; text-align:left; display:fill; border-radius:10px; background-color:#3b3745\"><b><span style='color:#F1A424'>3.2 |</span></b> <b>Punctuations</b></div>"
      ],
      "metadata": {
        "id": "FAaFtEtrxU_M"
      }
    },
    {
      "cell_type": "markdown",
      "source": [
        "<blockquote style=\"border-left: 3px solid #4CAF50; background-color: #f2f2f2; padding: 10px 20px; margin: 20px 0;\">\n",
        "    <p style=\"font-style: italic;\">In this step, we removed punctuation marks from the comments in the 'reviewText' column. This process aims to enhance the efficiency of our language processing tasks by making our text data cleaner and more suitable for analysis.</p>\n",
        "</blockquote>\n"
      ],
      "metadata": {
        "id": "HHfXi7PpxU_M"
      }
    },
    {
      "cell_type": "code",
      "source": [
        "df['reviewText'] = df['reviewText'].str.replace('[^\\w\\s]', '', regex=True)"
      ],
      "metadata": {
        "execution": {
          "iopub.status.busy": "2024-01-08T10:37:42.160884Z",
          "iopub.execute_input": "2024-01-08T10:37:42.161311Z",
          "iopub.status.idle": "2024-01-08T10:37:42.241677Z",
          "shell.execute_reply.started": "2024-01-08T10:37:42.161276Z",
          "shell.execute_reply": "2024-01-08T10:37:42.240484Z"
        },
        "trusted": true,
        "id": "SktybopJxU_M"
      },
      "execution_count": 13,
      "outputs": []
    },
    {
      "cell_type": "code",
      "source": [
        "df['reviewText']"
      ],
      "metadata": {
        "execution": {
          "iopub.status.busy": "2024-01-08T10:37:43.713176Z",
          "iopub.execute_input": "2024-01-08T10:37:43.713612Z",
          "iopub.status.idle": "2024-01-08T10:37:43.723898Z",
          "shell.execute_reply.started": "2024-01-08T10:37:43.713577Z",
          "shell.execute_reply": "2024-01-08T10:37:43.72272Z"
        },
        "trusted": true,
        "id": "v8VWXrC5xU_M",
        "outputId": "b862276e-729f-418b-80aa-8518ffc8b5b6",
        "colab": {
          "base_uri": "https://localhost:8080/",
          "height": 458
        }
      },
      "execution_count": 14,
      "outputs": [
        {
          "output_type": "execute_result",
          "data": {
            "text/plain": [
              "0                                               no issues\n",
              "1       purchased this for my device it worked as adve...\n",
              "2       it works as expected i should have sprung for ...\n",
              "3       this think has worked out greathad a diff bran...\n",
              "4       bought it with retail packaging arrived legit ...\n",
              "                              ...                        \n",
              "4910    i bought this sandisk 16gb class 10 to use wit...\n",
              "4911    used this for extending the capabilities of my...\n",
              "4912    great card that is very fast and reliable it c...\n",
              "4913    good amount of space for the stuff i want to d...\n",
              "4914    ive heard bad things about this 64gb micro sd ...\n",
              "Name: reviewText, Length: 4915, dtype: object"
            ],
            "text/html": [
              "<div>\n",
              "<style scoped>\n",
              "    .dataframe tbody tr th:only-of-type {\n",
              "        vertical-align: middle;\n",
              "    }\n",
              "\n",
              "    .dataframe tbody tr th {\n",
              "        vertical-align: top;\n",
              "    }\n",
              "\n",
              "    .dataframe thead th {\n",
              "        text-align: right;\n",
              "    }\n",
              "</style>\n",
              "<table border=\"1\" class=\"dataframe\">\n",
              "  <thead>\n",
              "    <tr style=\"text-align: right;\">\n",
              "      <th></th>\n",
              "      <th>reviewText</th>\n",
              "    </tr>\n",
              "  </thead>\n",
              "  <tbody>\n",
              "    <tr>\n",
              "      <th>0</th>\n",
              "      <td>no issues</td>\n",
              "    </tr>\n",
              "    <tr>\n",
              "      <th>1</th>\n",
              "      <td>purchased this for my device it worked as adve...</td>\n",
              "    </tr>\n",
              "    <tr>\n",
              "      <th>2</th>\n",
              "      <td>it works as expected i should have sprung for ...</td>\n",
              "    </tr>\n",
              "    <tr>\n",
              "      <th>3</th>\n",
              "      <td>this think has worked out greathad a diff bran...</td>\n",
              "    </tr>\n",
              "    <tr>\n",
              "      <th>4</th>\n",
              "      <td>bought it with retail packaging arrived legit ...</td>\n",
              "    </tr>\n",
              "    <tr>\n",
              "      <th>...</th>\n",
              "      <td>...</td>\n",
              "    </tr>\n",
              "    <tr>\n",
              "      <th>4910</th>\n",
              "      <td>i bought this sandisk 16gb class 10 to use wit...</td>\n",
              "    </tr>\n",
              "    <tr>\n",
              "      <th>4911</th>\n",
              "      <td>used this for extending the capabilities of my...</td>\n",
              "    </tr>\n",
              "    <tr>\n",
              "      <th>4912</th>\n",
              "      <td>great card that is very fast and reliable it c...</td>\n",
              "    </tr>\n",
              "    <tr>\n",
              "      <th>4913</th>\n",
              "      <td>good amount of space for the stuff i want to d...</td>\n",
              "    </tr>\n",
              "    <tr>\n",
              "      <th>4914</th>\n",
              "      <td>ive heard bad things about this 64gb micro sd ...</td>\n",
              "    </tr>\n",
              "  </tbody>\n",
              "</table>\n",
              "<p>4915 rows × 1 columns</p>\n",
              "</div><br><label><b>dtype:</b> object</label>"
            ]
          },
          "metadata": {},
          "execution_count": 14
        }
      ]
    },
    {
      "cell_type": "markdown",
      "source": [
        "<a id=\"section-6\"></a>\n",
        "# <div style=\"padding: 30px; color:white; margin:10; font-size:75%; text-align:left; display:fill; border-radius:10px; background-color:#3b3745\"><b><span style='color:#F1A424'>3.3. |</span></b> <b>Numbers</b></div>"
      ],
      "metadata": {
        "id": "uowB6NzSxU_M"
      }
    },
    {
      "cell_type": "markdown",
      "source": [
        "<blockquote style=\"border-left: 3px solid #2196F3; background-color: #e3f2fd; padding: 10px 20px; margin: 20px 0;\">\n",
        "    <p style=\"font-style: italic;\">In this step, we removed numerical characters from the comments in the 'reviewText' column. By eliminating numbers from the text, this process enables us to focus more on our language processing and text analysis tasks. Consequently, we can concentrate solely on the textual content, allowing for cleaner and more meaningful data analysis.</p>\n",
        "</blockquote>\n"
      ],
      "metadata": {
        "id": "pmIFxvB6xU_M"
      }
    },
    {
      "cell_type": "code",
      "source": [
        "df['reviewText'] = df['reviewText'].str.replace('\\d', '', regex=True)"
      ],
      "metadata": {
        "execution": {
          "iopub.status.busy": "2024-01-08T10:37:47.20908Z",
          "iopub.execute_input": "2024-01-08T10:37:47.209816Z",
          "iopub.status.idle": "2024-01-08T10:37:47.25134Z",
          "shell.execute_reply.started": "2024-01-08T10:37:47.209779Z",
          "shell.execute_reply": "2024-01-08T10:37:47.250404Z"
        },
        "trusted": true,
        "id": "SDLof-FRxU_N"
      },
      "execution_count": 15,
      "outputs": []
    },
    {
      "cell_type": "code",
      "source": [
        "df['reviewText']"
      ],
      "metadata": {
        "execution": {
          "iopub.status.busy": "2024-01-08T10:37:49.608768Z",
          "iopub.execute_input": "2024-01-08T10:37:49.609191Z",
          "iopub.status.idle": "2024-01-08T10:37:49.619001Z",
          "shell.execute_reply.started": "2024-01-08T10:37:49.609158Z",
          "shell.execute_reply": "2024-01-08T10:37:49.617667Z"
        },
        "trusted": true,
        "id": "LIu3NFr8xU_N",
        "outputId": "e2980f8f-4bc3-4214-b802-144124d676cc",
        "colab": {
          "base_uri": "https://localhost:8080/",
          "height": 458
        }
      },
      "execution_count": 16,
      "outputs": [
        {
          "output_type": "execute_result",
          "data": {
            "text/plain": [
              "0                                               no issues\n",
              "1       purchased this for my device it worked as adve...\n",
              "2       it works as expected i should have sprung for ...\n",
              "3       this think has worked out greathad a diff bran...\n",
              "4       bought it with retail packaging arrived legit ...\n",
              "                              ...                        \n",
              "4910    i bought this sandisk gb class  to use with my...\n",
              "4911    used this for extending the capabilities of my...\n",
              "4912    great card that is very fast and reliable it c...\n",
              "4913    good amount of space for the stuff i want to d...\n",
              "4914    ive heard bad things about this gb micro sd ca...\n",
              "Name: reviewText, Length: 4915, dtype: object"
            ],
            "text/html": [
              "<div>\n",
              "<style scoped>\n",
              "    .dataframe tbody tr th:only-of-type {\n",
              "        vertical-align: middle;\n",
              "    }\n",
              "\n",
              "    .dataframe tbody tr th {\n",
              "        vertical-align: top;\n",
              "    }\n",
              "\n",
              "    .dataframe thead th {\n",
              "        text-align: right;\n",
              "    }\n",
              "</style>\n",
              "<table border=\"1\" class=\"dataframe\">\n",
              "  <thead>\n",
              "    <tr style=\"text-align: right;\">\n",
              "      <th></th>\n",
              "      <th>reviewText</th>\n",
              "    </tr>\n",
              "  </thead>\n",
              "  <tbody>\n",
              "    <tr>\n",
              "      <th>0</th>\n",
              "      <td>no issues</td>\n",
              "    </tr>\n",
              "    <tr>\n",
              "      <th>1</th>\n",
              "      <td>purchased this for my device it worked as adve...</td>\n",
              "    </tr>\n",
              "    <tr>\n",
              "      <th>2</th>\n",
              "      <td>it works as expected i should have sprung for ...</td>\n",
              "    </tr>\n",
              "    <tr>\n",
              "      <th>3</th>\n",
              "      <td>this think has worked out greathad a diff bran...</td>\n",
              "    </tr>\n",
              "    <tr>\n",
              "      <th>4</th>\n",
              "      <td>bought it with retail packaging arrived legit ...</td>\n",
              "    </tr>\n",
              "    <tr>\n",
              "      <th>...</th>\n",
              "      <td>...</td>\n",
              "    </tr>\n",
              "    <tr>\n",
              "      <th>4910</th>\n",
              "      <td>i bought this sandisk gb class  to use with my...</td>\n",
              "    </tr>\n",
              "    <tr>\n",
              "      <th>4911</th>\n",
              "      <td>used this for extending the capabilities of my...</td>\n",
              "    </tr>\n",
              "    <tr>\n",
              "      <th>4912</th>\n",
              "      <td>great card that is very fast and reliable it c...</td>\n",
              "    </tr>\n",
              "    <tr>\n",
              "      <th>4913</th>\n",
              "      <td>good amount of space for the stuff i want to d...</td>\n",
              "    </tr>\n",
              "    <tr>\n",
              "      <th>4914</th>\n",
              "      <td>ive heard bad things about this gb micro sd ca...</td>\n",
              "    </tr>\n",
              "  </tbody>\n",
              "</table>\n",
              "<p>4915 rows × 1 columns</p>\n",
              "</div><br><label><b>dtype:</b> object</label>"
            ]
          },
          "metadata": {},
          "execution_count": 16
        }
      ]
    },
    {
      "cell_type": "markdown",
      "source": [
        "<a id=\"section-7\"></a>\n",
        "# <div style=\"padding: 30px; color:white; margin:10; font-size:75%; text-align:left; display:fill; border-radius:10px; background-color:#3b3745\"><b><span style='color:#F1A424'>3.4 |</span></b> <b>Stopwords</b></div>"
      ],
      "metadata": {
        "id": "puD8GGQFxU_N"
      }
    },
    {
      "cell_type": "markdown",
      "source": [
        "<blockquote style=\"border-left: 3px solid #9C27B0; background-color: #f3e5f5; padding: 10px 20px; margin: 20px 0;\">\n",
        "    <p style=\"font-style: italic;\">In this section, by removing frequently repeated and often meaningless words (such as 'the', 'is', 'in') from our texts, we can focus our analysis on more meaningful words. This allows us to better understand the essence of the comments and make our NLP processes more efficient.</p>\n",
        "</blockquote>\n"
      ],
      "metadata": {
        "id": "vsOwW9R_xU_N"
      }
    },
    {
      "cell_type": "code",
      "source": [
        "nltk.download('stopwords')"
      ],
      "metadata": {
        "execution": {
          "iopub.status.busy": "2024-01-08T10:37:54.576312Z",
          "iopub.execute_input": "2024-01-08T10:37:54.576733Z",
          "iopub.status.idle": "2024-01-08T10:37:54.648043Z",
          "shell.execute_reply.started": "2024-01-08T10:37:54.5767Z",
          "shell.execute_reply": "2024-01-08T10:37:54.646723Z"
        },
        "trusted": true,
        "id": "T947ro7nxU_N",
        "outputId": "44ca2eea-8ff1-460a-bc00-5f544d09565e",
        "colab": {
          "base_uri": "https://localhost:8080/"
        }
      },
      "execution_count": 17,
      "outputs": [
        {
          "output_type": "stream",
          "name": "stderr",
          "text": [
            "[nltk_data] Downloading package stopwords to /root/nltk_data...\n",
            "[nltk_data]   Unzipping corpora/stopwords.zip.\n"
          ]
        },
        {
          "output_type": "execute_result",
          "data": {
            "text/plain": [
              "True"
            ]
          },
          "metadata": {},
          "execution_count": 17
        }
      ]
    },
    {
      "cell_type": "code",
      "source": [
        "sw = stopwords.words('english')"
      ],
      "metadata": {
        "execution": {
          "iopub.status.busy": "2024-01-08T10:37:56.276064Z",
          "iopub.execute_input": "2024-01-08T10:37:56.276514Z",
          "iopub.status.idle": "2024-01-08T10:37:56.285202Z",
          "shell.execute_reply.started": "2024-01-08T10:37:56.276475Z",
          "shell.execute_reply": "2024-01-08T10:37:56.283997Z"
        },
        "trusted": true,
        "id": "Wn6fTKEnxU_N"
      },
      "execution_count": 18,
      "outputs": []
    },
    {
      "cell_type": "code",
      "source": [
        "sw"
      ],
      "metadata": {
        "execution": {
          "iopub.status.busy": "2024-01-08T10:37:58.440987Z",
          "iopub.execute_input": "2024-01-08T10:37:58.442054Z",
          "iopub.status.idle": "2024-01-08T10:37:58.454778Z",
          "shell.execute_reply.started": "2024-01-08T10:37:58.442001Z",
          "shell.execute_reply": "2024-01-08T10:37:58.453194Z"
        },
        "trusted": true,
        "id": "VINTIfMixU_N",
        "outputId": "fc21405d-c2f1-4b99-f278-192c4e85c1b4",
        "colab": {
          "base_uri": "https://localhost:8080/"
        }
      },
      "execution_count": 19,
      "outputs": [
        {
          "output_type": "execute_result",
          "data": {
            "text/plain": [
              "['a',\n",
              " 'about',\n",
              " 'above',\n",
              " 'after',\n",
              " 'again',\n",
              " 'against',\n",
              " 'ain',\n",
              " 'all',\n",
              " 'am',\n",
              " 'an',\n",
              " 'and',\n",
              " 'any',\n",
              " 'are',\n",
              " 'aren',\n",
              " \"aren't\",\n",
              " 'as',\n",
              " 'at',\n",
              " 'be',\n",
              " 'because',\n",
              " 'been',\n",
              " 'before',\n",
              " 'being',\n",
              " 'below',\n",
              " 'between',\n",
              " 'both',\n",
              " 'but',\n",
              " 'by',\n",
              " 'can',\n",
              " 'couldn',\n",
              " \"couldn't\",\n",
              " 'd',\n",
              " 'did',\n",
              " 'didn',\n",
              " \"didn't\",\n",
              " 'do',\n",
              " 'does',\n",
              " 'doesn',\n",
              " \"doesn't\",\n",
              " 'doing',\n",
              " 'don',\n",
              " \"don't\",\n",
              " 'down',\n",
              " 'during',\n",
              " 'each',\n",
              " 'few',\n",
              " 'for',\n",
              " 'from',\n",
              " 'further',\n",
              " 'had',\n",
              " 'hadn',\n",
              " \"hadn't\",\n",
              " 'has',\n",
              " 'hasn',\n",
              " \"hasn't\",\n",
              " 'have',\n",
              " 'haven',\n",
              " \"haven't\",\n",
              " 'having',\n",
              " 'he',\n",
              " \"he'd\",\n",
              " \"he'll\",\n",
              " 'her',\n",
              " 'here',\n",
              " 'hers',\n",
              " 'herself',\n",
              " \"he's\",\n",
              " 'him',\n",
              " 'himself',\n",
              " 'his',\n",
              " 'how',\n",
              " 'i',\n",
              " \"i'd\",\n",
              " 'if',\n",
              " \"i'll\",\n",
              " \"i'm\",\n",
              " 'in',\n",
              " 'into',\n",
              " 'is',\n",
              " 'isn',\n",
              " \"isn't\",\n",
              " 'it',\n",
              " \"it'd\",\n",
              " \"it'll\",\n",
              " \"it's\",\n",
              " 'its',\n",
              " 'itself',\n",
              " \"i've\",\n",
              " 'just',\n",
              " 'll',\n",
              " 'm',\n",
              " 'ma',\n",
              " 'me',\n",
              " 'mightn',\n",
              " \"mightn't\",\n",
              " 'more',\n",
              " 'most',\n",
              " 'mustn',\n",
              " \"mustn't\",\n",
              " 'my',\n",
              " 'myself',\n",
              " 'needn',\n",
              " \"needn't\",\n",
              " 'no',\n",
              " 'nor',\n",
              " 'not',\n",
              " 'now',\n",
              " 'o',\n",
              " 'of',\n",
              " 'off',\n",
              " 'on',\n",
              " 'once',\n",
              " 'only',\n",
              " 'or',\n",
              " 'other',\n",
              " 'our',\n",
              " 'ours',\n",
              " 'ourselves',\n",
              " 'out',\n",
              " 'over',\n",
              " 'own',\n",
              " 're',\n",
              " 's',\n",
              " 'same',\n",
              " 'shan',\n",
              " \"shan't\",\n",
              " 'she',\n",
              " \"she'd\",\n",
              " \"she'll\",\n",
              " \"she's\",\n",
              " 'should',\n",
              " 'shouldn',\n",
              " \"shouldn't\",\n",
              " \"should've\",\n",
              " 'so',\n",
              " 'some',\n",
              " 'such',\n",
              " 't',\n",
              " 'than',\n",
              " 'that',\n",
              " \"that'll\",\n",
              " 'the',\n",
              " 'their',\n",
              " 'theirs',\n",
              " 'them',\n",
              " 'themselves',\n",
              " 'then',\n",
              " 'there',\n",
              " 'these',\n",
              " 'they',\n",
              " \"they'd\",\n",
              " \"they'll\",\n",
              " \"they're\",\n",
              " \"they've\",\n",
              " 'this',\n",
              " 'those',\n",
              " 'through',\n",
              " 'to',\n",
              " 'too',\n",
              " 'under',\n",
              " 'until',\n",
              " 'up',\n",
              " 've',\n",
              " 'very',\n",
              " 'was',\n",
              " 'wasn',\n",
              " \"wasn't\",\n",
              " 'we',\n",
              " \"we'd\",\n",
              " \"we'll\",\n",
              " \"we're\",\n",
              " 'were',\n",
              " 'weren',\n",
              " \"weren't\",\n",
              " \"we've\",\n",
              " 'what',\n",
              " 'when',\n",
              " 'where',\n",
              " 'which',\n",
              " 'while',\n",
              " 'who',\n",
              " 'whom',\n",
              " 'why',\n",
              " 'will',\n",
              " 'with',\n",
              " 'won',\n",
              " \"won't\",\n",
              " 'wouldn',\n",
              " \"wouldn't\",\n",
              " 'y',\n",
              " 'you',\n",
              " \"you'd\",\n",
              " \"you'll\",\n",
              " 'your',\n",
              " \"you're\",\n",
              " 'yours',\n",
              " 'yourself',\n",
              " 'yourselves',\n",
              " \"you've\"]"
            ]
          },
          "metadata": {},
          "execution_count": 19
        }
      ]
    },
    {
      "cell_type": "code",
      "source": [
        "df['reviewText'] = df['reviewText'].apply(lambda x: \" \".join(x for x in str(x).split() if x not in sw))"
      ],
      "metadata": {
        "execution": {
          "iopub.status.busy": "2024-01-08T10:38:03.396467Z",
          "iopub.execute_input": "2024-01-08T10:38:03.396902Z",
          "iopub.status.idle": "2024-01-08T10:38:03.945771Z",
          "shell.execute_reply.started": "2024-01-08T10:38:03.396853Z",
          "shell.execute_reply": "2024-01-08T10:38:03.944114Z"
        },
        "trusted": true,
        "id": "_r3VTWKixU_N"
      },
      "execution_count": 20,
      "outputs": []
    },
    {
      "cell_type": "code",
      "source": [
        "df['reviewText']"
      ],
      "metadata": {
        "execution": {
          "iopub.status.busy": "2024-01-08T10:38:05.299951Z",
          "iopub.execute_input": "2024-01-08T10:38:05.300378Z",
          "iopub.status.idle": "2024-01-08T10:38:05.312012Z",
          "shell.execute_reply.started": "2024-01-08T10:38:05.300342Z",
          "shell.execute_reply": "2024-01-08T10:38:05.310509Z"
        },
        "trusted": true,
        "id": "i1X4vFE_xU_N",
        "outputId": "ffab7c93-e143-4861-d38a-dc9a0bf838e0",
        "colab": {
          "base_uri": "https://localhost:8080/",
          "height": 458
        }
      },
      "execution_count": 21,
      "outputs": [
        {
          "output_type": "execute_result",
          "data": {
            "text/plain": [
              "0                                                  issues\n",
              "1       purchased device worked advertised never much ...\n",
              "2       works expected sprung higher capacity think ma...\n",
              "3       think worked greathad diff bran gb card went s...\n",
              "4       bought retail packaging arrived legit orange e...\n",
              "                              ...                        \n",
              "4910    bought sandisk gb class use htc inspire months...\n",
              "4911    used extending capabilities samsung galaxy not...\n",
              "4912    great card fast reliable comes optional adapte...\n",
              "4913          good amount space stuff want fits gopro say\n",
              "4914    ive heard bad things gb micro sd card crapping...\n",
              "Name: reviewText, Length: 4915, dtype: object"
            ],
            "text/html": [
              "<div>\n",
              "<style scoped>\n",
              "    .dataframe tbody tr th:only-of-type {\n",
              "        vertical-align: middle;\n",
              "    }\n",
              "\n",
              "    .dataframe tbody tr th {\n",
              "        vertical-align: top;\n",
              "    }\n",
              "\n",
              "    .dataframe thead th {\n",
              "        text-align: right;\n",
              "    }\n",
              "</style>\n",
              "<table border=\"1\" class=\"dataframe\">\n",
              "  <thead>\n",
              "    <tr style=\"text-align: right;\">\n",
              "      <th></th>\n",
              "      <th>reviewText</th>\n",
              "    </tr>\n",
              "  </thead>\n",
              "  <tbody>\n",
              "    <tr>\n",
              "      <th>0</th>\n",
              "      <td>issues</td>\n",
              "    </tr>\n",
              "    <tr>\n",
              "      <th>1</th>\n",
              "      <td>purchased device worked advertised never much ...</td>\n",
              "    </tr>\n",
              "    <tr>\n",
              "      <th>2</th>\n",
              "      <td>works expected sprung higher capacity think ma...</td>\n",
              "    </tr>\n",
              "    <tr>\n",
              "      <th>3</th>\n",
              "      <td>think worked greathad diff bran gb card went s...</td>\n",
              "    </tr>\n",
              "    <tr>\n",
              "      <th>4</th>\n",
              "      <td>bought retail packaging arrived legit orange e...</td>\n",
              "    </tr>\n",
              "    <tr>\n",
              "      <th>...</th>\n",
              "      <td>...</td>\n",
              "    </tr>\n",
              "    <tr>\n",
              "      <th>4910</th>\n",
              "      <td>bought sandisk gb class use htc inspire months...</td>\n",
              "    </tr>\n",
              "    <tr>\n",
              "      <th>4911</th>\n",
              "      <td>used extending capabilities samsung galaxy not...</td>\n",
              "    </tr>\n",
              "    <tr>\n",
              "      <th>4912</th>\n",
              "      <td>great card fast reliable comes optional adapte...</td>\n",
              "    </tr>\n",
              "    <tr>\n",
              "      <th>4913</th>\n",
              "      <td>good amount space stuff want fits gopro say</td>\n",
              "    </tr>\n",
              "    <tr>\n",
              "      <th>4914</th>\n",
              "      <td>ive heard bad things gb micro sd card crapping...</td>\n",
              "    </tr>\n",
              "  </tbody>\n",
              "</table>\n",
              "<p>4915 rows × 1 columns</p>\n",
              "</div><br><label><b>dtype:</b> object</label>"
            ]
          },
          "metadata": {},
          "execution_count": 21
        }
      ]
    },
    {
      "cell_type": "markdown",
      "source": [
        "<a id=\"section-8\"></a>\n",
        "# <div style=\"padding: 30px; color:white; margin:10; font-size:75%; text-align:left; display:fill; border-radius:10px; background-color:#3b3745\"><b><span style='color:#F1A424'>3.5. |</span></b> <b>Rarewords</b></div>"
      ],
      "metadata": {
        "id": "LBHPPwhfxU_N"
      }
    },
    {
      "cell_type": "markdown",
      "source": [
        "<blockquote style=\"border-left: 3px solid #FF9800; background-color: #FFF3E0; padding: 10px 20px; margin: 20px 0;\">\n",
        "    <p style=\"font-style: italic;\">In this step, we first combined all comments in the 'reviewText' column, then split the resulting text into words and calculated the frequency of each word. As a result of this process, we identified words that only appear once. Subsequently, we removed these rarely used words from the comments in the 'reviewText' column. This process helps in eliminating words with low semantic weight and frequency in our texts, thereby allowing our NLP analyses to focus on more significant words.</p>\n",
        "</blockquote>\n"
      ],
      "metadata": {
        "id": "lXhHOI4hxU_N"
      }
    },
    {
      "cell_type": "code",
      "source": [
        "temp_df = pd.Series(' '.join(df['reviewText']).split()).value_counts()"
      ],
      "metadata": {
        "execution": {
          "iopub.status.busy": "2024-01-08T10:38:08.489488Z",
          "iopub.execute_input": "2024-01-08T10:38:08.490236Z",
          "iopub.status.idle": "2024-01-08T10:38:08.561034Z",
          "shell.execute_reply.started": "2024-01-08T10:38:08.490188Z",
          "shell.execute_reply": "2024-01-08T10:38:08.559728Z"
        },
        "trusted": true,
        "id": "ag7B0jz3xU_N"
      },
      "execution_count": 22,
      "outputs": []
    },
    {
      "cell_type": "code",
      "source": [
        "temp_df"
      ],
      "metadata": {
        "execution": {
          "iopub.status.busy": "2024-01-08T10:38:09.704286Z",
          "iopub.execute_input": "2024-01-08T10:38:09.704734Z",
          "iopub.status.idle": "2024-01-08T10:38:09.715864Z",
          "shell.execute_reply.started": "2024-01-08T10:38:09.704692Z",
          "shell.execute_reply": "2024-01-08T10:38:09.714478Z"
        },
        "trusted": true,
        "id": "nlSiZZohxU_N",
        "outputId": "c3572cb8-151d-4dd0-ffdb-33e95a875f79",
        "colab": {
          "base_uri": "https://localhost:8080/",
          "height": 458
        }
      },
      "execution_count": 23,
      "outputs": [
        {
          "output_type": "execute_result",
          "data": {
            "text/plain": [
              "card           4603\n",
              "gb             1725\n",
              "phone          1685\n",
              "works          1559\n",
              "great          1445\n",
              "               ... \n",
              "outmoded          1\n",
              "stocking          1\n",
              "cardsso           1\n",
              "requirement       1\n",
              "packageill        1\n",
              "Name: count, Length: 9701, dtype: int64"
            ],
            "text/html": [
              "<div>\n",
              "<style scoped>\n",
              "    .dataframe tbody tr th:only-of-type {\n",
              "        vertical-align: middle;\n",
              "    }\n",
              "\n",
              "    .dataframe tbody tr th {\n",
              "        vertical-align: top;\n",
              "    }\n",
              "\n",
              "    .dataframe thead th {\n",
              "        text-align: right;\n",
              "    }\n",
              "</style>\n",
              "<table border=\"1\" class=\"dataframe\">\n",
              "  <thead>\n",
              "    <tr style=\"text-align: right;\">\n",
              "      <th></th>\n",
              "      <th>count</th>\n",
              "    </tr>\n",
              "  </thead>\n",
              "  <tbody>\n",
              "    <tr>\n",
              "      <th>card</th>\n",
              "      <td>4603</td>\n",
              "    </tr>\n",
              "    <tr>\n",
              "      <th>gb</th>\n",
              "      <td>1725</td>\n",
              "    </tr>\n",
              "    <tr>\n",
              "      <th>phone</th>\n",
              "      <td>1685</td>\n",
              "    </tr>\n",
              "    <tr>\n",
              "      <th>works</th>\n",
              "      <td>1559</td>\n",
              "    </tr>\n",
              "    <tr>\n",
              "      <th>great</th>\n",
              "      <td>1445</td>\n",
              "    </tr>\n",
              "    <tr>\n",
              "      <th>...</th>\n",
              "      <td>...</td>\n",
              "    </tr>\n",
              "    <tr>\n",
              "      <th>outmoded</th>\n",
              "      <td>1</td>\n",
              "    </tr>\n",
              "    <tr>\n",
              "      <th>stocking</th>\n",
              "      <td>1</td>\n",
              "    </tr>\n",
              "    <tr>\n",
              "      <th>cardsso</th>\n",
              "      <td>1</td>\n",
              "    </tr>\n",
              "    <tr>\n",
              "      <th>requirement</th>\n",
              "      <td>1</td>\n",
              "    </tr>\n",
              "    <tr>\n",
              "      <th>packageill</th>\n",
              "      <td>1</td>\n",
              "    </tr>\n",
              "  </tbody>\n",
              "</table>\n",
              "<p>9701 rows × 1 columns</p>\n",
              "</div><br><label><b>dtype:</b> int64</label>"
            ]
          },
          "metadata": {},
          "execution_count": 23
        }
      ]
    },
    {
      "cell_type": "code",
      "source": [
        "drops = temp_df[temp_df <= 1]"
      ],
      "metadata": {
        "execution": {
          "iopub.status.busy": "2024-01-08T10:38:11.760419Z",
          "iopub.execute_input": "2024-01-08T10:38:11.760857Z",
          "iopub.status.idle": "2024-01-08T10:38:11.767655Z",
          "shell.execute_reply.started": "2024-01-08T10:38:11.760825Z",
          "shell.execute_reply": "2024-01-08T10:38:11.766337Z"
        },
        "trusted": true,
        "id": "W42B_61TxU_R"
      },
      "execution_count": 24,
      "outputs": []
    },
    {
      "cell_type": "code",
      "source": [
        "df['reviewText'] = df['reviewText'].apply(lambda x: \" \".join(x for x in x.split() if x not in drops))"
      ],
      "metadata": {
        "execution": {
          "iopub.status.busy": "2024-01-08T10:38:13.998708Z",
          "iopub.execute_input": "2024-01-08T10:38:13.999092Z",
          "iopub.status.idle": "2024-01-08T10:38:14.452769Z",
          "shell.execute_reply.started": "2024-01-08T10:38:13.999063Z",
          "shell.execute_reply": "2024-01-08T10:38:14.451585Z"
        },
        "trusted": true,
        "id": "rHaGKH1_xU_R"
      },
      "execution_count": 25,
      "outputs": []
    },
    {
      "cell_type": "code",
      "source": [
        "df['reviewText']"
      ],
      "metadata": {
        "execution": {
          "iopub.status.busy": "2024-01-08T10:38:16.181356Z",
          "iopub.execute_input": "2024-01-08T10:38:16.182056Z",
          "iopub.status.idle": "2024-01-08T10:38:16.192728Z",
          "shell.execute_reply.started": "2024-01-08T10:38:16.18202Z",
          "shell.execute_reply": "2024-01-08T10:38:16.191458Z"
        },
        "trusted": true,
        "id": "L8r3JZODxU_R",
        "outputId": "5912bd87-5eeb-444a-dbd9-c376b571896a",
        "colab": {
          "base_uri": "https://localhost:8080/",
          "height": 458
        }
      },
      "execution_count": 26,
      "outputs": [
        {
          "output_type": "execute_result",
          "data": {
            "text/plain": [
              "0                                                  issues\n",
              "1       purchased device worked advertised never much ...\n",
              "2       works expected higher capacity think made bit ...\n",
              "3       think worked gb card went south one held prett...\n",
              "4       bought retail packaging arrived legit envelope...\n",
              "                              ...                        \n",
              "4910    bought sandisk gb class use htc inspire months...\n",
              "4911    used capabilities samsung galaxy note greatly ...\n",
              "4912    great card fast reliable comes optional adapte...\n",
              "4913          good amount space stuff want fits gopro say\n",
              "4914    ive heard bad things gb micro sd card crapping...\n",
              "Name: reviewText, Length: 4915, dtype: object"
            ],
            "text/html": [
              "<div>\n",
              "<style scoped>\n",
              "    .dataframe tbody tr th:only-of-type {\n",
              "        vertical-align: middle;\n",
              "    }\n",
              "\n",
              "    .dataframe tbody tr th {\n",
              "        vertical-align: top;\n",
              "    }\n",
              "\n",
              "    .dataframe thead th {\n",
              "        text-align: right;\n",
              "    }\n",
              "</style>\n",
              "<table border=\"1\" class=\"dataframe\">\n",
              "  <thead>\n",
              "    <tr style=\"text-align: right;\">\n",
              "      <th></th>\n",
              "      <th>reviewText</th>\n",
              "    </tr>\n",
              "  </thead>\n",
              "  <tbody>\n",
              "    <tr>\n",
              "      <th>0</th>\n",
              "      <td>issues</td>\n",
              "    </tr>\n",
              "    <tr>\n",
              "      <th>1</th>\n",
              "      <td>purchased device worked advertised never much ...</td>\n",
              "    </tr>\n",
              "    <tr>\n",
              "      <th>2</th>\n",
              "      <td>works expected higher capacity think made bit ...</td>\n",
              "    </tr>\n",
              "    <tr>\n",
              "      <th>3</th>\n",
              "      <td>think worked gb card went south one held prett...</td>\n",
              "    </tr>\n",
              "    <tr>\n",
              "      <th>4</th>\n",
              "      <td>bought retail packaging arrived legit envelope...</td>\n",
              "    </tr>\n",
              "    <tr>\n",
              "      <th>...</th>\n",
              "      <td>...</td>\n",
              "    </tr>\n",
              "    <tr>\n",
              "      <th>4910</th>\n",
              "      <td>bought sandisk gb class use htc inspire months...</td>\n",
              "    </tr>\n",
              "    <tr>\n",
              "      <th>4911</th>\n",
              "      <td>used capabilities samsung galaxy note greatly ...</td>\n",
              "    </tr>\n",
              "    <tr>\n",
              "      <th>4912</th>\n",
              "      <td>great card fast reliable comes optional adapte...</td>\n",
              "    </tr>\n",
              "    <tr>\n",
              "      <th>4913</th>\n",
              "      <td>good amount space stuff want fits gopro say</td>\n",
              "    </tr>\n",
              "    <tr>\n",
              "      <th>4914</th>\n",
              "      <td>ive heard bad things gb micro sd card crapping...</td>\n",
              "    </tr>\n",
              "  </tbody>\n",
              "</table>\n",
              "<p>4915 rows × 1 columns</p>\n",
              "</div><br><label><b>dtype:</b> object</label>"
            ]
          },
          "metadata": {},
          "execution_count": 26
        }
      ]
    },
    {
      "cell_type": "code",
      "source": [
        "temp_df_1 = pd.Series(' '.join(df['reviewText']).split()).value_counts()"
      ],
      "metadata": {
        "execution": {
          "iopub.status.busy": "2024-01-08T10:38:20.657651Z",
          "iopub.execute_input": "2024-01-08T10:38:20.658112Z",
          "iopub.status.idle": "2024-01-08T10:38:20.716176Z",
          "shell.execute_reply.started": "2024-01-08T10:38:20.658072Z",
          "shell.execute_reply": "2024-01-08T10:38:20.715146Z"
        },
        "trusted": true,
        "id": "3ZVeLERjxU_R"
      },
      "execution_count": 27,
      "outputs": []
    },
    {
      "cell_type": "code",
      "source": [
        "temp_df_1"
      ],
      "metadata": {
        "execution": {
          "iopub.status.busy": "2024-01-08T10:38:24.913945Z",
          "iopub.execute_input": "2024-01-08T10:38:24.915011Z",
          "iopub.status.idle": "2024-01-08T10:38:24.92431Z",
          "shell.execute_reply.started": "2024-01-08T10:38:24.914967Z",
          "shell.execute_reply": "2024-01-08T10:38:24.922959Z"
        },
        "trusted": true,
        "id": "65-5mGlDxU_R",
        "outputId": "7b1a279b-d642-4041-f53a-2e6d3b15da92",
        "colab": {
          "base_uri": "https://localhost:8080/",
          "height": 458
        }
      },
      "execution_count": 28,
      "outputs": [
        {
          "output_type": "execute_result",
          "data": {
            "text/plain": [
              "card        4603\n",
              "gb          1725\n",
              "phone       1685\n",
              "works       1559\n",
              "great       1445\n",
              "            ... \n",
              "exceeds        2\n",
              "embedded       2\n",
              "errori         2\n",
              "anime          2\n",
              "backs          2\n",
              "Name: count, Length: 4089, dtype: int64"
            ],
            "text/html": [
              "<div>\n",
              "<style scoped>\n",
              "    .dataframe tbody tr th:only-of-type {\n",
              "        vertical-align: middle;\n",
              "    }\n",
              "\n",
              "    .dataframe tbody tr th {\n",
              "        vertical-align: top;\n",
              "    }\n",
              "\n",
              "    .dataframe thead th {\n",
              "        text-align: right;\n",
              "    }\n",
              "</style>\n",
              "<table border=\"1\" class=\"dataframe\">\n",
              "  <thead>\n",
              "    <tr style=\"text-align: right;\">\n",
              "      <th></th>\n",
              "      <th>count</th>\n",
              "    </tr>\n",
              "  </thead>\n",
              "  <tbody>\n",
              "    <tr>\n",
              "      <th>card</th>\n",
              "      <td>4603</td>\n",
              "    </tr>\n",
              "    <tr>\n",
              "      <th>gb</th>\n",
              "      <td>1725</td>\n",
              "    </tr>\n",
              "    <tr>\n",
              "      <th>phone</th>\n",
              "      <td>1685</td>\n",
              "    </tr>\n",
              "    <tr>\n",
              "      <th>works</th>\n",
              "      <td>1559</td>\n",
              "    </tr>\n",
              "    <tr>\n",
              "      <th>great</th>\n",
              "      <td>1445</td>\n",
              "    </tr>\n",
              "    <tr>\n",
              "      <th>...</th>\n",
              "      <td>...</td>\n",
              "    </tr>\n",
              "    <tr>\n",
              "      <th>exceeds</th>\n",
              "      <td>2</td>\n",
              "    </tr>\n",
              "    <tr>\n",
              "      <th>embedded</th>\n",
              "      <td>2</td>\n",
              "    </tr>\n",
              "    <tr>\n",
              "      <th>errori</th>\n",
              "      <td>2</td>\n",
              "    </tr>\n",
              "    <tr>\n",
              "      <th>anime</th>\n",
              "      <td>2</td>\n",
              "    </tr>\n",
              "    <tr>\n",
              "      <th>backs</th>\n",
              "      <td>2</td>\n",
              "    </tr>\n",
              "  </tbody>\n",
              "</table>\n",
              "<p>4089 rows × 1 columns</p>\n",
              "</div><br><label><b>dtype:</b> int64</label>"
            ]
          },
          "metadata": {},
          "execution_count": 28
        }
      ]
    },
    {
      "cell_type": "markdown",
      "source": [
        "<a id=\"section-9\"></a>\n",
        "# <div style=\"padding: 30px; color:white; margin:10; font-size:75%; text-align:left; display:fill; border-radius:10px; background-color:#3b3745\"><b><span style='color:#F1A424'>3.6 |</span></b> <b>Tokenization</b></div>"
      ],
      "metadata": {
        "id": "jG9YZxV5xU_R"
      }
    },
    {
      "cell_type": "markdown",
      "source": [
        "<blockquote style=\"border-left: 3px solid #3F51B5; background-color: #E8EAF6; padding: 10px 20px; margin: 20px 0;\">\n",
        "    <p style=\"font-style: italic;\">In this part, we transformed each comment in the 'reviewText' column into a TextBlob object and then tokenized them into words. TextBlob allows us to easily split comments into processable tokens (words). This process enables us to examine the words in each comment individually and conduct more detailed NLP analyses based on these words.</p>\n",
        "</blockquote>"
      ],
      "metadata": {
        "id": "mjgC78DixU_R"
      }
    },
    {
      "cell_type": "code",
      "source": [
        "import nltk\n",
        "from textblob import TextBlob\n",
        "import pandas as pd # Assuming pandas is already imported based on the context\n",
        "\n",
        "# Download the 'punkt' tokenizer data which is required by TextBlob for sentence tokenization\n",
        "# This was already in the original code, but let's keep it for completeness.\n",
        "nltk.download('punkt')\n",
        "\n",
        "# The traceback indicates a missing 'punkt_tab' resource.\n",
        "# TextBlob uses this for sentence tokenization, which is a precursor to word tokenization.\n",
        "# We need to download the necessary corpora for TextBlob.\n",
        "!python -m textblob.download_corpora\n",
        "\n",
        "# Now the original code should work\n",
        "df[\"reviewText\"].apply(lambda x: TextBlob(x).words).head()"
      ],
      "metadata": {
        "id": "wZomLsaszF_q",
        "outputId": "dd316946-bedd-4b8d-b321-6002063e4e82",
        "colab": {
          "base_uri": "https://localhost:8080/",
          "height": 513
        }
      },
      "execution_count": 31,
      "outputs": [
        {
          "output_type": "stream",
          "name": "stderr",
          "text": [
            "[nltk_data] Downloading package punkt to /root/nltk_data...\n",
            "[nltk_data]   Package punkt is already up-to-date!\n"
          ]
        },
        {
          "output_type": "stream",
          "name": "stdout",
          "text": [
            "[nltk_data] Downloading package brown to /root/nltk_data...\n",
            "[nltk_data]   Unzipping corpora/brown.zip.\n",
            "[nltk_data] Downloading package punkt_tab to /root/nltk_data...\n",
            "[nltk_data]   Unzipping tokenizers/punkt_tab.zip.\n",
            "[nltk_data] Downloading package wordnet to /root/nltk_data...\n",
            "[nltk_data] Downloading package averaged_perceptron_tagger_eng to\n",
            "[nltk_data]     /root/nltk_data...\n",
            "[nltk_data]   Unzipping taggers/averaged_perceptron_tagger_eng.zip.\n",
            "[nltk_data] Downloading package conll2000 to /root/nltk_data...\n",
            "[nltk_data]   Unzipping corpora/conll2000.zip.\n",
            "[nltk_data] Downloading package movie_reviews to /root/nltk_data...\n",
            "[nltk_data]   Unzipping corpora/movie_reviews.zip.\n",
            "Finished.\n"
          ]
        },
        {
          "output_type": "execute_result",
          "data": {
            "text/plain": [
              "0                                             [issues]\n",
              "1    [purchased, device, worked, advertised, never,...\n",
              "2    [works, expected, higher, capacity, think, mad...\n",
              "3    [think, worked, gb, card, went, south, one, he...\n",
              "4    [bought, retail, packaging, arrived, legit, en...\n",
              "Name: reviewText, dtype: object"
            ],
            "text/html": [
              "<div>\n",
              "<style scoped>\n",
              "    .dataframe tbody tr th:only-of-type {\n",
              "        vertical-align: middle;\n",
              "    }\n",
              "\n",
              "    .dataframe tbody tr th {\n",
              "        vertical-align: top;\n",
              "    }\n",
              "\n",
              "    .dataframe thead th {\n",
              "        text-align: right;\n",
              "    }\n",
              "</style>\n",
              "<table border=\"1\" class=\"dataframe\">\n",
              "  <thead>\n",
              "    <tr style=\"text-align: right;\">\n",
              "      <th></th>\n",
              "      <th>reviewText</th>\n",
              "    </tr>\n",
              "  </thead>\n",
              "  <tbody>\n",
              "    <tr>\n",
              "      <th>0</th>\n",
              "      <td>[issues]</td>\n",
              "    </tr>\n",
              "    <tr>\n",
              "      <th>1</th>\n",
              "      <td>[purchased, device, worked, advertised, never,...</td>\n",
              "    </tr>\n",
              "    <tr>\n",
              "      <th>2</th>\n",
              "      <td>[works, expected, higher, capacity, think, mad...</td>\n",
              "    </tr>\n",
              "    <tr>\n",
              "      <th>3</th>\n",
              "      <td>[think, worked, gb, card, went, south, one, he...</td>\n",
              "    </tr>\n",
              "    <tr>\n",
              "      <th>4</th>\n",
              "      <td>[bought, retail, packaging, arrived, legit, en...</td>\n",
              "    </tr>\n",
              "  </tbody>\n",
              "</table>\n",
              "</div><br><label><b>dtype:</b> object</label>"
            ]
          },
          "metadata": {},
          "execution_count": 31
        }
      ]
    },
    {
      "cell_type": "markdown",
      "source": [
        "<a id=\"section-10\"></a>\n",
        "# <div style=\"padding: 30px; color:white; margin:10; font-size:75%; text-align:left; display:fill; border-radius:10px; background-color:#3b3745\"><b><span style='color:#F1A424'>3.7 |</span></b> <b>Lemmatization</b></div>"
      ],
      "metadata": {
        "id": "JBhVV0HvxU_S"
      }
    },
    {
      "cell_type": "markdown",
      "source": [
        "<blockquote style=\"border-left: 3px solid #673AB7; background-color: #EDE7F6; padding: 10px 20px; margin: 20px 0;\">\n",
        "    <p style=\"font-style: italic;\">In this step, we lemmatized each word in the comments of the 'reviewText' column to obtain their root forms (basic forms). Lemmatization reduces different inflected forms of words (like 'running' to 'run') to their base form. This provides a more consistent and meaningful data processing opportunity in our NLP analyses.</p>\n",
        "</blockquote>"
      ],
      "metadata": {
        "id": "4ZbMBeYpxU_S"
      }
    },
    {
      "cell_type": "code",
      "source": [
        "nltk.download('punkt')"
      ],
      "metadata": {
        "execution": {
          "iopub.status.busy": "2024-01-08T10:38:37.426085Z",
          "iopub.execute_input": "2024-01-08T10:38:37.426902Z",
          "iopub.status.idle": "2024-01-08T10:38:37.5471Z",
          "shell.execute_reply.started": "2024-01-08T10:38:37.426846Z",
          "shell.execute_reply": "2024-01-08T10:38:37.546162Z"
        },
        "trusted": true,
        "id": "sMvp-ySfxU_S",
        "outputId": "5d54b6e3-6130-4a82-f8b7-6afec9293897",
        "colab": {
          "base_uri": "https://localhost:8080/"
        }
      },
      "execution_count": 32,
      "outputs": [
        {
          "output_type": "stream",
          "name": "stderr",
          "text": [
            "[nltk_data] Downloading package punkt to /root/nltk_data...\n",
            "[nltk_data]   Package punkt is already up-to-date!\n"
          ]
        },
        {
          "output_type": "execute_result",
          "data": {
            "text/plain": [
              "True"
            ]
          },
          "metadata": {},
          "execution_count": 32
        }
      ]
    },
    {
      "cell_type": "code",
      "source": [
        "nltk.download('wordnet')"
      ],
      "metadata": {
        "execution": {
          "iopub.status.busy": "2024-01-08T10:38:39.789217Z",
          "iopub.execute_input": "2024-01-08T10:38:39.78962Z",
          "iopub.status.idle": "2024-01-08T10:38:39.825665Z",
          "shell.execute_reply.started": "2024-01-08T10:38:39.789588Z",
          "shell.execute_reply": "2024-01-08T10:38:39.824496Z"
        },
        "trusted": true,
        "id": "RJ2XoDJhxU_S",
        "outputId": "0e635694-1251-4c11-b6b4-8ce898c9a506",
        "colab": {
          "base_uri": "https://localhost:8080/"
        }
      },
      "execution_count": 33,
      "outputs": [
        {
          "output_type": "stream",
          "name": "stderr",
          "text": [
            "[nltk_data] Downloading package wordnet to /root/nltk_data...\n",
            "[nltk_data]   Package wordnet is already up-to-date!\n"
          ]
        },
        {
          "output_type": "execute_result",
          "data": {
            "text/plain": [
              "True"
            ]
          },
          "metadata": {},
          "execution_count": 33
        }
      ]
    },
    {
      "cell_type": "code",
      "source": [
        "nltk.download('omw-1.4')"
      ],
      "metadata": {
        "execution": {
          "iopub.status.busy": "2024-01-08T10:38:41.896954Z",
          "iopub.execute_input": "2024-01-08T10:38:41.897707Z",
          "iopub.status.idle": "2024-01-08T10:38:42.06266Z",
          "shell.execute_reply.started": "2024-01-08T10:38:41.897651Z",
          "shell.execute_reply": "2024-01-08T10:38:42.061316Z"
        },
        "trusted": true,
        "id": "q0WtzlXkxU_S",
        "outputId": "ee666f9e-18e4-43c7-e616-ae34b4082d1c",
        "colab": {
          "base_uri": "https://localhost:8080/"
        }
      },
      "execution_count": 34,
      "outputs": [
        {
          "output_type": "stream",
          "name": "stderr",
          "text": [
            "[nltk_data] Downloading package omw-1.4 to /root/nltk_data...\n"
          ]
        },
        {
          "output_type": "execute_result",
          "data": {
            "text/plain": [
              "True"
            ]
          },
          "metadata": {},
          "execution_count": 34
        }
      ]
    },
    {
      "cell_type": "code",
      "source": [
        "df['reviewText'] = df['reviewText'].apply(lambda x: \" \".join([Word(word).lemmatize() for word in x.split()]))"
      ],
      "metadata": {
        "execution": {
          "iopub.status.busy": "2024-01-08T10:38:44.864926Z",
          "iopub.execute_input": "2024-01-08T10:38:44.865529Z",
          "iopub.status.idle": "2024-01-08T10:38:48.451206Z",
          "shell.execute_reply.started": "2024-01-08T10:38:44.865492Z",
          "shell.execute_reply": "2024-01-08T10:38:48.449954Z"
        },
        "trusted": true,
        "id": "zlUErEVLxU_S"
      },
      "execution_count": 35,
      "outputs": []
    },
    {
      "cell_type": "code",
      "source": [
        "df['reviewText']"
      ],
      "metadata": {
        "execution": {
          "iopub.status.busy": "2024-01-08T10:38:49.340943Z",
          "iopub.execute_input": "2024-01-08T10:38:49.341345Z",
          "iopub.status.idle": "2024-01-08T10:38:49.350948Z",
          "shell.execute_reply.started": "2024-01-08T10:38:49.341314Z",
          "shell.execute_reply": "2024-01-08T10:38:49.349967Z"
        },
        "trusted": true,
        "id": "JYDDjPL7xU_S",
        "outputId": "7aaff64f-4568-4162-d3ec-8f40bebf1349",
        "colab": {
          "base_uri": "https://localhost:8080/",
          "height": 458
        }
      },
      "execution_count": 36,
      "outputs": [
        {
          "output_type": "execute_result",
          "data": {
            "text/plain": [
              "0                                                   issue\n",
              "1       purchased device worked advertised never much ...\n",
              "2       work expected higher capacity think made bit e...\n",
              "3       think worked gb card went south one held prett...\n",
              "4       bought retail packaging arrived legit envelope...\n",
              "                              ...                        \n",
              "4910    bought sandisk gb class use htc inspire month ...\n",
              "4911    used capability samsung galaxy note greatly ex...\n",
              "4912    great card fast reliable come optional adapter...\n",
              "4913           good amount space stuff want fit gopro say\n",
              "4914    ive heard bad thing gb micro sd card crapping ...\n",
              "Name: reviewText, Length: 4915, dtype: object"
            ],
            "text/html": [
              "<div>\n",
              "<style scoped>\n",
              "    .dataframe tbody tr th:only-of-type {\n",
              "        vertical-align: middle;\n",
              "    }\n",
              "\n",
              "    .dataframe tbody tr th {\n",
              "        vertical-align: top;\n",
              "    }\n",
              "\n",
              "    .dataframe thead th {\n",
              "        text-align: right;\n",
              "    }\n",
              "</style>\n",
              "<table border=\"1\" class=\"dataframe\">\n",
              "  <thead>\n",
              "    <tr style=\"text-align: right;\">\n",
              "      <th></th>\n",
              "      <th>reviewText</th>\n",
              "    </tr>\n",
              "  </thead>\n",
              "  <tbody>\n",
              "    <tr>\n",
              "      <th>0</th>\n",
              "      <td>issue</td>\n",
              "    </tr>\n",
              "    <tr>\n",
              "      <th>1</th>\n",
              "      <td>purchased device worked advertised never much ...</td>\n",
              "    </tr>\n",
              "    <tr>\n",
              "      <th>2</th>\n",
              "      <td>work expected higher capacity think made bit e...</td>\n",
              "    </tr>\n",
              "    <tr>\n",
              "      <th>3</th>\n",
              "      <td>think worked gb card went south one held prett...</td>\n",
              "    </tr>\n",
              "    <tr>\n",
              "      <th>4</th>\n",
              "      <td>bought retail packaging arrived legit envelope...</td>\n",
              "    </tr>\n",
              "    <tr>\n",
              "      <th>...</th>\n",
              "      <td>...</td>\n",
              "    </tr>\n",
              "    <tr>\n",
              "      <th>4910</th>\n",
              "      <td>bought sandisk gb class use htc inspire month ...</td>\n",
              "    </tr>\n",
              "    <tr>\n",
              "      <th>4911</th>\n",
              "      <td>used capability samsung galaxy note greatly ex...</td>\n",
              "    </tr>\n",
              "    <tr>\n",
              "      <th>4912</th>\n",
              "      <td>great card fast reliable come optional adapter...</td>\n",
              "    </tr>\n",
              "    <tr>\n",
              "      <th>4913</th>\n",
              "      <td>good amount space stuff want fit gopro say</td>\n",
              "    </tr>\n",
              "    <tr>\n",
              "      <th>4914</th>\n",
              "      <td>ive heard bad thing gb micro sd card crapping ...</td>\n",
              "    </tr>\n",
              "  </tbody>\n",
              "</table>\n",
              "<p>4915 rows × 1 columns</p>\n",
              "</div><br><label><b>dtype:</b> object</label>"
            ]
          },
          "metadata": {},
          "execution_count": 36
        }
      ]
    },
    {
      "cell_type": "markdown",
      "source": [
        "<a id=\"section-11\"></a>\n",
        "# <div style=\"padding: 30px; color:white; margin:10; font-size:75%; text-align:left; display:fill; border-radius:10px; background-color:#3b3745\"><b><span style='color:#F1A424'>4 |</span></b> <b>Text Visualization</b></div>"
      ],
      "metadata": {
        "id": "Xn5CIWVuxU_S"
      }
    },
    {
      "cell_type": "markdown",
      "source": [
        "<a id=\"section-12\"></a>\n",
        "# <div style=\"padding: 30px; color:white; margin:10; font-size:75%; text-align:left; display:fill; border-radius:10px; background-color:#3b3745\"><b><span style='color:#F1A424'>4.1. |</span></b> <b>Calculation of Term Frequencies</b></div>"
      ],
      "metadata": {
        "id": "M6nGtUOsxU_S"
      }
    },
    {
      "cell_type": "markdown",
      "source": [
        "<blockquote style=\"border-left: 3px solid #CDDC39; background-color: #F0F4C3; padding: 10px 20px; margin: 20px 0;\">\n",
        "    <p style=\"font-style: italic;\">In this step, we calculated the frequencies (tf, or term frequency) of all words in the comments of the 'reviewText' column. We separated the words in each comment, determined how many times each word appeared in that comment, and summed these numbers. Then, we converted these frequencies into a DataFrame and named the columns 'words' and 'tf'. Finally, we sorted this DataFrame in descending order of 'tf' values. This process helps us identify the most frequently used words in the comments and how prevalent they are, allowing us to visualize and analyze the most significant terms in our dataset.</p>\n",
        "</blockquote>\n"
      ],
      "metadata": {
        "id": "vbnOvCv1xU_S"
      }
    },
    {
      "cell_type": "code",
      "source": [
        "tf = df[\"reviewText\"].apply(lambda x: pd.value_counts(x.split(\" \"))).sum(axis=0).reset_index()"
      ],
      "metadata": {
        "execution": {
          "iopub.status.busy": "2024-01-08T10:39:56.112853Z",
          "iopub.execute_input": "2024-01-08T10:39:56.113366Z",
          "iopub.status.idle": "2024-01-08T10:40:01.833935Z",
          "shell.execute_reply.started": "2024-01-08T10:39:56.113299Z",
          "shell.execute_reply": "2024-01-08T10:40:01.832692Z"
        },
        "trusted": true,
        "id": "AB7QpFLOxU_S"
      },
      "execution_count": 37,
      "outputs": []
    },
    {
      "cell_type": "code",
      "source": [
        "tf.columns = ['words', 'tf']"
      ],
      "metadata": {
        "execution": {
          "iopub.status.busy": "2024-01-08T10:40:04.684412Z",
          "iopub.execute_input": "2024-01-08T10:40:04.684839Z",
          "iopub.status.idle": "2024-01-08T10:40:04.690419Z",
          "shell.execute_reply.started": "2024-01-08T10:40:04.684805Z",
          "shell.execute_reply": "2024-01-08T10:40:04.689145Z"
        },
        "trusted": true,
        "id": "x7TdyDjlxU_S"
      },
      "execution_count": 38,
      "outputs": []
    },
    {
      "cell_type": "code",
      "source": [
        "tf_sorted = tf.sort_values(by='tf', ascending=False)"
      ],
      "metadata": {
        "execution": {
          "iopub.status.busy": "2024-01-08T10:40:08.090833Z",
          "iopub.execute_input": "2024-01-08T10:40:08.091282Z",
          "iopub.status.idle": "2024-01-08T10:40:08.099471Z",
          "shell.execute_reply.started": "2024-01-08T10:40:08.091246Z",
          "shell.execute_reply": "2024-01-08T10:40:08.097565Z"
        },
        "trusted": true,
        "id": "ugRhOFAhxU_S"
      },
      "execution_count": 39,
      "outputs": []
    },
    {
      "cell_type": "code",
      "source": [
        "tf_sorted"
      ],
      "metadata": {
        "execution": {
          "iopub.status.busy": "2024-01-08T10:40:10.874118Z",
          "iopub.execute_input": "2024-01-08T10:40:10.874522Z",
          "iopub.status.idle": "2024-01-08T10:40:10.887083Z",
          "shell.execute_reply.started": "2024-01-08T10:40:10.874491Z",
          "shell.execute_reply": "2024-01-08T10:40:10.88589Z"
        },
        "trusted": true,
        "id": "5RMyyAgPxU_S",
        "outputId": "ea7caca5-3022-4c09-9cab-51ca5bc7d1a2",
        "colab": {
          "base_uri": "https://localhost:8080/",
          "height": 423
        }
      },
      "execution_count": 40,
      "outputs": [
        {
          "output_type": "execute_result",
          "data": {
            "text/plain": [
              "         words      tf\n",
              "27        card 5537.00\n",
              "14        work 2044.00\n",
              "7        phone 1909.00\n",
              "28          gb 1756.00\n",
              "91       great 1445.00\n",
              "...        ...     ...\n",
              "2959       itd    2.00\n",
              "2960   contain    2.00\n",
              "2963  sanddisk    2.00\n",
              "1756   sharing    2.00\n",
              "1098              1.00\n",
              "\n",
              "[3691 rows x 2 columns]"
            ],
            "text/html": [
              "\n",
              "  <div id=\"df-d03567d2-3db2-4401-95af-16f8f13218fb\" class=\"colab-df-container\">\n",
              "    <div>\n",
              "<style scoped>\n",
              "    .dataframe tbody tr th:only-of-type {\n",
              "        vertical-align: middle;\n",
              "    }\n",
              "\n",
              "    .dataframe tbody tr th {\n",
              "        vertical-align: top;\n",
              "    }\n",
              "\n",
              "    .dataframe thead th {\n",
              "        text-align: right;\n",
              "    }\n",
              "</style>\n",
              "<table border=\"1\" class=\"dataframe\">\n",
              "  <thead>\n",
              "    <tr style=\"text-align: right;\">\n",
              "      <th></th>\n",
              "      <th>words</th>\n",
              "      <th>tf</th>\n",
              "    </tr>\n",
              "  </thead>\n",
              "  <tbody>\n",
              "    <tr>\n",
              "      <th>27</th>\n",
              "      <td>card</td>\n",
              "      <td>5537.00</td>\n",
              "    </tr>\n",
              "    <tr>\n",
              "      <th>14</th>\n",
              "      <td>work</td>\n",
              "      <td>2044.00</td>\n",
              "    </tr>\n",
              "    <tr>\n",
              "      <th>7</th>\n",
              "      <td>phone</td>\n",
              "      <td>1909.00</td>\n",
              "    </tr>\n",
              "    <tr>\n",
              "      <th>28</th>\n",
              "      <td>gb</td>\n",
              "      <td>1756.00</td>\n",
              "    </tr>\n",
              "    <tr>\n",
              "      <th>91</th>\n",
              "      <td>great</td>\n",
              "      <td>1445.00</td>\n",
              "    </tr>\n",
              "    <tr>\n",
              "      <th>...</th>\n",
              "      <td>...</td>\n",
              "      <td>...</td>\n",
              "    </tr>\n",
              "    <tr>\n",
              "      <th>2959</th>\n",
              "      <td>itd</td>\n",
              "      <td>2.00</td>\n",
              "    </tr>\n",
              "    <tr>\n",
              "      <th>2960</th>\n",
              "      <td>contain</td>\n",
              "      <td>2.00</td>\n",
              "    </tr>\n",
              "    <tr>\n",
              "      <th>2963</th>\n",
              "      <td>sanddisk</td>\n",
              "      <td>2.00</td>\n",
              "    </tr>\n",
              "    <tr>\n",
              "      <th>1756</th>\n",
              "      <td>sharing</td>\n",
              "      <td>2.00</td>\n",
              "    </tr>\n",
              "    <tr>\n",
              "      <th>1098</th>\n",
              "      <td></td>\n",
              "      <td>1.00</td>\n",
              "    </tr>\n",
              "  </tbody>\n",
              "</table>\n",
              "<p>3691 rows × 2 columns</p>\n",
              "</div>\n",
              "    <div class=\"colab-df-buttons\">\n",
              "\n",
              "  <div class=\"colab-df-container\">\n",
              "    <button class=\"colab-df-convert\" onclick=\"convertToInteractive('df-d03567d2-3db2-4401-95af-16f8f13218fb')\"\n",
              "            title=\"Convert this dataframe to an interactive table.\"\n",
              "            style=\"display:none;\">\n",
              "\n",
              "  <svg xmlns=\"http://www.w3.org/2000/svg\" height=\"24px\" viewBox=\"0 -960 960 960\">\n",
              "    <path d=\"M120-120v-720h720v720H120Zm60-500h600v-160H180v160Zm220 220h160v-160H400v160Zm0 220h160v-160H400v160ZM180-400h160v-160H180v160Zm440 0h160v-160H620v160ZM180-180h160v-160H180v160Zm440 0h160v-160H620v160Z\"/>\n",
              "  </svg>\n",
              "    </button>\n",
              "\n",
              "  <style>\n",
              "    .colab-df-container {\n",
              "      display:flex;\n",
              "      gap: 12px;\n",
              "    }\n",
              "\n",
              "    .colab-df-convert {\n",
              "      background-color: #E8F0FE;\n",
              "      border: none;\n",
              "      border-radius: 50%;\n",
              "      cursor: pointer;\n",
              "      display: none;\n",
              "      fill: #1967D2;\n",
              "      height: 32px;\n",
              "      padding: 0 0 0 0;\n",
              "      width: 32px;\n",
              "    }\n",
              "\n",
              "    .colab-df-convert:hover {\n",
              "      background-color: #E2EBFA;\n",
              "      box-shadow: 0px 1px 2px rgba(60, 64, 67, 0.3), 0px 1px 3px 1px rgba(60, 64, 67, 0.15);\n",
              "      fill: #174EA6;\n",
              "    }\n",
              "\n",
              "    .colab-df-buttons div {\n",
              "      margin-bottom: 4px;\n",
              "    }\n",
              "\n",
              "    [theme=dark] .colab-df-convert {\n",
              "      background-color: #3B4455;\n",
              "      fill: #D2E3FC;\n",
              "    }\n",
              "\n",
              "    [theme=dark] .colab-df-convert:hover {\n",
              "      background-color: #434B5C;\n",
              "      box-shadow: 0px 1px 3px 1px rgba(0, 0, 0, 0.15);\n",
              "      filter: drop-shadow(0px 1px 2px rgba(0, 0, 0, 0.3));\n",
              "      fill: #FFFFFF;\n",
              "    }\n",
              "  </style>\n",
              "\n",
              "    <script>\n",
              "      const buttonEl =\n",
              "        document.querySelector('#df-d03567d2-3db2-4401-95af-16f8f13218fb button.colab-df-convert');\n",
              "      buttonEl.style.display =\n",
              "        google.colab.kernel.accessAllowed ? 'block' : 'none';\n",
              "\n",
              "      async function convertToInteractive(key) {\n",
              "        const element = document.querySelector('#df-d03567d2-3db2-4401-95af-16f8f13218fb');\n",
              "        const dataTable =\n",
              "          await google.colab.kernel.invokeFunction('convertToInteractive',\n",
              "                                                    [key], {});\n",
              "        if (!dataTable) return;\n",
              "\n",
              "        const docLinkHtml = 'Like what you see? Visit the ' +\n",
              "          '<a target=\"_blank\" href=https://colab.research.google.com/notebooks/data_table.ipynb>data table notebook</a>'\n",
              "          + ' to learn more about interactive tables.';\n",
              "        element.innerHTML = '';\n",
              "        dataTable['output_type'] = 'display_data';\n",
              "        await google.colab.output.renderOutput(dataTable, element);\n",
              "        const docLink = document.createElement('div');\n",
              "        docLink.innerHTML = docLinkHtml;\n",
              "        element.appendChild(docLink);\n",
              "      }\n",
              "    </script>\n",
              "  </div>\n",
              "\n",
              "\n",
              "    <div id=\"df-faaeed54-f7e0-4877-a332-5553b5290965\">\n",
              "      <button class=\"colab-df-quickchart\" onclick=\"quickchart('df-faaeed54-f7e0-4877-a332-5553b5290965')\"\n",
              "                title=\"Suggest charts\"\n",
              "                style=\"display:none;\">\n",
              "\n",
              "<svg xmlns=\"http://www.w3.org/2000/svg\" height=\"24px\"viewBox=\"0 0 24 24\"\n",
              "     width=\"24px\">\n",
              "    <g>\n",
              "        <path d=\"M19 3H5c-1.1 0-2 .9-2 2v14c0 1.1.9 2 2 2h14c1.1 0 2-.9 2-2V5c0-1.1-.9-2-2-2zM9 17H7v-7h2v7zm4 0h-2V7h2v10zm4 0h-2v-4h2v4z\"/>\n",
              "    </g>\n",
              "</svg>\n",
              "      </button>\n",
              "\n",
              "<style>\n",
              "  .colab-df-quickchart {\n",
              "      --bg-color: #E8F0FE;\n",
              "      --fill-color: #1967D2;\n",
              "      --hover-bg-color: #E2EBFA;\n",
              "      --hover-fill-color: #174EA6;\n",
              "      --disabled-fill-color: #AAA;\n",
              "      --disabled-bg-color: #DDD;\n",
              "  }\n",
              "\n",
              "  [theme=dark] .colab-df-quickchart {\n",
              "      --bg-color: #3B4455;\n",
              "      --fill-color: #D2E3FC;\n",
              "      --hover-bg-color: #434B5C;\n",
              "      --hover-fill-color: #FFFFFF;\n",
              "      --disabled-bg-color: #3B4455;\n",
              "      --disabled-fill-color: #666;\n",
              "  }\n",
              "\n",
              "  .colab-df-quickchart {\n",
              "    background-color: var(--bg-color);\n",
              "    border: none;\n",
              "    border-radius: 50%;\n",
              "    cursor: pointer;\n",
              "    display: none;\n",
              "    fill: var(--fill-color);\n",
              "    height: 32px;\n",
              "    padding: 0;\n",
              "    width: 32px;\n",
              "  }\n",
              "\n",
              "  .colab-df-quickchart:hover {\n",
              "    background-color: var(--hover-bg-color);\n",
              "    box-shadow: 0 1px 2px rgba(60, 64, 67, 0.3), 0 1px 3px 1px rgba(60, 64, 67, 0.15);\n",
              "    fill: var(--button-hover-fill-color);\n",
              "  }\n",
              "\n",
              "  .colab-df-quickchart-complete:disabled,\n",
              "  .colab-df-quickchart-complete:disabled:hover {\n",
              "    background-color: var(--disabled-bg-color);\n",
              "    fill: var(--disabled-fill-color);\n",
              "    box-shadow: none;\n",
              "  }\n",
              "\n",
              "  .colab-df-spinner {\n",
              "    border: 2px solid var(--fill-color);\n",
              "    border-color: transparent;\n",
              "    border-bottom-color: var(--fill-color);\n",
              "    animation:\n",
              "      spin 1s steps(1) infinite;\n",
              "  }\n",
              "\n",
              "  @keyframes spin {\n",
              "    0% {\n",
              "      border-color: transparent;\n",
              "      border-bottom-color: var(--fill-color);\n",
              "      border-left-color: var(--fill-color);\n",
              "    }\n",
              "    20% {\n",
              "      border-color: transparent;\n",
              "      border-left-color: var(--fill-color);\n",
              "      border-top-color: var(--fill-color);\n",
              "    }\n",
              "    30% {\n",
              "      border-color: transparent;\n",
              "      border-left-color: var(--fill-color);\n",
              "      border-top-color: var(--fill-color);\n",
              "      border-right-color: var(--fill-color);\n",
              "    }\n",
              "    40% {\n",
              "      border-color: transparent;\n",
              "      border-right-color: var(--fill-color);\n",
              "      border-top-color: var(--fill-color);\n",
              "    }\n",
              "    60% {\n",
              "      border-color: transparent;\n",
              "      border-right-color: var(--fill-color);\n",
              "    }\n",
              "    80% {\n",
              "      border-color: transparent;\n",
              "      border-right-color: var(--fill-color);\n",
              "      border-bottom-color: var(--fill-color);\n",
              "    }\n",
              "    90% {\n",
              "      border-color: transparent;\n",
              "      border-bottom-color: var(--fill-color);\n",
              "    }\n",
              "  }\n",
              "</style>\n",
              "\n",
              "      <script>\n",
              "        async function quickchart(key) {\n",
              "          const quickchartButtonEl =\n",
              "            document.querySelector('#' + key + ' button');\n",
              "          quickchartButtonEl.disabled = true;  // To prevent multiple clicks.\n",
              "          quickchartButtonEl.classList.add('colab-df-spinner');\n",
              "          try {\n",
              "            const charts = await google.colab.kernel.invokeFunction(\n",
              "                'suggestCharts', [key], {});\n",
              "          } catch (error) {\n",
              "            console.error('Error during call to suggestCharts:', error);\n",
              "          }\n",
              "          quickchartButtonEl.classList.remove('colab-df-spinner');\n",
              "          quickchartButtonEl.classList.add('colab-df-quickchart-complete');\n",
              "        }\n",
              "        (() => {\n",
              "          let quickchartButtonEl =\n",
              "            document.querySelector('#df-faaeed54-f7e0-4877-a332-5553b5290965 button');\n",
              "          quickchartButtonEl.style.display =\n",
              "            google.colab.kernel.accessAllowed ? 'block' : 'none';\n",
              "        })();\n",
              "      </script>\n",
              "    </div>\n",
              "\n",
              "  <div id=\"id_7de9a9bf-5b8c-4c98-8a31-480826ed6acd\">\n",
              "    <style>\n",
              "      .colab-df-generate {\n",
              "        background-color: #E8F0FE;\n",
              "        border: none;\n",
              "        border-radius: 50%;\n",
              "        cursor: pointer;\n",
              "        display: none;\n",
              "        fill: #1967D2;\n",
              "        height: 32px;\n",
              "        padding: 0 0 0 0;\n",
              "        width: 32px;\n",
              "      }\n",
              "\n",
              "      .colab-df-generate:hover {\n",
              "        background-color: #E2EBFA;\n",
              "        box-shadow: 0px 1px 2px rgba(60, 64, 67, 0.3), 0px 1px 3px 1px rgba(60, 64, 67, 0.15);\n",
              "        fill: #174EA6;\n",
              "      }\n",
              "\n",
              "      [theme=dark] .colab-df-generate {\n",
              "        background-color: #3B4455;\n",
              "        fill: #D2E3FC;\n",
              "      }\n",
              "\n",
              "      [theme=dark] .colab-df-generate:hover {\n",
              "        background-color: #434B5C;\n",
              "        box-shadow: 0px 1px 3px 1px rgba(0, 0, 0, 0.15);\n",
              "        filter: drop-shadow(0px 1px 2px rgba(0, 0, 0, 0.3));\n",
              "        fill: #FFFFFF;\n",
              "      }\n",
              "    </style>\n",
              "    <button class=\"colab-df-generate\" onclick=\"generateWithVariable('tf_sorted')\"\n",
              "            title=\"Generate code using this dataframe.\"\n",
              "            style=\"display:none;\">\n",
              "\n",
              "  <svg xmlns=\"http://www.w3.org/2000/svg\" height=\"24px\"viewBox=\"0 0 24 24\"\n",
              "       width=\"24px\">\n",
              "    <path d=\"M7,19H8.4L18.45,9,17,7.55,7,17.6ZM5,21V16.75L18.45,3.32a2,2,0,0,1,2.83,0l1.4,1.43a1.91,1.91,0,0,1,.58,1.4,1.91,1.91,0,0,1-.58,1.4L9.25,21ZM18.45,9,17,7.55Zm-12,3A5.31,5.31,0,0,0,4.9,8.1,5.31,5.31,0,0,0,1,6.5,5.31,5.31,0,0,0,4.9,4.9,5.31,5.31,0,0,0,6.5,1,5.31,5.31,0,0,0,8.1,4.9,5.31,5.31,0,0,0,12,6.5,5.46,5.46,0,0,0,6.5,12Z\"/>\n",
              "  </svg>\n",
              "    </button>\n",
              "    <script>\n",
              "      (() => {\n",
              "      const buttonEl =\n",
              "        document.querySelector('#id_7de9a9bf-5b8c-4c98-8a31-480826ed6acd button.colab-df-generate');\n",
              "      buttonEl.style.display =\n",
              "        google.colab.kernel.accessAllowed ? 'block' : 'none';\n",
              "\n",
              "      buttonEl.onclick = () => {\n",
              "        google.colab.notebook.generateWithVariable('tf_sorted');\n",
              "      }\n",
              "      })();\n",
              "    </script>\n",
              "  </div>\n",
              "\n",
              "    </div>\n",
              "  </div>\n"
            ],
            "application/vnd.google.colaboratory.intrinsic+json": {
              "type": "dataframe",
              "variable_name": "tf_sorted",
              "summary": "{\n  \"name\": \"tf_sorted\",\n  \"rows\": 3691,\n  \"fields\": [\n    {\n      \"column\": \"words\",\n      \"properties\": {\n        \"dtype\": \"string\",\n        \"num_unique_values\": 3691,\n        \"samples\": [\n          \"priced\",\n          \"humming\",\n          \"taken\"\n        ],\n        \"semantic_type\": \"\",\n        \"description\": \"\"\n      }\n    },\n    {\n      \"column\": \"tf\",\n      \"properties\": {\n        \"dtype\": \"number\",\n        \"std\": 140.35259299963238,\n        \"min\": 1.0,\n        \"max\": 5537.0,\n        \"num_unique_values\": 266,\n        \"samples\": [\n          86.0,\n          161.0,\n          136.0\n        ],\n        \"semantic_type\": \"\",\n        \"description\": \"\"\n      }\n    }\n  ]\n}"
            }
          },
          "metadata": {},
          "execution_count": 40
        }
      ]
    },
    {
      "cell_type": "markdown",
      "source": [
        "<a id=\"section-13\"></a>\n",
        "# <div style=\"padding: 30px; color:white; margin:10; font-size:75%; text-align:left; display:fill; border-radius:10px; background-color:#3b3745\"><b><span style='color:#F1A424'>4.2. |</span></b> <b>Barplot</b></div>"
      ],
      "metadata": {
        "id": "E2nCNffpxU_T"
      }
    },
    {
      "cell_type": "markdown",
      "source": [
        "<blockquote style=\"border-left: 3px solid #FF5722; background-color: #FFCCBC; padding: 10px 20px; margin: 20px 0;\">\n",
        "    <p style=\"font-style: italic;\">In this step, based on the previously calculated term frequencies (tf), we filtered words with a frequency of more than 500. Then, we visualized the frequencies of these words using a bar graph. The graph's x-axis represents the words, and the y-axis shows the total number of times these words appear in the comments (tf). This visualization clearly reveals the most frequently encountered words in our dataset and their prevalence, enabling us to better understand the key trends and patterns in our text data.</p>\n",
        "</blockquote>\n"
      ],
      "metadata": {
        "id": "op4XUhlyxU_T"
      }
    },
    {
      "cell_type": "code",
      "source": [
        "tf[tf[\"tf\"] > 500].plot.bar(x=\"words\", y=\"tf\")\n",
        "plt.show(block=True)"
      ],
      "metadata": {
        "execution": {
          "iopub.status.busy": "2024-01-08T10:40:14.737182Z",
          "iopub.execute_input": "2024-01-08T10:40:14.737609Z",
          "iopub.status.idle": "2024-01-08T10:40:15.330906Z",
          "shell.execute_reply.started": "2024-01-08T10:40:14.737574Z",
          "shell.execute_reply": "2024-01-08T10:40:15.329606Z"
        },
        "trusted": true,
        "id": "UDKafekixU_T",
        "outputId": "e3eafadf-db88-432a-eca5-22b1a74231df",
        "colab": {
          "base_uri": "https://localhost:8080/",
          "height": 498
        }
      },
      "execution_count": 41,
      "outputs": [
        {
          "output_type": "display_data",
          "data": {
            "text/plain": [
              "<Figure size 640x480 with 1 Axes>"
            ],
            "image/png": "[encoded data removed]"
          },
          "metadata": {}
        }
      ]
    },
    {
      "cell_type": "markdown",
      "source": [
        "<a id=\"section-14\"></a>\n",
        "# <div style=\"padding: 30px; color:white; margin:10; font-size:75%; text-align:left; display:fill; border-radius:10px; background-color:#3b3745\"><b><span style='color:#F1A424'>4.3. |</span></b> <b>Word Cloud</b></div>"
      ],
      "metadata": {
        "id": "2qqjx0nzxU_T"
      }
    },
    {
      "cell_type": "markdown",
      "source": [
        "<blockquote style=\"border-left: 3px solid #9E9E9E; background-color: #F5F5F5; padding: 10px 20px; margin: 20px 0;\">\n",
        "    <p style=\"font-style: italic;\">In this section, we create and visualize a word cloud using the comments from the 'reviewText' column. The purpose is to display the frequently occurring words in the dataset in a visual format, clearly showcasing their importance and prevalence in the comments. This allows for a quick observation of the key trends and prominent features in the text data.</p>\n",
        "</blockquote>"
      ],
      "metadata": {
        "id": "3qiJ706PxU_T"
      }
    },
    {
      "cell_type": "code",
      "source": [
        "text = \" \".join(i for i in df.reviewText)\n",
        "\n",
        "wordcloud = WordCloud().generate(text)\n",
        "plt.imshow(wordcloud, interpolation=\"bilinear\")\n",
        "plt.axis(\"off\")\n",
        "plt.show()"
      ],
      "metadata": {
        "execution": {
          "iopub.status.busy": "2024-01-08T10:40:21.981938Z",
          "iopub.execute_input": "2024-01-08T10:40:21.982346Z",
          "iopub.status.idle": "2024-01-08T10:40:23.825549Z",
          "shell.execute_reply.started": "2024-01-08T10:40:21.982315Z",
          "shell.execute_reply": "2024-01-08T10:40:23.823877Z"
        },
        "trusted": true,
        "id": "J1WV84jXxU_T",
        "outputId": "1f33c69e-b4c8-4084-a0d1-dd1a13bf0173",
        "colab": {
          "base_uri": "https://localhost:8080/",
          "height": 285
        }
      },
      "execution_count": 42,
      "outputs": [
        {
          "output_type": "display_data",
          "data": {
            "text/plain": [
              "<Figure size 640x480 with 1 Axes>"
            ],
            "image/png": "[encoded data removed]"
          },
          "metadata": {}
        }
      ]
    },
    {
      "cell_type": "code",
      "source": [
        "# wordcloud = WordCloud(max_font_size=50,\n",
        "#                       max_words=100,\n",
        "#                       background_color=\"white\").generate(text)\n",
        "# plt.figure()\n",
        "# plt.imshow(wordcloud, interpolation=\"bilinear\")\n",
        "# plt.axis(\"off\")\n",
        "# plt.show()\n",
        "\n",
        "# wordcloud.to_file(\"wordcloud.png\")"
      ],
      "metadata": {
        "trusted": true,
        "id": "HhZrF4FBxU_T"
      },
      "execution_count": 43,
      "outputs": []
    },
    {
      "cell_type": "markdown",
      "source": [
        "<a id=\"section-15\"></a>\n",
        "# <div style=\"padding: 30px; color:white; margin:10; font-size:75%; text-align:left; display:fill; border-radius:10px; background-color:#3b3745\"><b><span style='color:#F1A424'>4.4. |</span></b> <b>Word Cloud by Templates</b></div>"
      ],
      "metadata": {
        "id": "NK4Y2ev3xU_T"
      }
    },
    {
      "cell_type": "markdown",
      "source": [
        "<blockquote style=\"border-left: 3px solid #607D8B; background-color: #CFD8DC; padding: 10px 20px; margin: 20px 0;\">\n",
        "    <p style=\"font-style: italic;\">In this section, we created a word cloud according to a specific template we defined. This approach allows us to tailor the visualization to our requirements, effectively highlighting the most significant words in our dataset.</p>\n",
        "</blockquote>\n"
      ],
      "metadata": {
        "id": "UJPkmOb9xU_T"
      }
    },
    {
      "cell_type": "code",
      "source": [
        "# tr_mask = np.array(Image.open(\"tr.png\"))\n",
        "\n",
        "# wc = WordCloud(background_color=\"white\",\n",
        "#                max_words=1000,\n",
        "#                mask=tr_mask,\n",
        "#                contour_width=3,\n",
        "#                contour_color=\"firebrick\")\n",
        "\n",
        "# wc.generate(text)\n",
        "# plt.figure(figsize=[10, 10])\n",
        "# plt.imshow(wc, interpolation=\"bilinear\")\n",
        "# plt.axis(\"off\")\n",
        "# plt.show()"
      ],
      "metadata": {
        "trusted": true,
        "id": "8Q4Nh5HixU_T"
      },
      "execution_count": 44,
      "outputs": []
    },
    {
      "cell_type": "markdown",
      "source": [
        "<a id=\"section-16\"></a>\n",
        "# <div style=\"padding: 30px; color:white; margin:10; font-size:75%; text-align:left; display:fill; border-radius:10px; background-color:#3b3745\"><b><span style='color:#F1A424'>5 |</span></b> <b>Sentiment Analysis</b></div>"
      ],
      "metadata": {
        "id": "KM8n5hJlxU_T"
      }
    },
    {
      "cell_type": "markdown",
      "source": [
        "<blockquote style=\"border-left: 3px solid #FFC107; background-color: #FFF8E1; padding: 10px 20px; margin: 20px 0;\">\n",
        "    <p style=\"font-style: italic;\">In this section, we will perform sentiment analysis on our text data. We will evaluate the emotional expressions in the texts using mathematical methods to determine whether these texts are generally positive, negative, or neutral in sentiment. This allows us to express the sentiment of the texts in numerical values, enabling a more objective and measurable analysis.</p>\n",
        "</blockquote>\n"
      ],
      "metadata": {
        "id": "WcMXA0yhxU_T"
      }
    },
    {
      "cell_type": "code",
      "source": [
        "nltk.download('vader_lexicon')"
      ],
      "metadata": {
        "execution": {
          "iopub.status.busy": "2024-01-08T10:49:05.685944Z",
          "iopub.execute_input": "2024-01-08T10:49:05.686476Z",
          "iopub.status.idle": "2024-01-08T10:49:05.708237Z",
          "shell.execute_reply.started": "2024-01-08T10:49:05.686441Z",
          "shell.execute_reply": "2024-01-08T10:49:05.706798Z"
        },
        "trusted": true,
        "id": "MB6FamiuxU_T",
        "outputId": "7a386f69-660c-4d88-8894-a60cc8b4dfe9",
        "colab": {
          "base_uri": "https://localhost:8080/"
        }
      },
      "execution_count": 45,
      "outputs": [
        {
          "output_type": "stream",
          "name": "stderr",
          "text": [
            "[nltk_data] Downloading package vader_lexicon to /root/nltk_data...\n"
          ]
        },
        {
          "output_type": "execute_result",
          "data": {
            "text/plain": [
              "True"
            ]
          },
          "metadata": {},
          "execution_count": 45
        }
      ]
    },
    {
      "cell_type": "code",
      "source": [
        "df[\"reviewText\"].head()"
      ],
      "metadata": {
        "execution": {
          "iopub.status.busy": "2024-01-08T10:49:07.899237Z",
          "iopub.execute_input": "2024-01-08T10:49:07.900071Z",
          "iopub.status.idle": "2024-01-08T10:49:07.909325Z",
          "shell.execute_reply.started": "2024-01-08T10:49:07.900032Z",
          "shell.execute_reply": "2024-01-08T10:49:07.908058Z"
        },
        "trusted": true,
        "id": "-MIk7n9wxU_T",
        "outputId": "dd18fafd-1211-4195-c011-6f173d780579",
        "colab": {
          "base_uri": "https://localhost:8080/",
          "height": 241
        }
      },
      "execution_count": 46,
      "outputs": [
        {
          "output_type": "execute_result",
          "data": {
            "text/plain": [
              "0                                                issue\n",
              "1    purchased device worked advertised never much ...\n",
              "2    work expected higher capacity think made bit e...\n",
              "3    think worked gb card went south one held prett...\n",
              "4    bought retail packaging arrived legit envelope...\n",
              "Name: reviewText, dtype: object"
            ],
            "text/html": [
              "<div>\n",
              "<style scoped>\n",
              "    .dataframe tbody tr th:only-of-type {\n",
              "        vertical-align: middle;\n",
              "    }\n",
              "\n",
              "    .dataframe tbody tr th {\n",
              "        vertical-align: top;\n",
              "    }\n",
              "\n",
              "    .dataframe thead th {\n",
              "        text-align: right;\n",
              "    }\n",
              "</style>\n",
              "<table border=\"1\" class=\"dataframe\">\n",
              "  <thead>\n",
              "    <tr style=\"text-align: right;\">\n",
              "      <th></th>\n",
              "      <th>reviewText</th>\n",
              "    </tr>\n",
              "  </thead>\n",
              "  <tbody>\n",
              "    <tr>\n",
              "      <th>0</th>\n",
              "      <td>issue</td>\n",
              "    </tr>\n",
              "    <tr>\n",
              "      <th>1</th>\n",
              "      <td>purchased device worked advertised never much ...</td>\n",
              "    </tr>\n",
              "    <tr>\n",
              "      <th>2</th>\n",
              "      <td>work expected higher capacity think made bit e...</td>\n",
              "    </tr>\n",
              "    <tr>\n",
              "      <th>3</th>\n",
              "      <td>think worked gb card went south one held prett...</td>\n",
              "    </tr>\n",
              "    <tr>\n",
              "      <th>4</th>\n",
              "      <td>bought retail packaging arrived legit envelope...</td>\n",
              "    </tr>\n",
              "  </tbody>\n",
              "</table>\n",
              "</div><br><label><b>dtype:</b> object</label>"
            ]
          },
          "metadata": {},
          "execution_count": 46
        }
      ]
    },
    {
      "cell_type": "code",
      "source": [
        "sia = SentimentIntensityAnalyzer()"
      ],
      "metadata": {
        "execution": {
          "iopub.status.busy": "2024-01-08T10:49:10.04579Z",
          "iopub.execute_input": "2024-01-08T10:49:10.046358Z",
          "iopub.status.idle": "2024-01-08T10:49:10.068225Z",
          "shell.execute_reply.started": "2024-01-08T10:49:10.046323Z",
          "shell.execute_reply": "2024-01-08T10:49:10.066749Z"
        },
        "trusted": true,
        "id": "ks7fY1JwxU_T"
      },
      "execution_count": 47,
      "outputs": []
    },
    {
      "cell_type": "code",
      "source": [
        "sia.polarity_scores(\"The film was awesome\")"
      ],
      "metadata": {
        "execution": {
          "iopub.status.busy": "2024-01-08T10:49:13.205224Z",
          "iopub.execute_input": "2024-01-08T10:49:13.205957Z",
          "iopub.status.idle": "2024-01-08T10:49:13.2139Z",
          "shell.execute_reply.started": "2024-01-08T10:49:13.205917Z",
          "shell.execute_reply": "2024-01-08T10:49:13.212543Z"
        },
        "trusted": true,
        "id": "b03sRe8ixU_U",
        "outputId": "a345bef7-fefe-406f-f95a-a40f2165a091",
        "colab": {
          "base_uri": "https://localhost:8080/"
        }
      },
      "execution_count": 48,
      "outputs": [
        {
          "output_type": "execute_result",
          "data": {
            "text/plain": [
              "{'neg': 0.0, 'neu': 0.423, 'pos': 0.577, 'compound': 0.6249}"
            ]
          },
          "metadata": {},
          "execution_count": 48
        }
      ]
    },
    {
      "cell_type": "markdown",
      "source": [
        "**'compound': 0.6249**"
      ],
      "metadata": {
        "id": "YFoX24plxU_U"
      }
    },
    {
      "cell_type": "code",
      "source": [
        "sia.polarity_scores(\"I liked this music but it is not good as the other one\")"
      ],
      "metadata": {
        "execution": {
          "iopub.status.busy": "2024-01-08T10:49:21.996048Z",
          "iopub.execute_input": "2024-01-08T10:49:21.996445Z",
          "iopub.status.idle": "2024-01-08T10:49:22.004602Z",
          "shell.execute_reply.started": "2024-01-08T10:49:21.996413Z",
          "shell.execute_reply": "2024-01-08T10:49:22.003591Z"
        },
        "trusted": true,
        "id": "_1SH_AOKxU_U",
        "outputId": "542b306e-73a4-4f44-8a85-6fd0f4e0ddba",
        "colab": {
          "base_uri": "https://localhost:8080/"
        }
      },
      "execution_count": 49,
      "outputs": [
        {
          "output_type": "execute_result",
          "data": {
            "text/plain": [
              "{'neg': 0.207, 'neu': 0.666, 'pos': 0.127, 'compound': -0.298}"
            ]
          },
          "metadata": {},
          "execution_count": 49
        }
      ]
    },
    {
      "cell_type": "markdown",
      "source": [
        "**'compound': -0.298**"
      ],
      "metadata": {
        "id": "-1F1vOMmxU_U"
      }
    },
    {
      "cell_type": "code",
      "source": [
        "df[\"reviewText\"][0:10].apply(lambda x: sia.polarity_scores(x))"
      ],
      "metadata": {
        "execution": {
          "iopub.status.busy": "2024-01-08T10:51:49.777068Z",
          "iopub.execute_input": "2024-01-08T10:51:49.777534Z",
          "iopub.status.idle": "2024-01-08T10:51:49.797433Z",
          "shell.execute_reply.started": "2024-01-08T10:51:49.777491Z",
          "shell.execute_reply": "2024-01-08T10:51:49.795873Z"
        },
        "trusted": true,
        "id": "qBXLR0iMxU_U",
        "outputId": "9d11a888-02cd-43dc-e611-f000559b1e12",
        "colab": {
          "base_uri": "https://localhost:8080/",
          "height": 397
        }
      },
      "execution_count": 50,
      "outputs": [
        {
          "output_type": "execute_result",
          "data": {
            "text/plain": [
              "0    {'neg': 0.0, 'neu': 1.0, 'pos': 0.0, 'compound...\n",
              "1    {'neg': 0.0, 'neu': 1.0, 'pos': 0.0, 'compound...\n",
              "2    {'neg': 0.0, 'neu': 0.803, 'pos': 0.197, 'comp...\n",
              "3    {'neg': 0.0, 'neu': 0.798, 'pos': 0.202, 'comp...\n",
              "4    {'neg': 0.0, 'neu': 0.747, 'pos': 0.253, 'comp...\n",
              "5    {'neg': 0.0, 'neu': 1.0, 'pos': 0.0, 'compound...\n",
              "6    {'neg': 0.108, 'neu': 0.598, 'pos': 0.295, 'co...\n",
              "7    {'neg': 0.077, 'neu': 0.65, 'pos': 0.272, 'com...\n",
              "8    {'neg': 0.0, 'neu': 1.0, 'pos': 0.0, 'compound...\n",
              "9    {'neg': 0.0, 'neu': 0.457, 'pos': 0.543, 'comp...\n",
              "Name: reviewText, dtype: object"
            ],
            "text/html": [
              "<div>\n",
              "<style scoped>\n",
              "    .dataframe tbody tr th:only-of-type {\n",
              "        vertical-align: middle;\n",
              "    }\n",
              "\n",
              "    .dataframe tbody tr th {\n",
              "        vertical-align: top;\n",
              "    }\n",
              "\n",
              "    .dataframe thead th {\n",
              "        text-align: right;\n",
              "    }\n",
              "</style>\n",
              "<table border=\"1\" class=\"dataframe\">\n",
              "  <thead>\n",
              "    <tr style=\"text-align: right;\">\n",
              "      <th></th>\n",
              "      <th>reviewText</th>\n",
              "    </tr>\n",
              "  </thead>\n",
              "  <tbody>\n",
              "    <tr>\n",
              "      <th>0</th>\n",
              "      <td>{'neg': 0.0, 'neu': 1.0, 'pos': 0.0, 'compound...</td>\n",
              "    </tr>\n",
              "    <tr>\n",
              "      <th>1</th>\n",
              "      <td>{'neg': 0.0, 'neu': 1.0, 'pos': 0.0, 'compound...</td>\n",
              "    </tr>\n",
              "    <tr>\n",
              "      <th>2</th>\n",
              "      <td>{'neg': 0.0, 'neu': 0.803, 'pos': 0.197, 'comp...</td>\n",
              "    </tr>\n",
              "    <tr>\n",
              "      <th>3</th>\n",
              "      <td>{'neg': 0.0, 'neu': 0.798, 'pos': 0.202, 'comp...</td>\n",
              "    </tr>\n",
              "    <tr>\n",
              "      <th>4</th>\n",
              "      <td>{'neg': 0.0, 'neu': 0.747, 'pos': 0.253, 'comp...</td>\n",
              "    </tr>\n",
              "    <tr>\n",
              "      <th>5</th>\n",
              "      <td>{'neg': 0.0, 'neu': 1.0, 'pos': 0.0, 'compound...</td>\n",
              "    </tr>\n",
              "    <tr>\n",
              "      <th>6</th>\n",
              "      <td>{'neg': 0.108, 'neu': 0.598, 'pos': 0.295, 'co...</td>\n",
              "    </tr>\n",
              "    <tr>\n",
              "      <th>7</th>\n",
              "      <td>{'neg': 0.077, 'neu': 0.65, 'pos': 0.272, 'com...</td>\n",
              "    </tr>\n",
              "    <tr>\n",
              "      <th>8</th>\n",
              "      <td>{'neg': 0.0, 'neu': 1.0, 'pos': 0.0, 'compound...</td>\n",
              "    </tr>\n",
              "    <tr>\n",
              "      <th>9</th>\n",
              "      <td>{'neg': 0.0, 'neu': 0.457, 'pos': 0.543, 'comp...</td>\n",
              "    </tr>\n",
              "  </tbody>\n",
              "</table>\n",
              "</div><br><label><b>dtype:</b> object</label>"
            ]
          },
          "metadata": {},
          "execution_count": 50
        }
      ]
    },
    {
      "cell_type": "code",
      "source": [
        "df[\"reviewText\"][0:10].apply(lambda x: sia.polarity_scores(x)[\"compound\"])"
      ],
      "metadata": {
        "execution": {
          "iopub.status.busy": "2024-01-08T10:51:53.935353Z",
          "iopub.execute_input": "2024-01-08T10:51:53.936116Z",
          "iopub.status.idle": "2024-01-08T10:51:53.951813Z",
          "shell.execute_reply.started": "2024-01-08T10:51:53.936069Z",
          "shell.execute_reply": "2024-01-08T10:51:53.950369Z"
        },
        "trusted": true,
        "id": "KyI2aitWxU_U",
        "outputId": "f00422e8-af79-47ec-cbfd-92ce93eb7bbb",
        "colab": {
          "base_uri": "https://localhost:8080/",
          "height": 397
        }
      },
      "execution_count": 51,
      "outputs": [
        {
          "output_type": "execute_result",
          "data": {
            "text/plain": [
              "0   0.00\n",
              "1   0.00\n",
              "2   0.40\n",
              "3   0.65\n",
              "4   0.86\n",
              "5   0.00\n",
              "6   0.87\n",
              "7   0.82\n",
              "8   0.00\n",
              "9   0.92\n",
              "Name: reviewText, dtype: float64"
            ],
            "text/html": [
              "<div>\n",
              "<style scoped>\n",
              "    .dataframe tbody tr th:only-of-type {\n",
              "        vertical-align: middle;\n",
              "    }\n",
              "\n",
              "    .dataframe tbody tr th {\n",
              "        vertical-align: top;\n",
              "    }\n",
              "\n",
              "    .dataframe thead th {\n",
              "        text-align: right;\n",
              "    }\n",
              "</style>\n",
              "<table border=\"1\" class=\"dataframe\">\n",
              "  <thead>\n",
              "    <tr style=\"text-align: right;\">\n",
              "      <th></th>\n",
              "      <th>reviewText</th>\n",
              "    </tr>\n",
              "  </thead>\n",
              "  <tbody>\n",
              "    <tr>\n",
              "      <th>0</th>\n",
              "      <td>0.00</td>\n",
              "    </tr>\n",
              "    <tr>\n",
              "      <th>1</th>\n",
              "      <td>0.00</td>\n",
              "    </tr>\n",
              "    <tr>\n",
              "      <th>2</th>\n",
              "      <td>0.40</td>\n",
              "    </tr>\n",
              "    <tr>\n",
              "      <th>3</th>\n",
              "      <td>0.65</td>\n",
              "    </tr>\n",
              "    <tr>\n",
              "      <th>4</th>\n",
              "      <td>0.86</td>\n",
              "    </tr>\n",
              "    <tr>\n",
              "      <th>5</th>\n",
              "      <td>0.00</td>\n",
              "    </tr>\n",
              "    <tr>\n",
              "      <th>6</th>\n",
              "      <td>0.87</td>\n",
              "    </tr>\n",
              "    <tr>\n",
              "      <th>7</th>\n",
              "      <td>0.82</td>\n",
              "    </tr>\n",
              "    <tr>\n",
              "      <th>8</th>\n",
              "      <td>0.00</td>\n",
              "    </tr>\n",
              "    <tr>\n",
              "      <th>9</th>\n",
              "      <td>0.92</td>\n",
              "    </tr>\n",
              "  </tbody>\n",
              "</table>\n",
              "</div><br><label><b>dtype:</b> float64</label>"
            ]
          },
          "metadata": {},
          "execution_count": 51
        }
      ]
    },
    {
      "cell_type": "code",
      "source": [
        "df[\"polarity_score\"] = df[\"reviewText\"].apply(lambda x: sia.polarity_scores(x)[\"compound\"])"
      ],
      "metadata": {
        "execution": {
          "iopub.status.busy": "2024-01-08T10:51:59.420745Z",
          "iopub.execute_input": "2024-01-08T10:51:59.421154Z",
          "iopub.status.idle": "2024-01-08T10:52:01.782525Z",
          "shell.execute_reply.started": "2024-01-08T10:51:59.421123Z",
          "shell.execute_reply": "2024-01-08T10:52:01.781174Z"
        },
        "trusted": true,
        "id": "cojTXi6oxU_U"
      },
      "execution_count": 52,
      "outputs": []
    },
    {
      "cell_type": "code",
      "source": [
        "df.head(20)"
      ],
      "metadata": {
        "execution": {
          "iopub.status.busy": "2024-01-08T10:52:15.256206Z",
          "iopub.execute_input": "2024-01-08T10:52:15.25776Z",
          "iopub.status.idle": "2024-01-08T10:52:15.28283Z",
          "shell.execute_reply.started": "2024-01-08T10:52:15.25767Z",
          "shell.execute_reply": "2024-01-08T10:52:15.281603Z"
        },
        "trusted": true,
        "id": "BcAXYo46xU_U",
        "outputId": "0081a076-b2e3-465e-a967-041a0dde1a48",
        "colab": {
          "base_uri": "https://localhost:8080/",
          "height": 1000
        }
      },
      "execution_count": 53,
      "outputs": [
        {
          "output_type": "execute_result",
          "data": {
            "text/plain": [
              "        reviewerID        asin                                      reviewerName helpful                                         reviewText  overall  \\\n",
              "0   A3SBTW3WS4IQSN  B007WTAJTO                                               NaN  [0, 0]                                              issue     4.00   \n",
              "1   A18K1ODH1I2MVB  B007WTAJTO                                              0mie  [0, 0]  purchased device worked advertised never much ...     5.00   \n",
              "2   A2FII3I2MBMUIA  B007WTAJTO                                               1K3  [0, 0]  work expected higher capacity think made bit e...     4.00   \n",
              "3    A3H99DFEG68SR  B007WTAJTO                                               1m2  [0, 0]  think worked gb card went south one held prett...     5.00   \n",
              "4   A375ZM4U047O79  B007WTAJTO                                      2&amp;1/2Men  [0, 0]  bought retail packaging arrived legit envelope...     5.00   \n",
              "5   A2IDCSC6NVONIZ  B007WTAJTO                                           2Cents!  [0, 0]  mini storage doesnt anything else supposed pur...     5.00   \n",
              "6   A26YHXZD5UFPVQ  B007WTAJTO                                        2K1Toaster  [0, 0]  phone never skip beat file transfer speedy cor...     5.00   \n",
              "7   A3CW0ZLUO5X2B1  B007WTAJTO  35-year Technology Consumer \"8-tracks to 802.11\"  [0, 0]  hard believe affordable digital become gb devi...     5.00   \n",
              "8   A2CYJO155QP33S  B007WTAJTO                                         4evryoung  [1, 1]  work htc rezound running short space gb sandis...     5.00   \n",
              "9   A2S7XG3ZC4VGOQ  B007WTAJTO                                          53rdcard  [0, 0]  galaxy super fast card totally happy happy sti...     5.00   \n",
              "10  A1RTQROTWR5NCB  B007WTAJTO                                         808TREX50  [0, 0]  like sd card take music video downloads person...     5.00   \n",
              "11  A2Q3ICGWZLY3JJ  B007WTAJTO                                             98020  [0, 0]  work file writes bit slower expected usb read ...     3.00   \n",
              "12   AN2VFTXYW1SZU  B007WTAJTO                                            9z4cda  [0, 0]                          name speaks go sandisk go     5.00   \n",
              "13   AVHN134ADVP4R  B007WTAJTO                              A4Q96 \"Gadget Lover\"  [0, 0]  solid sdhc card fast reading writing fast reco...     5.00   \n",
              "14   A3EA7KGYC8LB0  B007WTAJTO                                     Aaron \"Aaron\"  [0, 0]  heard card write speed insufficient however us...     5.00   \n",
              "15  A29RI184HRX66H  B007WTAJTO                                     Aaron \"Aaron\"  [0, 0]  bought use go pro hero black edition requires ...     5.00   \n",
              "16  A2G9ZHVA6IOGBY  B007WTAJTO                                     Aaron Alvarez  [0, 0]  got gb one filled kept getting insufficient di...     5.00   \n",
              "17  A1OATGH4DF0RF0  B007WTAJTO                                 Aaron F. Virginie  [0, 1]  class speed rating seamless full hd sandisk ul...     5.00   \n",
              "18  A1V6CQACZ9IOLC  B007WTAJTO                                      Aaron Graves  [0, 0]  read write speed better samsung sd card previo...     5.00   \n",
              "19  A2ELBSIZ26GKM2  B007WTAJTO                                             Aaron  [0, 0]  work video stuttering like gb blah blah blah b...     5.00   \n",
              "\n",
              "                                              summary  unixReviewTime  reviewTime  day_diff  helpful_yes  total_vote  polarity_score  \n",
              "0                                          Four Stars      1406073600  2014-07-23       138            0           0            0.00  \n",
              "1                                       MOAR SPACE!!!      1382659200  2013-10-25       409            0           0            0.00  \n",
              "2                           nothing to really say....      1356220800  2012-12-23       715            0           0            0.40  \n",
              "3              Great buy at this price!!!  *** UPDATE      1384992000  2013-11-21       382            0           0            0.65  \n",
              "4                                    best deal around      1373673600  2013-07-13       513            0           0            0.86  \n",
              "5                         Not a lot to really be said      1367193600  2013-04-29       588            0           0            0.00  \n",
              "6                                          Works well      1382140800  2013-10-19       415            0           0            0.87  \n",
              "7   32 GB for less than two sawbucks...what's not ...      1404950400  2014-10-07        62            0           0            0.82  \n",
              "8                                       Loads of room      1395619200  2014-03-24       259            1           1            0.00  \n",
              "9                                         works great      1381449600  2013-11-10       393            0           0            0.92  \n",
              "10                                 32GB MicroSD Card.      1368230400  2013-11-05       398            0           0            0.94  \n",
              "11              It works, but not as fast as expected      1384905600  2013-11-20       383            0           0            0.00  \n",
              "12                               A RENOUND NAME BRAND      1404432000  2014-04-07       245            0           0            0.00  \n",
              "13                                    Great SDHC card      1384992000  2013-11-21       382            0           0            0.82  \n",
              "14                  Use it for my GoPro Hero 3+ Black      1392595200  2014-02-17       294            0           0            0.31  \n",
              "15                    Awesome price, great brand name      1357257600  2013-04-01       616            0           0            0.72  \n",
              "16                                  great price. fast      1393718400  2014-02-03       308            0           0            0.85  \n",
              "17                                Get Fast Load Times      1372896000  2013-04-07       610            0           1            0.90  \n",
              "18                     Very good little Micro SD card      1398988800  2014-02-05       306            0           0            0.85  \n",
              "19                                              works      1389052800  2014-07-01       160            0           0           -0.34  "
            ],
            "text/html": [
              "\n",
              "  <div id=\"df-c97bc06f-1027-4097-b9d7-57bfe1aba086\" class=\"colab-df-container\">\n",
              "    <div>\n",
              "<style scoped>\n",
              "    .dataframe tbody tr th:only-of-type {\n",
              "        vertical-align: middle;\n",
              "    }\n",
              "\n",
              "    .dataframe tbody tr th {\n",
              "        vertical-align: top;\n",
              "    }\n",
              "\n",
              "    .dataframe thead th {\n",
              "        text-align: right;\n",
              "    }\n",
              "</style>\n",
              "<table border=\"1\" class=\"dataframe\">\n",
              "  <thead>\n",
              "    <tr style=\"text-align: right;\">\n",
              "      <th></th>\n",
              "      <th>reviewerID</th>\n",
              "      <th>asin</th>\n",
              "      <th>reviewerName</th>\n",
              "      <th>helpful</th>\n",
              "      <th>reviewText</th>\n",
              "      <th>overall</th>\n",
              "      <th>summary</th>\n",
              "      <th>unixReviewTime</th>\n",
              "      <th>reviewTime</th>\n",
              "      <th>day_diff</th>\n",
              "      <th>helpful_yes</th>\n",
              "      <th>total_vote</th>\n",
              "      <th>polarity_score</th>\n",
              "    </tr>\n",
              "  </thead>\n",
              "  <tbody>\n",
              "    <tr>\n",
              "      <th>0</th>\n",
              "      <td>A3SBTW3WS4IQSN</td>\n",
              "      <td>B007WTAJTO</td>\n",
              "      <td>NaN</td>\n",
              "      <td>[0, 0]</td>\n",
              "      <td>issue</td>\n",
              "      <td>4.00</td>\n",
              "      <td>Four Stars</td>\n",
              "      <td>1406073600</td>\n",
              "      <td>2014-07-23</td>\n",
              "      <td>138</td>\n",
              "      <td>0</td>\n",
              "      <td>0</td>\n",
              "      <td>0.00</td>\n",
              "    </tr>\n",
              "    <tr>\n",
              "      <th>1</th>\n",
              "      <td>A18K1ODH1I2MVB</td>\n",
              "      <td>B007WTAJTO</td>\n",
              "      <td>0mie</td>\n",
              "      <td>[0, 0]</td>\n",
              "      <td>purchased device worked advertised never much ...</td>\n",
              "      <td>5.00</td>\n",
              "      <td>MOAR SPACE!!!</td>\n",
              "      <td>1382659200</td>\n",
              "      <td>2013-10-25</td>\n",
              "      <td>409</td>\n",
              "      <td>0</td>\n",
              "      <td>0</td>\n",
              "      <td>0.00</td>\n",
              "    </tr>\n",
              "    <tr>\n",
              "      <th>2</th>\n",
              "      <td>A2FII3I2MBMUIA</td>\n",
              "      <td>B007WTAJTO</td>\n",
              "      <td>1K3</td>\n",
              "      <td>[0, 0]</td>\n",
              "      <td>work expected higher capacity think made bit e...</td>\n",
              "      <td>4.00</td>\n",
              "      <td>nothing to really say....</td>\n",
              "      <td>1356220800</td>\n",
              "      <td>2012-12-23</td>\n",
              "      <td>715</td>\n",
              "      <td>0</td>\n",
              "      <td>0</td>\n",
              "      <td>0.40</td>\n",
              "    </tr>\n",
              "    <tr>\n",
              "      <th>3</th>\n",
              "      <td>A3H99DFEG68SR</td>\n",
              "      <td>B007WTAJTO</td>\n",
              "      <td>1m2</td>\n",
              "      <td>[0, 0]</td>\n",
              "      <td>think worked gb card went south one held prett...</td>\n",
              "      <td>5.00</td>\n",
              "      <td>Great buy at this price!!!  *** UPDATE</td>\n",
              "      <td>1384992000</td>\n",
              "      <td>2013-11-21</td>\n",
              "      <td>382</td>\n",
              "      <td>0</td>\n",
              "      <td>0</td>\n",
              "      <td>0.65</td>\n",
              "    </tr>\n",
              "    <tr>\n",
              "      <th>4</th>\n",
              "      <td>A375ZM4U047O79</td>\n",
              "      <td>B007WTAJTO</td>\n",
              "      <td>2&amp;amp;1/2Men</td>\n",
              "      <td>[0, 0]</td>\n",
              "      <td>bought retail packaging arrived legit envelope...</td>\n",
              "      <td>5.00</td>\n",
              "      <td>best deal around</td>\n",
              "      <td>1373673600</td>\n",
              "      <td>2013-07-13</td>\n",
              "      <td>513</td>\n",
              "      <td>0</td>\n",
              "      <td>0</td>\n",
              "      <td>0.86</td>\n",
              "    </tr>\n",
              "    <tr>\n",
              "      <th>5</th>\n",
              "      <td>A2IDCSC6NVONIZ</td>\n",
              "      <td>B007WTAJTO</td>\n",
              "      <td>2Cents!</td>\n",
              "      <td>[0, 0]</td>\n",
              "      <td>mini storage doesnt anything else supposed pur...</td>\n",
              "      <td>5.00</td>\n",
              "      <td>Not a lot to really be said</td>\n",
              "      <td>1367193600</td>\n",
              "      <td>2013-04-29</td>\n",
              "      <td>588</td>\n",
              "      <td>0</td>\n",
              "      <td>0</td>\n",
              "      <td>0.00</td>\n",
              "    </tr>\n",
              "    <tr>\n",
              "      <th>6</th>\n",
              "      <td>A26YHXZD5UFPVQ</td>\n",
              "      <td>B007WTAJTO</td>\n",
              "      <td>2K1Toaster</td>\n",
              "      <td>[0, 0]</td>\n",
              "      <td>phone never skip beat file transfer speedy cor...</td>\n",
              "      <td>5.00</td>\n",
              "      <td>Works well</td>\n",
              "      <td>1382140800</td>\n",
              "      <td>2013-10-19</td>\n",
              "      <td>415</td>\n",
              "      <td>0</td>\n",
              "      <td>0</td>\n",
              "      <td>0.87</td>\n",
              "    </tr>\n",
              "    <tr>\n",
              "      <th>7</th>\n",
              "      <td>A3CW0ZLUO5X2B1</td>\n",
              "      <td>B007WTAJTO</td>\n",
              "      <td>35-year Technology Consumer \"8-tracks to 802.11\"</td>\n",
              "      <td>[0, 0]</td>\n",
              "      <td>hard believe affordable digital become gb devi...</td>\n",
              "      <td>5.00</td>\n",
              "      <td>32 GB for less than two sawbucks...what's not ...</td>\n",
              "      <td>1404950400</td>\n",
              "      <td>2014-10-07</td>\n",
              "      <td>62</td>\n",
              "      <td>0</td>\n",
              "      <td>0</td>\n",
              "      <td>0.82</td>\n",
              "    </tr>\n",
              "    <tr>\n",
              "      <th>8</th>\n",
              "      <td>A2CYJO155QP33S</td>\n",
              "      <td>B007WTAJTO</td>\n",
              "      <td>4evryoung</td>\n",
              "      <td>[1, 1]</td>\n",
              "      <td>work htc rezound running short space gb sandis...</td>\n",
              "      <td>5.00</td>\n",
              "      <td>Loads of room</td>\n",
              "      <td>1395619200</td>\n",
              "      <td>2014-03-24</td>\n",
              "      <td>259</td>\n",
              "      <td>1</td>\n",
              "      <td>1</td>\n",
              "      <td>0.00</td>\n",
              "    </tr>\n",
              "    <tr>\n",
              "      <th>9</th>\n",
              "      <td>A2S7XG3ZC4VGOQ</td>\n",
              "      <td>B007WTAJTO</td>\n",
              "      <td>53rdcard</td>\n",
              "      <td>[0, 0]</td>\n",
              "      <td>galaxy super fast card totally happy happy sti...</td>\n",
              "      <td>5.00</td>\n",
              "      <td>works great</td>\n",
              "      <td>1381449600</td>\n",
              "      <td>2013-11-10</td>\n",
              "      <td>393</td>\n",
              "      <td>0</td>\n",
              "      <td>0</td>\n",
              "      <td>0.92</td>\n",
              "    </tr>\n",
              "    <tr>\n",
              "      <th>10</th>\n",
              "      <td>A1RTQROTWR5NCB</td>\n",
              "      <td>B007WTAJTO</td>\n",
              "      <td>808TREX50</td>\n",
              "      <td>[0, 0]</td>\n",
              "      <td>like sd card take music video downloads person...</td>\n",
              "      <td>5.00</td>\n",
              "      <td>32GB MicroSD Card.</td>\n",
              "      <td>1368230400</td>\n",
              "      <td>2013-11-05</td>\n",
              "      <td>398</td>\n",
              "      <td>0</td>\n",
              "      <td>0</td>\n",
              "      <td>0.94</td>\n",
              "    </tr>\n",
              "    <tr>\n",
              "      <th>11</th>\n",
              "      <td>A2Q3ICGWZLY3JJ</td>\n",
              "      <td>B007WTAJTO</td>\n",
              "      <td>98020</td>\n",
              "      <td>[0, 0]</td>\n",
              "      <td>work file writes bit slower expected usb read ...</td>\n",
              "      <td>3.00</td>\n",
              "      <td>It works, but not as fast as expected</td>\n",
              "      <td>1384905600</td>\n",
              "      <td>2013-11-20</td>\n",
              "      <td>383</td>\n",
              "      <td>0</td>\n",
              "      <td>0</td>\n",
              "      <td>0.00</td>\n",
              "    </tr>\n",
              "    <tr>\n",
              "      <th>12</th>\n",
              "      <td>AN2VFTXYW1SZU</td>\n",
              "      <td>B007WTAJTO</td>\n",
              "      <td>9z4cda</td>\n",
              "      <td>[0, 0]</td>\n",
              "      <td>name speaks go sandisk go</td>\n",
              "      <td>5.00</td>\n",
              "      <td>A RENOUND NAME BRAND</td>\n",
              "      <td>1404432000</td>\n",
              "      <td>2014-04-07</td>\n",
              "      <td>245</td>\n",
              "      <td>0</td>\n",
              "      <td>0</td>\n",
              "      <td>0.00</td>\n",
              "    </tr>\n",
              "    <tr>\n",
              "      <th>13</th>\n",
              "      <td>AVHN134ADVP4R</td>\n",
              "      <td>B007WTAJTO</td>\n",
              "      <td>A4Q96 \"Gadget Lover\"</td>\n",
              "      <td>[0, 0]</td>\n",
              "      <td>solid sdhc card fast reading writing fast reco...</td>\n",
              "      <td>5.00</td>\n",
              "      <td>Great SDHC card</td>\n",
              "      <td>1384992000</td>\n",
              "      <td>2013-11-21</td>\n",
              "      <td>382</td>\n",
              "      <td>0</td>\n",
              "      <td>0</td>\n",
              "      <td>0.82</td>\n",
              "    </tr>\n",
              "    <tr>\n",
              "      <th>14</th>\n",
              "      <td>A3EA7KGYC8LB0</td>\n",
              "      <td>B007WTAJTO</td>\n",
              "      <td>Aaron \"Aaron\"</td>\n",
              "      <td>[0, 0]</td>\n",
              "      <td>heard card write speed insufficient however us...</td>\n",
              "      <td>5.00</td>\n",
              "      <td>Use it for my GoPro Hero 3+ Black</td>\n",
              "      <td>1392595200</td>\n",
              "      <td>2014-02-17</td>\n",
              "      <td>294</td>\n",
              "      <td>0</td>\n",
              "      <td>0</td>\n",
              "      <td>0.31</td>\n",
              "    </tr>\n",
              "    <tr>\n",
              "      <th>15</th>\n",
              "      <td>A29RI184HRX66H</td>\n",
              "      <td>B007WTAJTO</td>\n",
              "      <td>Aaron \"Aaron\"</td>\n",
              "      <td>[0, 0]</td>\n",
              "      <td>bought use go pro hero black edition requires ...</td>\n",
              "      <td>5.00</td>\n",
              "      <td>Awesome price, great brand name</td>\n",
              "      <td>1357257600</td>\n",
              "      <td>2013-04-01</td>\n",
              "      <td>616</td>\n",
              "      <td>0</td>\n",
              "      <td>0</td>\n",
              "      <td>0.72</td>\n",
              "    </tr>\n",
              "    <tr>\n",
              "      <th>16</th>\n",
              "      <td>A2G9ZHVA6IOGBY</td>\n",
              "      <td>B007WTAJTO</td>\n",
              "      <td>Aaron Alvarez</td>\n",
              "      <td>[0, 0]</td>\n",
              "      <td>got gb one filled kept getting insufficient di...</td>\n",
              "      <td>5.00</td>\n",
              "      <td>great price. fast</td>\n",
              "      <td>1393718400</td>\n",
              "      <td>2014-02-03</td>\n",
              "      <td>308</td>\n",
              "      <td>0</td>\n",
              "      <td>0</td>\n",
              "      <td>0.85</td>\n",
              "    </tr>\n",
              "    <tr>\n",
              "      <th>17</th>\n",
              "      <td>A1OATGH4DF0RF0</td>\n",
              "      <td>B007WTAJTO</td>\n",
              "      <td>Aaron F. Virginie</td>\n",
              "      <td>[0, 1]</td>\n",
              "      <td>class speed rating seamless full hd sandisk ul...</td>\n",
              "      <td>5.00</td>\n",
              "      <td>Get Fast Load Times</td>\n",
              "      <td>1372896000</td>\n",
              "      <td>2013-04-07</td>\n",
              "      <td>610</td>\n",
              "      <td>0</td>\n",
              "      <td>1</td>\n",
              "      <td>0.90</td>\n",
              "    </tr>\n",
              "    <tr>\n",
              "      <th>18</th>\n",
              "      <td>A1V6CQACZ9IOLC</td>\n",
              "      <td>B007WTAJTO</td>\n",
              "      <td>Aaron Graves</td>\n",
              "      <td>[0, 0]</td>\n",
              "      <td>read write speed better samsung sd card previo...</td>\n",
              "      <td>5.00</td>\n",
              "      <td>Very good little Micro SD card</td>\n",
              "      <td>1398988800</td>\n",
              "      <td>2014-02-05</td>\n",
              "      <td>306</td>\n",
              "      <td>0</td>\n",
              "      <td>0</td>\n",
              "      <td>0.85</td>\n",
              "    </tr>\n",
              "    <tr>\n",
              "      <th>19</th>\n",
              "      <td>A2ELBSIZ26GKM2</td>\n",
              "      <td>B007WTAJTO</td>\n",
              "      <td>Aaron</td>\n",
              "      <td>[0, 0]</td>\n",
              "      <td>work video stuttering like gb blah blah blah b...</td>\n",
              "      <td>5.00</td>\n",
              "      <td>works</td>\n",
              "      <td>1389052800</td>\n",
              "      <td>2014-07-01</td>\n",
              "      <td>160</td>\n",
              "      <td>0</td>\n",
              "      <td>0</td>\n",
              "      <td>-0.34</td>\n",
              "    </tr>\n",
              "  </tbody>\n",
              "</table>\n",
              "</div>\n",
              "    <div class=\"colab-df-buttons\">\n",
              "\n",
              "  <div class=\"colab-df-container\">\n",
              "    <button class=\"colab-df-convert\" onclick=\"convertToInteractive('df-c97bc06f-1027-4097-b9d7-57bfe1aba086')\"\n",
              "            title=\"Convert this dataframe to an interactive table.\"\n",
              "            style=\"display:none;\">\n",
              "\n",
              "  <svg xmlns=\"http://www.w3.org/2000/svg\" height=\"24px\" viewBox=\"0 -960 960 960\">\n",
              "    <path d=\"M120-120v-720h720v720H120Zm60-500h600v-160H180v160Zm220 220h160v-160H400v160Zm0 220h160v-160H400v160ZM180-400h160v-160H180v160Zm440 0h160v-160H620v160ZM180-180h160v-160H180v160Zm440 0h160v-160H620v160Z\"/>\n",
              "  </svg>\n",
              "    </button>\n",
              "\n",
              "  <style>\n",
              "    .colab-df-container {\n",
              "      display:flex;\n",
              "      gap: 12px;\n",
              "    }\n",
              "\n",
              "    .colab-df-convert {\n",
              "      background-color: #E8F0FE;\n",
              "      border: none;\n",
              "      border-radius: 50%;\n",
              "      cursor: pointer;\n",
              "      display: none;\n",
              "      fill: #1967D2;\n",
              "      height: 32px;\n",
              "      padding: 0 0 0 0;\n",
              "      width: 32px;\n",
              "    }\n",
              "\n",
              "    .colab-df-convert:hover {\n",
              "      background-color: #E2EBFA;\n",
              "      box-shadow: 0px 1px 2px rgba(60, 64, 67, 0.3), 0px 1px 3px 1px rgba(60, 64, 67, 0.15);\n",
              "      fill: #174EA6;\n",
              "    }\n",
              "\n",
              "    .colab-df-buttons div {\n",
              "      margin-bottom: 4px;\n",
              "    }\n",
              "\n",
              "    [theme=dark] .colab-df-convert {\n",
              "      background-color: #3B4455;\n",
              "      fill: #D2E3FC;\n",
              "    }\n",
              "\n",
              "    [theme=dark] .colab-df-convert:hover {\n",
              "      background-color: #434B5C;\n",
              "      box-shadow: 0px 1px 3px 1px rgba(0, 0, 0, 0.15);\n",
              "      filter: drop-shadow(0px 1px 2px rgba(0, 0, 0, 0.3));\n",
              "      fill: #FFFFFF;\n",
              "    }\n",
              "  </style>\n",
              "\n",
              "    <script>\n",
              "      const buttonEl =\n",
              "        document.querySelector('#df-c97bc06f-1027-4097-b9d7-57bfe1aba086 button.colab-df-convert');\n",
              "      buttonEl.style.display =\n",
              "        google.colab.kernel.accessAllowed ? 'block' : 'none';\n",
              "\n",
              "      async function convertToInteractive(key) {\n",
              "        const element = document.querySelector('#df-c97bc06f-1027-4097-b9d7-57bfe1aba086');\n",
              "        const dataTable =\n",
              "          await google.colab.kernel.invokeFunction('convertToInteractive',\n",
              "                                                    [key], {});\n",
              "        if (!dataTable) return;\n",
              "\n",
              "        const docLinkHtml = 'Like what you see? Visit the ' +\n",
              "          '<a target=\"_blank\" href=https://colab.research.google.com/notebooks/data_table.ipynb>data table notebook</a>'\n",
              "          + ' to learn more about interactive tables.';\n",
              "        element.innerHTML = '';\n",
              "        dataTable['output_type'] = 'display_data';\n",
              "        await google.colab.output.renderOutput(dataTable, element);\n",
              "        const docLink = document.createElement('div');\n",
              "        docLink.innerHTML = docLinkHtml;\n",
              "        element.appendChild(docLink);\n",
              "      }\n",
              "    </script>\n",
              "  </div>\n",
              "\n",
              "\n",
              "    <div id=\"df-28808c6a-8cc2-46eb-bd7b-467575e5a567\">\n",
              "      <button class=\"colab-df-quickchart\" onclick=\"quickchart('df-28808c6a-8cc2-46eb-bd7b-467575e5a567')\"\n",
              "                title=\"Suggest charts\"\n",
              "                style=\"display:none;\">\n",
              "\n",
              "<svg xmlns=\"http://www.w3.org/2000/svg\" height=\"24px\"viewBox=\"0 0 24 24\"\n",
              "     width=\"24px\">\n",
              "    <g>\n",
              "        <path d=\"M19 3H5c-1.1 0-2 .9-2 2v14c0 1.1.9 2 2 2h14c1.1 0 2-.9 2-2V5c0-1.1-.9-2-2-2zM9 17H7v-7h2v7zm4 0h-2V7h2v10zm4 0h-2v-4h2v4z\"/>\n",
              "    </g>\n",
              "</svg>\n",
              "      </button>\n",
              "\n",
              "<style>\n",
              "  .colab-df-quickchart {\n",
              "      --bg-color: #E8F0FE;\n",
              "      --fill-color: #1967D2;\n",
              "      --hover-bg-color: #E2EBFA;\n",
              "      --hover-fill-color: #174EA6;\n",
              "      --disabled-fill-color: #AAA;\n",
              "      --disabled-bg-color: #DDD;\n",
              "  }\n",
              "\n",
              "  [theme=dark] .colab-df-quickchart {\n",
              "      --bg-color: #3B4455;\n",
              "      --fill-color: #D2E3FC;\n",
              "      --hover-bg-color: #434B5C;\n",
              "      --hover-fill-color: #FFFFFF;\n",
              "      --disabled-bg-color: #3B4455;\n",
              "      --disabled-fill-color: #666;\n",
              "  }\n",
              "\n",
              "  .colab-df-quickchart {\n",
              "    background-color: var(--bg-color);\n",
              "    border: none;\n",
              "    border-radius: 50%;\n",
              "    cursor: pointer;\n",
              "    display: none;\n",
              "    fill: var(--fill-color);\n",
              "    height: 32px;\n",
              "    padding: 0;\n",
              "    width: 32px;\n",
              "  }\n",
              "\n",
              "  .colab-df-quickchart:hover {\n",
              "    background-color: var(--hover-bg-color);\n",
              "    box-shadow: 0 1px 2px rgba(60, 64, 67, 0.3), 0 1px 3px 1px rgba(60, 64, 67, 0.15);\n",
              "    fill: var(--button-hover-fill-color);\n",
              "  }\n",
              "\n",
              "  .colab-df-quickchart-complete:disabled,\n",
              "  .colab-df-quickchart-complete:disabled:hover {\n",
              "    background-color: var(--disabled-bg-color);\n",
              "    fill: var(--disabled-fill-color);\n",
              "    box-shadow: none;\n",
              "  }\n",
              "\n",
              "  .colab-df-spinner {\n",
              "    border: 2px solid var(--fill-color);\n",
              "    border-color: transparent;\n",
              "    border-bottom-color: var(--fill-color);\n",
              "    animation:\n",
              "      spin 1s steps(1) infinite;\n",
              "  }\n",
              "\n",
              "  @keyframes spin {\n",
              "    0% {\n",
              "      border-color: transparent;\n",
              "      border-bottom-color: var(--fill-color);\n",
              "      border-left-color: var(--fill-color);\n",
              "    }\n",
              "    20% {\n",
              "      border-color: transparent;\n",
              "      border-left-color: var(--fill-color);\n",
              "      border-top-color: var(--fill-color);\n",
              "    }\n",
              "    30% {\n",
              "      border-color: transparent;\n",
              "      border-left-color: var(--fill-color);\n",
              "      border-top-color: var(--fill-color);\n",
              "      border-right-color: var(--fill-color);\n",
              "    }\n",
              "    40% {\n",
              "      border-color: transparent;\n",
              "      border-right-color: var(--fill-color);\n",
              "      border-top-color: var(--fill-color);\n",
              "    }\n",
              "    60% {\n",
              "      border-color: transparent;\n",
              "      border-right-color: var(--fill-color);\n",
              "    }\n",
              "    80% {\n",
              "      border-color: transparent;\n",
              "      border-right-color: var(--fill-color);\n",
              "      border-bottom-color: var(--fill-color);\n",
              "    }\n",
              "    90% {\n",
              "      border-color: transparent;\n",
              "      border-bottom-color: var(--fill-color);\n",
              "    }\n",
              "  }\n",
              "</style>\n",
              "\n",
              "      <script>\n",
              "        async function quickchart(key) {\n",
              "          const quickchartButtonEl =\n",
              "            document.querySelector('#' + key + ' button');\n",
              "          quickchartButtonEl.disabled = true;  // To prevent multiple clicks.\n",
              "          quickchartButtonEl.classList.add('colab-df-spinner');\n",
              "          try {\n",
              "            const charts = await google.colab.kernel.invokeFunction(\n",
              "                'suggestCharts', [key], {});\n",
              "          } catch (error) {\n",
              "            console.error('Error during call to suggestCharts:', error);\n",
              "          }\n",
              "          quickchartButtonEl.classList.remove('colab-df-spinner');\n",
              "          quickchartButtonEl.classList.add('colab-df-quickchart-complete');\n",
              "        }\n",
              "        (() => {\n",
              "          let quickchartButtonEl =\n",
              "            document.querySelector('#df-28808c6a-8cc2-46eb-bd7b-467575e5a567 button');\n",
              "          quickchartButtonEl.style.display =\n",
              "            google.colab.kernel.accessAllowed ? 'block' : 'none';\n",
              "        })();\n",
              "      </script>\n",
              "    </div>\n",
              "\n",
              "    </div>\n",
              "  </div>\n"
            ],
            "application/vnd.google.colaboratory.intrinsic+json": {
              "type": "dataframe",
              "variable_name": "df",
              "summary": "{\n  \"name\": \"df\",\n  \"rows\": 4915,\n  \"fields\": [\n    {\n      \"column\": \"reviewerID\",\n      \"properties\": {\n        \"dtype\": \"string\",\n        \"num_unique_values\": 4915,\n        \"samples\": [\n          \"A3V5DNLW7DPMUA\",\n          \"A1F08OEM2LEJLK\",\n          \"AOOJ8Y18T3DGM\"\n        ],\n        \"semantic_type\": \"\",\n        \"description\": \"\"\n      }\n    },\n    {\n      \"column\": \"asin\",\n      \"properties\": {\n        \"dtype\": \"category\",\n        \"num_unique_values\": 1,\n        \"samples\": [\n          \"B007WTAJTO\"\n        ],\n        \"semantic_type\": \"\",\n        \"description\": \"\"\n      }\n    },\n    {\n      \"column\": \"reviewerName\",\n      \"properties\": {\n        \"dtype\": \"string\",\n        \"num_unique_values\": 4594,\n        \"samples\": [\n          \"nta699\"\n        ],\n        \"semantic_type\": \"\",\n        \"description\": \"\"\n      }\n    },\n    {\n      \"column\": \"helpful\",\n      \"properties\": {\n        \"dtype\": \"category\",\n        \"num_unique_values\": 42,\n        \"samples\": [\n          \"[1952, 2020]\"\n        ],\n        \"semantic_type\": \"\",\n        \"description\": \"\"\n      }\n    },\n    {\n      \"column\": \"reviewText\",\n      \"properties\": {\n        \"dtype\": \"string\",\n        \"num_unique_values\": 4912,\n        \"samples\": [\n          \"bought extended memory galaxy iii great price easy install phone recognized instantly supposed\"\n        ],\n        \"semantic_type\": \"\",\n        \"description\": \"\"\n      }\n    },\n    {\n      \"column\": \"overall\",\n      \"properties\": {\n        \"dtype\": \"number\",\n        \"std\": 0.9968451383820023,\n        \"min\": 1.0,\n        \"max\": 5.0,\n        \"num_unique_values\": 5,\n        \"samples\": [\n          5.0\n        ],\n        \"semantic_type\": \"\",\n        \"description\": \"\"\n      }\n    },\n    {\n      \"column\": \"summary\",\n      \"properties\": {\n        \"dtype\": \"string\",\n        \"num_unique_values\": 3885,\n        \"samples\": [\n          \"NICE!!!\"\n        ],\n        \"semantic_type\": \"\",\n        \"description\": \"\"\n      }\n    },\n    {\n      \"column\": \"unixReviewTime\",\n      \"properties\": {\n        \"dtype\": \"number\",\n        \"std\": 15818574,\n        \"min\": 1339200000,\n        \"max\": 1406073600,\n        \"num_unique_values\": 690,\n        \"samples\": [\n          1386028800\n        ],\n        \"semantic_type\": \"\",\n        \"description\": \"\"\n      }\n    },\n    {\n      \"column\": \"reviewTime\",\n      \"properties\": {\n        \"dtype\": \"object\",\n        \"num_unique_values\": 690,\n        \"samples\": [\n          \"2013-03-12\"\n        ],\n        \"semantic_type\": \"\",\n        \"description\": \"\"\n      }\n    },\n    {\n      \"column\": \"day_diff\",\n      \"properties\": {\n        \"dtype\": \"number\",\n        \"std\": 209,\n        \"min\": 1,\n        \"max\": 1064,\n        \"num_unique_values\": 690,\n        \"samples\": [\n          636\n        ],\n        \"semantic_type\": \"\",\n        \"description\": \"\"\n      }\n    },\n    {\n      \"column\": \"helpful_yes\",\n      \"properties\": {\n        \"dtype\": \"number\",\n        \"std\": 41,\n        \"min\": 0,\n        \"max\": 1952,\n        \"num_unique_values\": 23,\n        \"samples\": [\n          1428\n        ],\n        \"semantic_type\": \"\",\n        \"description\": \"\"\n      }\n    },\n    {\n      \"column\": \"total_vote\",\n      \"properties\": {\n        \"dtype\": \"number\",\n        \"std\": 44,\n        \"min\": 0,\n        \"max\": 2020,\n        \"num_unique_values\": 26,\n        \"samples\": [\n          495\n        ],\n        \"semantic_type\": \"\",\n        \"description\": \"\"\n      }\n    },\n    {\n      \"column\": \"polarity_score\",\n      \"properties\": {\n        \"dtype\": \"number\",\n        \"std\": 0.44122435202717025,\n        \"min\": -0.9929,\n        \"max\": 0.9989,\n        \"num_unique_values\": 1175,\n        \"samples\": [\n          0.9145\n        ],\n        \"semantic_type\": \"\",\n        \"description\": \"\"\n      }\n    }\n  ]\n}"
            }
          },
          "metadata": {},
          "execution_count": 53
        }
      ]
    },
    {
      "cell_type": "markdown",
      "source": [
        "<a id=\"section-17\"></a>\n",
        "# <div style=\"padding: 30px; color:white; margin:10; font-size:75%; text-align:left; display:fill; border-radius:10px; background-color:#3b3745\"><b><span style='color:#F1A424'>6 |</span></b> <b>Feature Engineering</b></div>"
      ],
      "metadata": {
        "id": "euF0b8AKxU_U"
      }
    },
    {
      "cell_type": "markdown",
      "source": [
        "<blockquote style=\"border-left: 3px solid #009688; background-color: #E0F2F1; padding: 10px 20px; margin: 20px 0;\">\n",
        "    <p style=\"font-style: italic;\">In this section, sentiment analysis is conducted to determine the emotional tone of the texts, and each comment is labeled as 'positive' (pos) or 'negative' (neg) based on its compound sentiment score. Subsequently, we examine the distribution of these sentiment labels in the dataset and their relationship with overall rating scores. Finally, we convert these sentiment labels into numerical values for use in machine learning models. These steps help us extract meaningful features from our text data, preparing it for further analysis and modeling stages.</p>\n",
        "</blockquote>\n"
      ],
      "metadata": {
        "id": "5C5cNN0CxU_U"
      }
    },
    {
      "cell_type": "code",
      "source": [
        "df[\"reviewText\"][0:10].apply(lambda x: \"pos\" if sia.polarity_scores(x)[\"compound\"] > 0 else \"neg\")"
      ],
      "metadata": {
        "execution": {
          "iopub.status.busy": "2024-01-08T11:28:05.361586Z",
          "iopub.execute_input": "2024-01-08T11:28:05.36204Z",
          "iopub.status.idle": "2024-01-08T11:28:05.381004Z",
          "shell.execute_reply.started": "2024-01-08T11:28:05.362007Z",
          "shell.execute_reply": "2024-01-08T11:28:05.379887Z"
        },
        "trusted": true,
        "id": "0eT5InEmxU_U",
        "outputId": "a6312846-1f4b-43ae-d428-72e058ed162d",
        "colab": {
          "base_uri": "https://localhost:8080/",
          "height": 397
        }
      },
      "execution_count": 54,
      "outputs": [
        {
          "output_type": "execute_result",
          "data": {
            "text/plain": [
              "0    neg\n",
              "1    neg\n",
              "2    pos\n",
              "3    pos\n",
              "4    pos\n",
              "5    neg\n",
              "6    pos\n",
              "7    pos\n",
              "8    neg\n",
              "9    pos\n",
              "Name: reviewText, dtype: object"
            ],
            "text/html": [
              "<div>\n",
              "<style scoped>\n",
              "    .dataframe tbody tr th:only-of-type {\n",
              "        vertical-align: middle;\n",
              "    }\n",
              "\n",
              "    .dataframe tbody tr th {\n",
              "        vertical-align: top;\n",
              "    }\n",
              "\n",
              "    .dataframe thead th {\n",
              "        text-align: right;\n",
              "    }\n",
              "</style>\n",
              "<table border=\"1\" class=\"dataframe\">\n",
              "  <thead>\n",
              "    <tr style=\"text-align: right;\">\n",
              "      <th></th>\n",
              "      <th>reviewText</th>\n",
              "    </tr>\n",
              "  </thead>\n",
              "  <tbody>\n",
              "    <tr>\n",
              "      <th>0</th>\n",
              "      <td>neg</td>\n",
              "    </tr>\n",
              "    <tr>\n",
              "      <th>1</th>\n",
              "      <td>neg</td>\n",
              "    </tr>\n",
              "    <tr>\n",
              "      <th>2</th>\n",
              "      <td>pos</td>\n",
              "    </tr>\n",
              "    <tr>\n",
              "      <th>3</th>\n",
              "      <td>pos</td>\n",
              "    </tr>\n",
              "    <tr>\n",
              "      <th>4</th>\n",
              "      <td>pos</td>\n",
              "    </tr>\n",
              "    <tr>\n",
              "      <th>5</th>\n",
              "      <td>neg</td>\n",
              "    </tr>\n",
              "    <tr>\n",
              "      <th>6</th>\n",
              "      <td>pos</td>\n",
              "    </tr>\n",
              "    <tr>\n",
              "      <th>7</th>\n",
              "      <td>pos</td>\n",
              "    </tr>\n",
              "    <tr>\n",
              "      <th>8</th>\n",
              "      <td>neg</td>\n",
              "    </tr>\n",
              "    <tr>\n",
              "      <th>9</th>\n",
              "      <td>pos</td>\n",
              "    </tr>\n",
              "  </tbody>\n",
              "</table>\n",
              "</div><br><label><b>dtype:</b> object</label>"
            ]
          },
          "metadata": {},
          "execution_count": 54
        }
      ]
    },
    {
      "cell_type": "code",
      "source": [
        "df[\"sentiment_label\"] = df[\"reviewText\"].apply(lambda x: \"pos\" if sia.polarity_scores(x)[\"compound\"] > 0 else \"neg\")"
      ],
      "metadata": {
        "execution": {
          "iopub.status.busy": "2024-01-08T11:28:10.545157Z",
          "iopub.execute_input": "2024-01-08T11:28:10.545909Z",
          "iopub.status.idle": "2024-01-08T11:28:12.830717Z",
          "shell.execute_reply.started": "2024-01-08T11:28:10.545858Z",
          "shell.execute_reply": "2024-01-08T11:28:12.829294Z"
        },
        "trusted": true,
        "id": "4EintoDaxU_U"
      },
      "execution_count": 55,
      "outputs": []
    },
    {
      "cell_type": "code",
      "source": [
        "df.head()"
      ],
      "metadata": {
        "execution": {
          "iopub.status.busy": "2024-01-08T11:29:27.675013Z",
          "iopub.execute_input": "2024-01-08T11:29:27.675582Z",
          "iopub.status.idle": "2024-01-08T11:29:27.695881Z",
          "shell.execute_reply.started": "2024-01-08T11:29:27.675544Z",
          "shell.execute_reply": "2024-01-08T11:29:27.694533Z"
        },
        "trusted": true,
        "id": "2NepPE6OxU_U",
        "outputId": "dd128233-6ab6-45e9-d167-b949bea6a818",
        "colab": {
          "base_uri": "https://localhost:8080/",
          "height": 573
        }
      },
      "execution_count": 56,
      "outputs": [
        {
          "output_type": "execute_result",
          "data": {
            "text/plain": [
              "       reviewerID        asin  reviewerName helpful                                         reviewText  overall                                 summary  unixReviewTime  reviewTime  day_diff  \\\n",
              "0  A3SBTW3WS4IQSN  B007WTAJTO           NaN  [0, 0]                                              issue     4.00                              Four Stars      1406073600  2014-07-23       138   \n",
              "1  A18K1ODH1I2MVB  B007WTAJTO          0mie  [0, 0]  purchased device worked advertised never much ...     5.00                           MOAR SPACE!!!      1382659200  2013-10-25       409   \n",
              "2  A2FII3I2MBMUIA  B007WTAJTO           1K3  [0, 0]  work expected higher capacity think made bit e...     4.00               nothing to really say....      1356220800  2012-12-23       715   \n",
              "3   A3H99DFEG68SR  B007WTAJTO           1m2  [0, 0]  think worked gb card went south one held prett...     5.00  Great buy at this price!!!  *** UPDATE      1384992000  2013-11-21       382   \n",
              "4  A375ZM4U047O79  B007WTAJTO  2&amp;1/2Men  [0, 0]  bought retail packaging arrived legit envelope...     5.00                        best deal around      1373673600  2013-07-13       513   \n",
              "\n",
              "   helpful_yes  total_vote  polarity_score sentiment_label  \n",
              "0            0           0            0.00             neg  \n",
              "1            0           0            0.00             neg  \n",
              "2            0           0            0.40             pos  \n",
              "3            0           0            0.65             pos  \n",
              "4            0           0            0.86             pos  "
            ],
            "text/html": [
              "\n",
              "  <div id=\"df-e27f9773-eb7b-4a8b-8688-abfdbcaa032d\" class=\"colab-df-container\">\n",
              "    <div>\n",
              "<style scoped>\n",
              "    .dataframe tbody tr th:only-of-type {\n",
              "        vertical-align: middle;\n",
              "    }\n",
              "\n",
              "    .dataframe tbody tr th {\n",
              "        vertical-align: top;\n",
              "    }\n",
              "\n",
              "    .dataframe thead th {\n",
              "        text-align: right;\n",
              "    }\n",
              "</style>\n",
              "<table border=\"1\" class=\"dataframe\">\n",
              "  <thead>\n",
              "    <tr style=\"text-align: right;\">\n",
              "      <th></th>\n",
              "      <th>reviewerID</th>\n",
              "      <th>asin</th>\n",
              "      <th>reviewerName</th>\n",
              "      <th>helpful</th>\n",
              "      <th>reviewText</th>\n",
              "      <th>overall</th>\n",
              "      <th>summary</th>\n",
              "      <th>unixReviewTime</th>\n",
              "      <th>reviewTime</th>\n",
              "      <th>day_diff</th>\n",
              "      <th>helpful_yes</th>\n",
              "      <th>total_vote</th>\n",
              "      <th>polarity_score</th>\n",
              "      <th>sentiment_label</th>\n",
              "    </tr>\n",
              "  </thead>\n",
              "  <tbody>\n",
              "    <tr>\n",
              "      <th>0</th>\n",
              "      <td>A3SBTW3WS4IQSN</td>\n",
              "      <td>B007WTAJTO</td>\n",
              "      <td>NaN</td>\n",
              "      <td>[0, 0]</td>\n",
              "      <td>issue</td>\n",
              "      <td>4.00</td>\n",
              "      <td>Four Stars</td>\n",
              "      <td>1406073600</td>\n",
              "      <td>2014-07-23</td>\n",
              "      <td>138</td>\n",
              "      <td>0</td>\n",
              "      <td>0</td>\n",
              "      <td>0.00</td>\n",
              "      <td>neg</td>\n",
              "    </tr>\n",
              "    <tr>\n",
              "      <th>1</th>\n",
              "      <td>A18K1ODH1I2MVB</td>\n",
              "      <td>B007WTAJTO</td>\n",
              "      <td>0mie</td>\n",
              "      <td>[0, 0]</td>\n",
              "      <td>purchased device worked advertised never much ...</td>\n",
              "      <td>5.00</td>\n",
              "      <td>MOAR SPACE!!!</td>\n",
              "      <td>1382659200</td>\n",
              "      <td>2013-10-25</td>\n",
              "      <td>409</td>\n",
              "      <td>0</td>\n",
              "      <td>0</td>\n",
              "      <td>0.00</td>\n",
              "      <td>neg</td>\n",
              "    </tr>\n",
              "    <tr>\n",
              "      <th>2</th>\n",
              "      <td>A2FII3I2MBMUIA</td>\n",
              "      <td>B007WTAJTO</td>\n",
              "      <td>1K3</td>\n",
              "      <td>[0, 0]</td>\n",
              "      <td>work expected higher capacity think made bit e...</td>\n",
              "      <td>4.00</td>\n",
              "      <td>nothing to really say....</td>\n",
              "      <td>1356220800</td>\n",
              "      <td>2012-12-23</td>\n",
              "      <td>715</td>\n",
              "      <td>0</td>\n",
              "      <td>0</td>\n",
              "      <td>0.40</td>\n",
              "      <td>pos</td>\n",
              "    </tr>\n",
              "    <tr>\n",
              "      <th>3</th>\n",
              "      <td>A3H99DFEG68SR</td>\n",
              "      <td>B007WTAJTO</td>\n",
              "      <td>1m2</td>\n",
              "      <td>[0, 0]</td>\n",
              "      <td>think worked gb card went south one held prett...</td>\n",
              "      <td>5.00</td>\n",
              "      <td>Great buy at this price!!!  *** UPDATE</td>\n",
              "      <td>1384992000</td>\n",
              "      <td>2013-11-21</td>\n",
              "      <td>382</td>\n",
              "      <td>0</td>\n",
              "      <td>0</td>\n",
              "      <td>0.65</td>\n",
              "      <td>pos</td>\n",
              "    </tr>\n",
              "    <tr>\n",
              "      <th>4</th>\n",
              "      <td>A375ZM4U047O79</td>\n",
              "      <td>B007WTAJTO</td>\n",
              "      <td>2&amp;amp;1/2Men</td>\n",
              "      <td>[0, 0]</td>\n",
              "      <td>bought retail packaging arrived legit envelope...</td>\n",
              "      <td>5.00</td>\n",
              "      <td>best deal around</td>\n",
              "      <td>1373673600</td>\n",
              "      <td>2013-07-13</td>\n",
              "      <td>513</td>\n",
              "      <td>0</td>\n",
              "      <td>0</td>\n",
              "      <td>0.86</td>\n",
              "      <td>pos</td>\n",
              "    </tr>\n",
              "  </tbody>\n",
              "</table>\n",
              "</div>\n",
              "    <div class=\"colab-df-buttons\">\n",
              "\n",
              "  <div class=\"colab-df-container\">\n",
              "    <button class=\"colab-df-convert\" onclick=\"convertToInteractive('df-e27f9773-eb7b-4a8b-8688-abfdbcaa032d')\"\n",
              "            title=\"Convert this dataframe to an interactive table.\"\n",
              "            style=\"display:none;\">\n",
              "\n",
              "  <svg xmlns=\"http://www.w3.org/2000/svg\" height=\"24px\" viewBox=\"0 -960 960 960\">\n",
              "    <path d=\"M120-120v-720h720v720H120Zm60-500h600v-160H180v160Zm220 220h160v-160H400v160Zm0 220h160v-160H400v160ZM180-400h160v-160H180v160Zm440 0h160v-160H620v160ZM180-180h160v-160H180v160Zm440 0h160v-160H620v160Z\"/>\n",
              "  </svg>\n",
              "    </button>\n",
              "\n",
              "  <style>\n",
              "    .colab-df-container {\n",
              "      display:flex;\n",
              "      gap: 12px;\n",
              "    }\n",
              "\n",
              "    .colab-df-convert {\n",
              "      background-color: #E8F0FE;\n",
              "      border: none;\n",
              "      border-radius: 50%;\n",
              "      cursor: pointer;\n",
              "      display: none;\n",
              "      fill: #1967D2;\n",
              "      height: 32px;\n",
              "      padding: 0 0 0 0;\n",
              "      width: 32px;\n",
              "    }\n",
              "\n",
              "    .colab-df-convert:hover {\n",
              "      background-color: #E2EBFA;\n",
              "      box-shadow: 0px 1px 2px rgba(60, 64, 67, 0.3), 0px 1px 3px 1px rgba(60, 64, 67, 0.15);\n",
              "      fill: #174EA6;\n",
              "    }\n",
              "\n",
              "    .colab-df-buttons div {\n",
              "      margin-bottom: 4px;\n",
              "    }\n",
              "\n",
              "    [theme=dark] .colab-df-convert {\n",
              "      background-color: #3B4455;\n",
              "      fill: #D2E3FC;\n",
              "    }\n",
              "\n",
              "    [theme=dark] .colab-df-convert:hover {\n",
              "      background-color: #434B5C;\n",
              "      box-shadow: 0px 1px 3px 1px rgba(0, 0, 0, 0.15);\n",
              "      filter: drop-shadow(0px 1px 2px rgba(0, 0, 0, 0.3));\n",
              "      fill: #FFFFFF;\n",
              "    }\n",
              "  </style>\n",
              "\n",
              "    <script>\n",
              "      const buttonEl =\n",
              "        document.querySelector('#df-e27f9773-eb7b-4a8b-8688-abfdbcaa032d button.colab-df-convert');\n",
              "      buttonEl.style.display =\n",
              "        google.colab.kernel.accessAllowed ? 'block' : 'none';\n",
              "\n",
              "      async function convertToInteractive(key) {\n",
              "        const element = document.querySelector('#df-e27f9773-eb7b-4a8b-8688-abfdbcaa032d');\n",
              "        const dataTable =\n",
              "          await google.colab.kernel.invokeFunction('convertToInteractive',\n",
              "                                                    [key], {});\n",
              "        if (!dataTable) return;\n",
              "\n",
              "        const docLinkHtml = 'Like what you see? Visit the ' +\n",
              "          '<a target=\"_blank\" href=https://colab.research.google.com/notebooks/data_table.ipynb>data table notebook</a>'\n",
              "          + ' to learn more about interactive tables.';\n",
              "        element.innerHTML = '';\n",
              "        dataTable['output_type'] = 'display_data';\n",
              "        await google.colab.output.renderOutput(dataTable, element);\n",
              "        const docLink = document.createElement('div');\n",
              "        docLink.innerHTML = docLinkHtml;\n",
              "        element.appendChild(docLink);\n",
              "      }\n",
              "    </script>\n",
              "  </div>\n",
              "\n",
              "\n",
              "    <div id=\"df-ecf2d431-75e1-4fc8-9f0a-0a58e3bd2da5\">\n",
              "      <button class=\"colab-df-quickchart\" onclick=\"quickchart('df-ecf2d431-75e1-4fc8-9f0a-0a58e3bd2da5')\"\n",
              "                title=\"Suggest charts\"\n",
              "                style=\"display:none;\">\n",
              "\n",
              "<svg xmlns=\"http://www.w3.org/2000/svg\" height=\"24px\"viewBox=\"0 0 24 24\"\n",
              "     width=\"24px\">\n",
              "    <g>\n",
              "        <path d=\"M19 3H5c-1.1 0-2 .9-2 2v14c0 1.1.9 2 2 2h14c1.1 0 2-.9 2-2V5c0-1.1-.9-2-2-2zM9 17H7v-7h2v7zm4 0h-2V7h2v10zm4 0h-2v-4h2v4z\"/>\n",
              "    </g>\n",
              "</svg>\n",
              "      </button>\n",
              "\n",
              "<style>\n",
              "  .colab-df-quickchart {\n",
              "      --bg-color: #E8F0FE;\n",
              "      --fill-color: #1967D2;\n",
              "      --hover-bg-color: #E2EBFA;\n",
              "      --hover-fill-color: #174EA6;\n",
              "      --disabled-fill-color: #AAA;\n",
              "      --disabled-bg-color: #DDD;\n",
              "  }\n",
              "\n",
              "  [theme=dark] .colab-df-quickchart {\n",
              "      --bg-color: #3B4455;\n",
              "      --fill-color: #D2E3FC;\n",
              "      --hover-bg-color: #434B5C;\n",
              "      --hover-fill-color: #FFFFFF;\n",
              "      --disabled-bg-color: #3B4455;\n",
              "      --disabled-fill-color: #666;\n",
              "  }\n",
              "\n",
              "  .colab-df-quickchart {\n",
              "    background-color: var(--bg-color);\n",
              "    border: none;\n",
              "    border-radius: 50%;\n",
              "    cursor: pointer;\n",
              "    display: none;\n",
              "    fill: var(--fill-color);\n",
              "    height: 32px;\n",
              "    padding: 0;\n",
              "    width: 32px;\n",
              "  }\n",
              "\n",
              "  .colab-df-quickchart:hover {\n",
              "    background-color: var(--hover-bg-color);\n",
              "    box-shadow: 0 1px 2px rgba(60, 64, 67, 0.3), 0 1px 3px 1px rgba(60, 64, 67, 0.15);\n",
              "    fill: var(--button-hover-fill-color);\n",
              "  }\n",
              "\n",
              "  .colab-df-quickchart-complete:disabled,\n",
              "  .colab-df-quickchart-complete:disabled:hover {\n",
              "    background-color: var(--disabled-bg-color);\n",
              "    fill: var(--disabled-fill-color);\n",
              "    box-shadow: none;\n",
              "  }\n",
              "\n",
              "  .colab-df-spinner {\n",
              "    border: 2px solid var(--fill-color);\n",
              "    border-color: transparent;\n",
              "    border-bottom-color: var(--fill-color);\n",
              "    animation:\n",
              "      spin 1s steps(1) infinite;\n",
              "  }\n",
              "\n",
              "  @keyframes spin {\n",
              "    0% {\n",
              "      border-color: transparent;\n",
              "      border-bottom-color: var(--fill-color);\n",
              "      border-left-color: var(--fill-color);\n",
              "    }\n",
              "    20% {\n",
              "      border-color: transparent;\n",
              "      border-left-color: var(--fill-color);\n",
              "      border-top-color: var(--fill-color);\n",
              "    }\n",
              "    30% {\n",
              "      border-color: transparent;\n",
              "      border-left-color: var(--fill-color);\n",
              "      border-top-color: var(--fill-color);\n",
              "      border-right-color: var(--fill-color);\n",
              "    }\n",
              "    40% {\n",
              "      border-color: transparent;\n",
              "      border-right-color: var(--fill-color);\n",
              "      border-top-color: var(--fill-color);\n",
              "    }\n",
              "    60% {\n",
              "      border-color: transparent;\n",
              "      border-right-color: var(--fill-color);\n",
              "    }\n",
              "    80% {\n",
              "      border-color: transparent;\n",
              "      border-right-color: var(--fill-color);\n",
              "      border-bottom-color: var(--fill-color);\n",
              "    }\n",
              "    90% {\n",
              "      border-color: transparent;\n",
              "      border-bottom-color: var(--fill-color);\n",
              "    }\n",
              "  }\n",
              "</style>\n",
              "\n",
              "      <script>\n",
              "        async function quickchart(key) {\n",
              "          const quickchartButtonEl =\n",
              "            document.querySelector('#' + key + ' button');\n",
              "          quickchartButtonEl.disabled = true;  // To prevent multiple clicks.\n",
              "          quickchartButtonEl.classList.add('colab-df-spinner');\n",
              "          try {\n",
              "            const charts = await google.colab.kernel.invokeFunction(\n",
              "                'suggestCharts', [key], {});\n",
              "          } catch (error) {\n",
              "            console.error('Error during call to suggestCharts:', error);\n",
              "          }\n",
              "          quickchartButtonEl.classList.remove('colab-df-spinner');\n",
              "          quickchartButtonEl.classList.add('colab-df-quickchart-complete');\n",
              "        }\n",
              "        (() => {\n",
              "          let quickchartButtonEl =\n",
              "            document.querySelector('#df-ecf2d431-75e1-4fc8-9f0a-0a58e3bd2da5 button');\n",
              "          quickchartButtonEl.style.display =\n",
              "            google.colab.kernel.accessAllowed ? 'block' : 'none';\n",
              "        })();\n",
              "      </script>\n",
              "    </div>\n",
              "\n",
              "    </div>\n",
              "  </div>\n"
            ],
            "application/vnd.google.colaboratory.intrinsic+json": {
              "type": "dataframe",
              "variable_name": "df",
              "summary": "{\n  \"name\": \"df\",\n  \"rows\": 4915,\n  \"fields\": [\n    {\n      \"column\": \"reviewerID\",\n      \"properties\": {\n        \"dtype\": \"string\",\n        \"num_unique_values\": 4915,\n        \"samples\": [\n          \"A3V5DNLW7DPMUA\",\n          \"A1F08OEM2LEJLK\",\n          \"AOOJ8Y18T3DGM\"\n        ],\n        \"semantic_type\": \"\",\n        \"description\": \"\"\n      }\n    },\n    {\n      \"column\": \"asin\",\n      \"properties\": {\n        \"dtype\": \"category\",\n        \"num_unique_values\": 1,\n        \"samples\": [\n          \"B007WTAJTO\"\n        ],\n        \"semantic_type\": \"\",\n        \"description\": \"\"\n      }\n    },\n    {\n      \"column\": \"reviewerName\",\n      \"properties\": {\n        \"dtype\": \"string\",\n        \"num_unique_values\": 4594,\n        \"samples\": [\n          \"nta699\"\n        ],\n        \"semantic_type\": \"\",\n        \"description\": \"\"\n      }\n    },\n    {\n      \"column\": \"helpful\",\n      \"properties\": {\n        \"dtype\": \"category\",\n        \"num_unique_values\": 42,\n        \"samples\": [\n          \"[1952, 2020]\"\n        ],\n        \"semantic_type\": \"\",\n        \"description\": \"\"\n      }\n    },\n    {\n      \"column\": \"reviewText\",\n      \"properties\": {\n        \"dtype\": \"string\",\n        \"num_unique_values\": 4912,\n        \"samples\": [\n          \"bought extended memory galaxy iii great price easy install phone recognized instantly supposed\"\n        ],\n        \"semantic_type\": \"\",\n        \"description\": \"\"\n      }\n    },\n    {\n      \"column\": \"overall\",\n      \"properties\": {\n        \"dtype\": \"number\",\n        \"std\": 0.9968451383820023,\n        \"min\": 1.0,\n        \"max\": 5.0,\n        \"num_unique_values\": 5,\n        \"samples\": [\n          5.0\n        ],\n        \"semantic_type\": \"\",\n        \"description\": \"\"\n      }\n    },\n    {\n      \"column\": \"summary\",\n      \"properties\": {\n        \"dtype\": \"string\",\n        \"num_unique_values\": 3885,\n        \"samples\": [\n          \"NICE!!!\"\n        ],\n        \"semantic_type\": \"\",\n        \"description\": \"\"\n      }\n    },\n    {\n      \"column\": \"unixReviewTime\",\n      \"properties\": {\n        \"dtype\": \"number\",\n        \"std\": 15818574,\n        \"min\": 1339200000,\n        \"max\": 1406073600,\n        \"num_unique_values\": 690,\n        \"samples\": [\n          1386028800\n        ],\n        \"semantic_type\": \"\",\n        \"description\": \"\"\n      }\n    },\n    {\n      \"column\": \"reviewTime\",\n      \"properties\": {\n        \"dtype\": \"object\",\n        \"num_unique_values\": 690,\n        \"samples\": [\n          \"2013-03-12\"\n        ],\n        \"semantic_type\": \"\",\n        \"description\": \"\"\n      }\n    },\n    {\n      \"column\": \"day_diff\",\n      \"properties\": {\n        \"dtype\": \"number\",\n        \"std\": 209,\n        \"min\": 1,\n        \"max\": 1064,\n        \"num_unique_values\": 690,\n        \"samples\": [\n          636\n        ],\n        \"semantic_type\": \"\",\n        \"description\": \"\"\n      }\n    },\n    {\n      \"column\": \"helpful_yes\",\n      \"properties\": {\n        \"dtype\": \"number\",\n        \"std\": 41,\n        \"min\": 0,\n        \"max\": 1952,\n        \"num_unique_values\": 23,\n        \"samples\": [\n          1428\n        ],\n        \"semantic_type\": \"\",\n        \"description\": \"\"\n      }\n    },\n    {\n      \"column\": \"total_vote\",\n      \"properties\": {\n        \"dtype\": \"number\",\n        \"std\": 44,\n        \"min\": 0,\n        \"max\": 2020,\n        \"num_unique_values\": 26,\n        \"samples\": [\n          495\n        ],\n        \"semantic_type\": \"\",\n        \"description\": \"\"\n      }\n    },\n    {\n      \"column\": \"polarity_score\",\n      \"properties\": {\n        \"dtype\": \"number\",\n        \"std\": 0.44122435202717025,\n        \"min\": -0.9929,\n        \"max\": 0.9989,\n        \"num_unique_values\": 1175,\n        \"samples\": [\n          0.9145\n        ],\n        \"semantic_type\": \"\",\n        \"description\": \"\"\n      }\n    },\n    {\n      \"column\": \"sentiment_label\",\n      \"properties\": {\n        \"dtype\": \"category\",\n        \"num_unique_values\": 2,\n        \"samples\": [\n          \"pos\"\n        ],\n        \"semantic_type\": \"\",\n        \"description\": \"\"\n      }\n    }\n  ]\n}"
            }
          },
          "metadata": {},
          "execution_count": 56
        }
      ]
    },
    {
      "cell_type": "code",
      "source": [
        "df[\"sentiment_label\"].value_counts()"
      ],
      "metadata": {
        "execution": {
          "iopub.status.busy": "2024-01-08T11:28:39.486811Z",
          "iopub.execute_input": "2024-01-08T11:28:39.487215Z",
          "iopub.status.idle": "2024-01-08T11:28:39.498902Z",
          "shell.execute_reply.started": "2024-01-08T11:28:39.487185Z",
          "shell.execute_reply": "2024-01-08T11:28:39.497452Z"
        },
        "trusted": true,
        "id": "PQkl9aSYxU_U",
        "outputId": "1b1201f7-562c-4771-ee34-ff3333eccdd4",
        "colab": {
          "base_uri": "https://localhost:8080/",
          "height": 178
        }
      },
      "execution_count": 57,
      "outputs": [
        {
          "output_type": "execute_result",
          "data": {
            "text/plain": [
              "sentiment_label\n",
              "pos    3944\n",
              "neg     971\n",
              "Name: count, dtype: int64"
            ],
            "text/html": [
              "<div>\n",
              "<style scoped>\n",
              "    .dataframe tbody tr th:only-of-type {\n",
              "        vertical-align: middle;\n",
              "    }\n",
              "\n",
              "    .dataframe tbody tr th {\n",
              "        vertical-align: top;\n",
              "    }\n",
              "\n",
              "    .dataframe thead th {\n",
              "        text-align: right;\n",
              "    }\n",
              "</style>\n",
              "<table border=\"1\" class=\"dataframe\">\n",
              "  <thead>\n",
              "    <tr style=\"text-align: right;\">\n",
              "      <th></th>\n",
              "      <th>count</th>\n",
              "    </tr>\n",
              "    <tr>\n",
              "      <th>sentiment_label</th>\n",
              "      <th></th>\n",
              "    </tr>\n",
              "  </thead>\n",
              "  <tbody>\n",
              "    <tr>\n",
              "      <th>pos</th>\n",
              "      <td>3944</td>\n",
              "    </tr>\n",
              "    <tr>\n",
              "      <th>neg</th>\n",
              "      <td>971</td>\n",
              "    </tr>\n",
              "  </tbody>\n",
              "</table>\n",
              "</div><br><label><b>dtype:</b> int64</label>"
            ]
          },
          "metadata": {},
          "execution_count": 57
        }
      ]
    },
    {
      "cell_type": "code",
      "source": [
        "df.groupby(\"sentiment_label\")[\"overall\"].mean()"
      ],
      "metadata": {
        "execution": {
          "iopub.status.busy": "2024-01-08T11:28:36.010769Z",
          "iopub.execute_input": "2024-01-08T11:28:36.011167Z",
          "iopub.status.idle": "2024-01-08T11:28:36.028051Z",
          "shell.execute_reply.started": "2024-01-08T11:28:36.011136Z",
          "shell.execute_reply": "2024-01-08T11:28:36.027172Z"
        },
        "trusted": true,
        "id": "zleDwJQmxU_U",
        "outputId": "627231bc-b3be-43ef-cc84-f744eb6c1118",
        "colab": {
          "base_uri": "https://localhost:8080/",
          "height": 178
        }
      },
      "execution_count": 58,
      "outputs": [
        {
          "output_type": "execute_result",
          "data": {
            "text/plain": [
              "sentiment_label\n",
              "neg   4.09\n",
              "pos   4.71\n",
              "Name: overall, dtype: float64"
            ],
            "text/html": [
              "<div>\n",
              "<style scoped>\n",
              "    .dataframe tbody tr th:only-of-type {\n",
              "        vertical-align: middle;\n",
              "    }\n",
              "\n",
              "    .dataframe tbody tr th {\n",
              "        vertical-align: top;\n",
              "    }\n",
              "\n",
              "    .dataframe thead th {\n",
              "        text-align: right;\n",
              "    }\n",
              "</style>\n",
              "<table border=\"1\" class=\"dataframe\">\n",
              "  <thead>\n",
              "    <tr style=\"text-align: right;\">\n",
              "      <th></th>\n",
              "      <th>overall</th>\n",
              "    </tr>\n",
              "    <tr>\n",
              "      <th>sentiment_label</th>\n",
              "      <th></th>\n",
              "    </tr>\n",
              "  </thead>\n",
              "  <tbody>\n",
              "    <tr>\n",
              "      <th>neg</th>\n",
              "      <td>4.09</td>\n",
              "    </tr>\n",
              "    <tr>\n",
              "      <th>pos</th>\n",
              "      <td>4.71</td>\n",
              "    </tr>\n",
              "  </tbody>\n",
              "</table>\n",
              "</div><br><label><b>dtype:</b> float64</label>"
            ]
          },
          "metadata": {},
          "execution_count": 58
        }
      ]
    },
    {
      "cell_type": "code",
      "source": [
        "df[\"sentiment_label\"] = LabelEncoder().fit_transform(df[\"sentiment_label\"])"
      ],
      "metadata": {
        "execution": {
          "iopub.status.busy": "2024-01-08T11:28:46.176419Z",
          "iopub.execute_input": "2024-01-08T11:28:46.176864Z",
          "iopub.status.idle": "2024-01-08T11:28:46.18502Z",
          "shell.execute_reply.started": "2024-01-08T11:28:46.176829Z",
          "shell.execute_reply": "2024-01-08T11:28:46.183878Z"
        },
        "trusted": true,
        "id": "BarYUVFAxU_U"
      },
      "execution_count": 59,
      "outputs": []
    },
    {
      "cell_type": "code",
      "source": [
        "df.head()"
      ],
      "metadata": {
        "execution": {
          "iopub.status.busy": "2024-01-08T11:28:57.059728Z",
          "iopub.execute_input": "2024-01-08T11:28:57.061149Z",
          "iopub.status.idle": "2024-01-08T11:28:57.081505Z",
          "shell.execute_reply.started": "2024-01-08T11:28:57.061095Z",
          "shell.execute_reply": "2024-01-08T11:28:57.079878Z"
        },
        "trusted": true,
        "id": "p7FaKVPlxU_U",
        "outputId": "b3067ab2-44e8-4bf0-9f94-acc95d0b7a8c",
        "colab": {
          "base_uri": "https://localhost:8080/",
          "height": 573
        }
      },
      "execution_count": 60,
      "outputs": [
        {
          "output_type": "execute_result",
          "data": {
            "text/plain": [
              "       reviewerID        asin  reviewerName helpful                                         reviewText  overall                                 summary  unixReviewTime  reviewTime  day_diff  \\\n",
              "0  A3SBTW3WS4IQSN  B007WTAJTO           NaN  [0, 0]                                              issue     4.00                              Four Stars      1406073600  2014-07-23       138   \n",
              "1  A18K1ODH1I2MVB  B007WTAJTO          0mie  [0, 0]  purchased device worked advertised never much ...     5.00                           MOAR SPACE!!!      1382659200  2013-10-25       409   \n",
              "2  A2FII3I2MBMUIA  B007WTAJTO           1K3  [0, 0]  work expected higher capacity think made bit e...     4.00               nothing to really say....      1356220800  2012-12-23       715   \n",
              "3   A3H99DFEG68SR  B007WTAJTO           1m2  [0, 0]  think worked gb card went south one held prett...     5.00  Great buy at this price!!!  *** UPDATE      1384992000  2013-11-21       382   \n",
              "4  A375ZM4U047O79  B007WTAJTO  2&amp;1/2Men  [0, 0]  bought retail packaging arrived legit envelope...     5.00                        best deal around      1373673600  2013-07-13       513   \n",
              "\n",
              "   helpful_yes  total_vote  polarity_score  sentiment_label  \n",
              "0            0           0            0.00                0  \n",
              "1            0           0            0.00                0  \n",
              "2            0           0            0.40                1  \n",
              "3            0           0            0.65                1  \n",
              "4            0           0            0.86                1  "
            ],
            "text/html": [
              "\n",
              "  <div id=\"df-175909c3-94d8-4ff1-99e7-13f06ebe9b02\" class=\"colab-df-container\">\n",
              "    <div>\n",
              "<style scoped>\n",
              "    .dataframe tbody tr th:only-of-type {\n",
              "        vertical-align: middle;\n",
              "    }\n",
              "\n",
              "    .dataframe tbody tr th {\n",
              "        vertical-align: top;\n",
              "    }\n",
              "\n",
              "    .dataframe thead th {\n",
              "        text-align: right;\n",
              "    }\n",
              "</style>\n",
              "<table border=\"1\" class=\"dataframe\">\n",
              "  <thead>\n",
              "    <tr style=\"text-align: right;\">\n",
              "      <th></th>\n",
              "      <th>reviewerID</th>\n",
              "      <th>asin</th>\n",
              "      <th>reviewerName</th>\n",
              "      <th>helpful</th>\n",
              "      <th>reviewText</th>\n",
              "      <th>overall</th>\n",
              "      <th>summary</th>\n",
              "      <th>unixReviewTime</th>\n",
              "      <th>reviewTime</th>\n",
              "      <th>day_diff</th>\n",
              "      <th>helpful_yes</th>\n",
              "      <th>total_vote</th>\n",
              "      <th>polarity_score</th>\n",
              "      <th>sentiment_label</th>\n",
              "    </tr>\n",
              "  </thead>\n",
              "  <tbody>\n",
              "    <tr>\n",
              "      <th>0</th>\n",
              "      <td>A3SBTW3WS4IQSN</td>\n",
              "      <td>B007WTAJTO</td>\n",
              "      <td>NaN</td>\n",
              "      <td>[0, 0]</td>\n",
              "      <td>issue</td>\n",
              "      <td>4.00</td>\n",
              "      <td>Four Stars</td>\n",
              "      <td>1406073600</td>\n",
              "      <td>2014-07-23</td>\n",
              "      <td>138</td>\n",
              "      <td>0</td>\n",
              "      <td>0</td>\n",
              "      <td>0.00</td>\n",
              "      <td>0</td>\n",
              "    </tr>\n",
              "    <tr>\n",
              "      <th>1</th>\n",
              "      <td>A18K1ODH1I2MVB</td>\n",
              "      <td>B007WTAJTO</td>\n",
              "      <td>0mie</td>\n",
              "      <td>[0, 0]</td>\n",
              "      <td>purchased device worked advertised never much ...</td>\n",
              "      <td>5.00</td>\n",
              "      <td>MOAR SPACE!!!</td>\n",
              "      <td>1382659200</td>\n",
              "      <td>2013-10-25</td>\n",
              "      <td>409</td>\n",
              "      <td>0</td>\n",
              "      <td>0</td>\n",
              "      <td>0.00</td>\n",
              "      <td>0</td>\n",
              "    </tr>\n",
              "    <tr>\n",
              "      <th>2</th>\n",
              "      <td>A2FII3I2MBMUIA</td>\n",
              "      <td>B007WTAJTO</td>\n",
              "      <td>1K3</td>\n",
              "      <td>[0, 0]</td>\n",
              "      <td>work expected higher capacity think made bit e...</td>\n",
              "      <td>4.00</td>\n",
              "      <td>nothing to really say....</td>\n",
              "      <td>1356220800</td>\n",
              "      <td>2012-12-23</td>\n",
              "      <td>715</td>\n",
              "      <td>0</td>\n",
              "      <td>0</td>\n",
              "      <td>0.40</td>\n",
              "      <td>1</td>\n",
              "    </tr>\n",
              "    <tr>\n",
              "      <th>3</th>\n",
              "      <td>A3H99DFEG68SR</td>\n",
              "      <td>B007WTAJTO</td>\n",
              "      <td>1m2</td>\n",
              "      <td>[0, 0]</td>\n",
              "      <td>think worked gb card went south one held prett...</td>\n",
              "      <td>5.00</td>\n",
              "      <td>Great buy at this price!!!  *** UPDATE</td>\n",
              "      <td>1384992000</td>\n",
              "      <td>2013-11-21</td>\n",
              "      <td>382</td>\n",
              "      <td>0</td>\n",
              "      <td>0</td>\n",
              "      <td>0.65</td>\n",
              "      <td>1</td>\n",
              "    </tr>\n",
              "    <tr>\n",
              "      <th>4</th>\n",
              "      <td>A375ZM4U047O79</td>\n",
              "      <td>B007WTAJTO</td>\n",
              "      <td>2&amp;amp;1/2Men</td>\n",
              "      <td>[0, 0]</td>\n",
              "      <td>bought retail packaging arrived legit envelope...</td>\n",
              "      <td>5.00</td>\n",
              "      <td>best deal around</td>\n",
              "      <td>1373673600</td>\n",
              "      <td>2013-07-13</td>\n",
              "      <td>513</td>\n",
              "      <td>0</td>\n",
              "      <td>0</td>\n",
              "      <td>0.86</td>\n",
              "      <td>1</td>\n",
              "    </tr>\n",
              "  </tbody>\n",
              "</table>\n",
              "</div>\n",
              "    <div class=\"colab-df-buttons\">\n",
              "\n",
              "  <div class=\"colab-df-container\">\n",
              "    <button class=\"colab-df-convert\" onclick=\"convertToInteractive('df-175909c3-94d8-4ff1-99e7-13f06ebe9b02')\"\n",
              "            title=\"Convert this dataframe to an interactive table.\"\n",
              "            style=\"display:none;\">\n",
              "\n",
              "  <svg xmlns=\"http://www.w3.org/2000/svg\" height=\"24px\" viewBox=\"0 -960 960 960\">\n",
              "    <path d=\"M120-120v-720h720v720H120Zm60-500h600v-160H180v160Zm220 220h160v-160H400v160Zm0 220h160v-160H400v160ZM180-400h160v-160H180v160Zm440 0h160v-160H620v160ZM180-180h160v-160H180v160Zm440 0h160v-160H620v160Z\"/>\n",
              "  </svg>\n",
              "    </button>\n",
              "\n",
              "  <style>\n",
              "    .colab-df-container {\n",
              "      display:flex;\n",
              "      gap: 12px;\n",
              "    }\n",
              "\n",
              "    .colab-df-convert {\n",
              "      background-color: #E8F0FE;\n",
              "      border: none;\n",
              "      border-radius: 50%;\n",
              "      cursor: pointer;\n",
              "      display: none;\n",
              "      fill: #1967D2;\n",
              "      height: 32px;\n",
              "      padding: 0 0 0 0;\n",
              "      width: 32px;\n",
              "    }\n",
              "\n",
              "    .colab-df-convert:hover {\n",
              "      background-color: #E2EBFA;\n",
              "      box-shadow: 0px 1px 2px rgba(60, 64, 67, 0.3), 0px 1px 3px 1px rgba(60, 64, 67, 0.15);\n",
              "      fill: #174EA6;\n",
              "    }\n",
              "\n",
              "    .colab-df-buttons div {\n",
              "      margin-bottom: 4px;\n",
              "    }\n",
              "\n",
              "    [theme=dark] .colab-df-convert {\n",
              "      background-color: #3B4455;\n",
              "      fill: #D2E3FC;\n",
              "    }\n",
              "\n",
              "    [theme=dark] .colab-df-convert:hover {\n",
              "      background-color: #434B5C;\n",
              "      box-shadow: 0px 1px 3px 1px rgba(0, 0, 0, 0.15);\n",
              "      filter: drop-shadow(0px 1px 2px rgba(0, 0, 0, 0.3));\n",
              "      fill: #FFFFFF;\n",
              "    }\n",
              "  </style>\n",
              "\n",
              "    <script>\n",
              "      const buttonEl =\n",
              "        document.querySelector('#df-175909c3-94d8-4ff1-99e7-13f06ebe9b02 button.colab-df-convert');\n",
              "      buttonEl.style.display =\n",
              "        google.colab.kernel.accessAllowed ? 'block' : 'none';\n",
              "\n",
              "      async function convertToInteractive(key) {\n",
              "        const element = document.querySelector('#df-175909c3-94d8-4ff1-99e7-13f06ebe9b02');\n",
              "        const dataTable =\n",
              "          await google.colab.kernel.invokeFunction('convertToInteractive',\n",
              "                                                    [key], {});\n",
              "        if (!dataTable) return;\n",
              "\n",
              "        const docLinkHtml = 'Like what you see? Visit the ' +\n",
              "          '<a target=\"_blank\" href=https://colab.research.google.com/notebooks/data_table.ipynb>data table notebook</a>'\n",
              "          + ' to learn more about interactive tables.';\n",
              "        element.innerHTML = '';\n",
              "        dataTable['output_type'] = 'display_data';\n",
              "        await google.colab.output.renderOutput(dataTable, element);\n",
              "        const docLink = document.createElement('div');\n",
              "        docLink.innerHTML = docLinkHtml;\n",
              "        element.appendChild(docLink);\n",
              "      }\n",
              "    </script>\n",
              "  </div>\n",
              "\n",
              "\n",
              "    <div id=\"df-305bde40-8147-41d2-b3d9-26cd8fa1e626\">\n",
              "      <button class=\"colab-df-quickchart\" onclick=\"quickchart('df-305bde40-8147-41d2-b3d9-26cd8fa1e626')\"\n",
              "                title=\"Suggest charts\"\n",
              "                style=\"display:none;\">\n",
              "\n",
              "<svg xmlns=\"http://www.w3.org/2000/svg\" height=\"24px\"viewBox=\"0 0 24 24\"\n",
              "     width=\"24px\">\n",
              "    <g>\n",
              "        <path d=\"M19 3H5c-1.1 0-2 .9-2 2v14c0 1.1.9 2 2 2h14c1.1 0 2-.9 2-2V5c0-1.1-.9-2-2-2zM9 17H7v-7h2v7zm4 0h-2V7h2v10zm4 0h-2v-4h2v4z\"/>\n",
              "    </g>\n",
              "</svg>\n",
              "      </button>\n",
              "\n",
              "<style>\n",
              "  .colab-df-quickchart {\n",
              "      --bg-color: #E8F0FE;\n",
              "      --fill-color: #1967D2;\n",
              "      --hover-bg-color: #E2EBFA;\n",
              "      --hover-fill-color: #174EA6;\n",
              "      --disabled-fill-color: #AAA;\n",
              "      --disabled-bg-color: #DDD;\n",
              "  }\n",
              "\n",
              "  [theme=dark] .colab-df-quickchart {\n",
              "      --bg-color: #3B4455;\n",
              "      --fill-color: #D2E3FC;\n",
              "      --hover-bg-color: #434B5C;\n",
              "      --hover-fill-color: #FFFFFF;\n",
              "      --disabled-bg-color: #3B4455;\n",
              "      --disabled-fill-color: #666;\n",
              "  }\n",
              "\n",
              "  .colab-df-quickchart {\n",
              "    background-color: var(--bg-color);\n",
              "    border: none;\n",
              "    border-radius: 50%;\n",
              "    cursor: pointer;\n",
              "    display: none;\n",
              "    fill: var(--fill-color);\n",
              "    height: 32px;\n",
              "    padding: 0;\n",
              "    width: 32px;\n",
              "  }\n",
              "\n",
              "  .colab-df-quickchart:hover {\n",
              "    background-color: var(--hover-bg-color);\n",
              "    box-shadow: 0 1px 2px rgba(60, 64, 67, 0.3), 0 1px 3px 1px rgba(60, 64, 67, 0.15);\n",
              "    fill: var(--button-hover-fill-color);\n",
              "  }\n",
              "\n",
              "  .colab-df-quickchart-complete:disabled,\n",
              "  .colab-df-quickchart-complete:disabled:hover {\n",
              "    background-color: var(--disabled-bg-color);\n",
              "    fill: var(--disabled-fill-color);\n",
              "    box-shadow: none;\n",
              "  }\n",
              "\n",
              "  .colab-df-spinner {\n",
              "    border: 2px solid var(--fill-color);\n",
              "    border-color: transparent;\n",
              "    border-bottom-color: var(--fill-color);\n",
              "    animation:\n",
              "      spin 1s steps(1) infinite;\n",
              "  }\n",
              "\n",
              "  @keyframes spin {\n",
              "    0% {\n",
              "      border-color: transparent;\n",
              "      border-bottom-color: var(--fill-color);\n",
              "      border-left-color: var(--fill-color);\n",
              "    }\n",
              "    20% {\n",
              "      border-color: transparent;\n",
              "      border-left-color: var(--fill-color);\n",
              "      border-top-color: var(--fill-color);\n",
              "    }\n",
              "    30% {\n",
              "      border-color: transparent;\n",
              "      border-left-color: var(--fill-color);\n",
              "      border-top-color: var(--fill-color);\n",
              "      border-right-color: var(--fill-color);\n",
              "    }\n",
              "    40% {\n",
              "      border-color: transparent;\n",
              "      border-right-color: var(--fill-color);\n",
              "      border-top-color: var(--fill-color);\n",
              "    }\n",
              "    60% {\n",
              "      border-color: transparent;\n",
              "      border-right-color: var(--fill-color);\n",
              "    }\n",
              "    80% {\n",
              "      border-color: transparent;\n",
              "      border-right-color: var(--fill-color);\n",
              "      border-bottom-color: var(--fill-color);\n",
              "    }\n",
              "    90% {\n",
              "      border-color: transparent;\n",
              "      border-bottom-color: var(--fill-color);\n",
              "    }\n",
              "  }\n",
              "</style>\n",
              "\n",
              "      <script>\n",
              "        async function quickchart(key) {\n",
              "          const quickchartButtonEl =\n",
              "            document.querySelector('#' + key + ' button');\n",
              "          quickchartButtonEl.disabled = true;  // To prevent multiple clicks.\n",
              "          quickchartButtonEl.classList.add('colab-df-spinner');\n",
              "          try {\n",
              "            const charts = await google.colab.kernel.invokeFunction(\n",
              "                'suggestCharts', [key], {});\n",
              "          } catch (error) {\n",
              "            console.error('Error during call to suggestCharts:', error);\n",
              "          }\n",
              "          quickchartButtonEl.classList.remove('colab-df-spinner');\n",
              "          quickchartButtonEl.classList.add('colab-df-quickchart-complete');\n",
              "        }\n",
              "        (() => {\n",
              "          let quickchartButtonEl =\n",
              "            document.querySelector('#df-305bde40-8147-41d2-b3d9-26cd8fa1e626 button');\n",
              "          quickchartButtonEl.style.display =\n",
              "            google.colab.kernel.accessAllowed ? 'block' : 'none';\n",
              "        })();\n",
              "      </script>\n",
              "    </div>\n",
              "\n",
              "    </div>\n",
              "  </div>\n"
            ],
            "application/vnd.google.colaboratory.intrinsic+json": {
              "type": "dataframe",
              "variable_name": "df",
              "summary": "{\n  \"name\": \"df\",\n  \"rows\": 4915,\n  \"fields\": [\n    {\n      \"column\": \"reviewerID\",\n      \"properties\": {\n        \"dtype\": \"string\",\n        \"num_unique_values\": 4915,\n        \"samples\": [\n          \"A3V5DNLW7DPMUA\",\n          \"A1F08OEM2LEJLK\",\n          \"AOOJ8Y18T3DGM\"\n        ],\n        \"semantic_type\": \"\",\n        \"description\": \"\"\n      }\n    },\n    {\n      \"column\": \"asin\",\n      \"properties\": {\n        \"dtype\": \"category\",\n        \"num_unique_values\": 1,\n        \"samples\": [\n          \"B007WTAJTO\"\n        ],\n        \"semantic_type\": \"\",\n        \"description\": \"\"\n      }\n    },\n    {\n      \"column\": \"reviewerName\",\n      \"properties\": {\n        \"dtype\": \"string\",\n        \"num_unique_values\": 4594,\n        \"samples\": [\n          \"nta699\"\n        ],\n        \"semantic_type\": \"\",\n        \"description\": \"\"\n      }\n    },\n    {\n      \"column\": \"helpful\",\n      \"properties\": {\n        \"dtype\": \"category\",\n        \"num_unique_values\": 42,\n        \"samples\": [\n          \"[1952, 2020]\"\n        ],\n        \"semantic_type\": \"\",\n        \"description\": \"\"\n      }\n    },\n    {\n      \"column\": \"reviewText\",\n      \"properties\": {\n        \"dtype\": \"string\",\n        \"num_unique_values\": 4912,\n        \"samples\": [\n          \"bought extended memory galaxy iii great price easy install phone recognized instantly supposed\"\n        ],\n        \"semantic_type\": \"\",\n        \"description\": \"\"\n      }\n    },\n    {\n      \"column\": \"overall\",\n      \"properties\": {\n        \"dtype\": \"number\",\n        \"std\": 0.9968451383820023,\n        \"min\": 1.0,\n        \"max\": 5.0,\n        \"num_unique_values\": 5,\n        \"samples\": [\n          5.0\n        ],\n        \"semantic_type\": \"\",\n        \"description\": \"\"\n      }\n    },\n    {\n      \"column\": \"summary\",\n      \"properties\": {\n        \"dtype\": \"string\",\n        \"num_unique_values\": 3885,\n        \"samples\": [\n          \"NICE!!!\"\n        ],\n        \"semantic_type\": \"\",\n        \"description\": \"\"\n      }\n    },\n    {\n      \"column\": \"unixReviewTime\",\n      \"properties\": {\n        \"dtype\": \"number\",\n        \"std\": 15818574,\n        \"min\": 1339200000,\n        \"max\": 1406073600,\n        \"num_unique_values\": 690,\n        \"samples\": [\n          1386028800\n        ],\n        \"semantic_type\": \"\",\n        \"description\": \"\"\n      }\n    },\n    {\n      \"column\": \"reviewTime\",\n      \"properties\": {\n        \"dtype\": \"object\",\n        \"num_unique_values\": 690,\n        \"samples\": [\n          \"2013-03-12\"\n        ],\n        \"semantic_type\": \"\",\n        \"description\": \"\"\n      }\n    },\n    {\n      \"column\": \"day_diff\",\n      \"properties\": {\n        \"dtype\": \"number\",\n        \"std\": 209,\n        \"min\": 1,\n        \"max\": 1064,\n        \"num_unique_values\": 690,\n        \"samples\": [\n          636\n        ],\n        \"semantic_type\": \"\",\n        \"description\": \"\"\n      }\n    },\n    {\n      \"column\": \"helpful_yes\",\n      \"properties\": {\n        \"dtype\": \"number\",\n        \"std\": 41,\n        \"min\": 0,\n        \"max\": 1952,\n        \"num_unique_values\": 23,\n        \"samples\": [\n          1428\n        ],\n        \"semantic_type\": \"\",\n        \"description\": \"\"\n      }\n    },\n    {\n      \"column\": \"total_vote\",\n      \"properties\": {\n        \"dtype\": \"number\",\n        \"std\": 44,\n        \"min\": 0,\n        \"max\": 2020,\n        \"num_unique_values\": 26,\n        \"samples\": [\n          495\n        ],\n        \"semantic_type\": \"\",\n        \"description\": \"\"\n      }\n    },\n    {\n      \"column\": \"polarity_score\",\n      \"properties\": {\n        \"dtype\": \"number\",\n        \"std\": 0.44122435202717025,\n        \"min\": -0.9929,\n        \"max\": 0.9989,\n        \"num_unique_values\": 1175,\n        \"samples\": [\n          0.9145\n        ],\n        \"semantic_type\": \"\",\n        \"description\": \"\"\n      }\n    },\n    {\n      \"column\": \"sentiment_label\",\n      \"properties\": {\n        \"dtype\": \"number\",\n        \"std\": 0,\n        \"min\": 0,\n        \"max\": 1,\n        \"num_unique_values\": 2,\n        \"samples\": [\n          1\n        ],\n        \"semantic_type\": \"\",\n        \"description\": \"\"\n      }\n    }\n  ]\n}"
            }
          },
          "metadata": {},
          "execution_count": 60
        }
      ]
    },
    {
      "cell_type": "code",
      "source": [
        "y = df[\"sentiment_label\"] # dependent variable"
      ],
      "metadata": {
        "execution": {
          "iopub.status.busy": "2024-01-08T11:32:39.373501Z",
          "iopub.execute_input": "2024-01-08T11:32:39.373969Z",
          "iopub.status.idle": "2024-01-08T11:32:39.379491Z",
          "shell.execute_reply.started": "2024-01-08T11:32:39.373934Z",
          "shell.execute_reply": "2024-01-08T11:32:39.378132Z"
        },
        "trusted": true,
        "id": "C7DkgcLBxU_V"
      },
      "execution_count": 61,
      "outputs": []
    },
    {
      "cell_type": "code",
      "source": [
        "X = df[\"reviewText\"] # independent variable"
      ],
      "metadata": {
        "execution": {
          "iopub.status.busy": "2024-01-08T11:32:41.086959Z",
          "iopub.execute_input": "2024-01-08T11:32:41.087383Z",
          "iopub.status.idle": "2024-01-08T11:32:41.092766Z",
          "shell.execute_reply.started": "2024-01-08T11:32:41.087347Z",
          "shell.execute_reply": "2024-01-08T11:32:41.091587Z"
        },
        "trusted": true,
        "id": "ii7Wd5ilxU_V"
      },
      "execution_count": 62,
      "outputs": []
    },
    {
      "cell_type": "markdown",
      "source": [
        "<a id=\"section-18\"></a>\n",
        "# <div style=\"padding: 30px; color:white; margin:10; font-size:75%; text-align:left; display:fill; border-radius:10px; background-color:#3b3745\"><b><span style='color:#F1A424'>6.1. |</span></b> <b>Count Vectors </b></div>"
      ],
      "metadata": {
        "id": "stRXFDGPxU_V"
      }
    },
    {
      "cell_type": "markdown",
      "source": [
        "<blockquote style=\"border-left: 3px solid #00BCD4; background-color: #E0F7FA; padding: 10px 20px; margin: 20px 0;\">\n",
        "    <p style=\"font-style: italic;\">In this section, the texts in the 'reviewText' column are transformed into numerical vectors using the CountVectorizer method. During this transformation process, the frequency of each word in the texts is calculated, and these frequencies are used to convert each text into a numerical vector. This step is critical for transforming text data into a suitable format for use in machine learning models. This numerical representation of texts facilitates the extraction of significant features and efficient processing of data during the modeling process.</p>\n",
        "</blockquote>\n"
      ],
      "metadata": {
        "id": "fzhSunINxU_V"
      }
    },
    {
      "cell_type": "markdown",
      "source": [
        "**Word Frequency**"
      ],
      "metadata": {
        "id": "18Uzmr2axU_V"
      }
    },
    {
      "cell_type": "code",
      "source": [
        "vectorizer = CountVectorizer()"
      ],
      "metadata": {
        "execution": {
          "iopub.status.busy": "2024-01-08T12:07:28.485485Z",
          "iopub.execute_input": "2024-01-08T12:07:28.486459Z",
          "iopub.status.idle": "2024-01-08T12:07:28.493151Z",
          "shell.execute_reply.started": "2024-01-08T12:07:28.486411Z",
          "shell.execute_reply": "2024-01-08T12:07:28.491701Z"
        },
        "trusted": true,
        "id": "Of7E5sRVxU_V"
      },
      "execution_count": 63,
      "outputs": []
    },
    {
      "cell_type": "code",
      "source": [
        "X_count = vectorizer.fit_transform(X)"
      ],
      "metadata": {
        "execution": {
          "iopub.status.busy": "2024-01-08T12:07:38.56012Z",
          "iopub.execute_input": "2024-01-08T12:07:38.561247Z",
          "iopub.status.idle": "2024-01-08T12:07:38.751464Z",
          "shell.execute_reply.started": "2024-01-08T12:07:38.561199Z",
          "shell.execute_reply": "2024-01-08T12:07:38.75009Z"
        },
        "trusted": true,
        "id": "oF7L6u1bxU_V"
      },
      "execution_count": 64,
      "outputs": []
    },
    {
      "cell_type": "code",
      "source": [
        "vectorizer.get_feature_names_out()[10:15]"
      ],
      "metadata": {
        "execution": {
          "iopub.status.busy": "2024-01-08T12:07:42.38942Z",
          "iopub.execute_input": "2024-01-08T12:07:42.389902Z",
          "iopub.status.idle": "2024-01-08T12:07:42.40157Z",
          "shell.execute_reply.started": "2024-01-08T12:07:42.389863Z",
          "shell.execute_reply": "2024-01-08T12:07:42.400217Z"
        },
        "trusted": true,
        "id": "JqCLA0epxU_V",
        "outputId": "ad754775-b6fe-4115-ac9b-2be46f6a8959",
        "colab": {
          "base_uri": "https://localhost:8080/"
        }
      },
      "execution_count": 65,
      "outputs": [
        {
          "output_type": "execute_result",
          "data": {
            "text/plain": [
              "array(['access', 'accessed', 'accessible', 'accessing', 'accessory'],\n",
              "      dtype=object)"
            ]
          },
          "metadata": {},
          "execution_count": 65
        }
      ]
    },
    {
      "cell_type": "code",
      "source": [
        "X_count.toarray()[10:15]"
      ],
      "metadata": {
        "execution": {
          "iopub.status.busy": "2024-01-08T12:07:49.804944Z",
          "iopub.execute_input": "2024-01-08T12:07:49.805412Z",
          "iopub.status.idle": "2024-01-08T12:07:50.103747Z",
          "shell.execute_reply.started": "2024-01-08T12:07:49.805375Z",
          "shell.execute_reply": "2024-01-08T12:07:50.102645Z"
        },
        "trusted": true,
        "id": "n1NyUp-TxU_V",
        "outputId": "157773a2-f813-4c60-df55-1155f6d13a38",
        "colab": {
          "base_uri": "https://localhost:8080/"
        }
      },
      "execution_count": 66,
      "outputs": [
        {
          "output_type": "execute_result",
          "data": {
            "text/plain": [
              "array([[0, 0, 0, ..., 0, 0, 0],\n",
              "       [0, 0, 0, ..., 0, 0, 0],\n",
              "       [0, 0, 0, ..., 0, 0, 0],\n",
              "       [0, 0, 0, ..., 0, 0, 0],\n",
              "       [0, 0, 0, ..., 0, 0, 0]])"
            ]
          },
          "metadata": {},
          "execution_count": 66
        }
      ]
    },
    {
      "cell_type": "markdown",
      "source": [
        "**N-Gram Frequency**"
      ],
      "metadata": {
        "id": "SOxGgTGhxU_V"
      }
    },
    {
      "cell_type": "code",
      "source": [
        "vectorizer2 = CountVectorizer(analyzer='word', ngram_range=(2, 2))"
      ],
      "metadata": {
        "execution": {
          "iopub.status.busy": "2024-01-08T12:17:59.519092Z",
          "iopub.execute_input": "2024-01-08T12:17:59.519606Z",
          "iopub.status.idle": "2024-01-08T12:17:59.524995Z",
          "shell.execute_reply.started": "2024-01-08T12:17:59.519569Z",
          "shell.execute_reply": "2024-01-08T12:17:59.523846Z"
        },
        "trusted": true,
        "id": "822jvwi8xU_V"
      },
      "execution_count": 67,
      "outputs": []
    },
    {
      "cell_type": "code",
      "source": [
        "X_n = vectorizer2.fit_transform(X)"
      ],
      "metadata": {
        "execution": {
          "iopub.status.busy": "2024-01-08T12:18:02.569872Z",
          "iopub.execute_input": "2024-01-08T12:18:02.570564Z",
          "iopub.status.idle": "2024-01-08T12:18:03.061834Z",
          "shell.execute_reply.started": "2024-01-08T12:18:02.570528Z",
          "shell.execute_reply": "2024-01-08T12:18:03.060381Z"
        },
        "trusted": true,
        "id": "j0Ap6IWyxU_V"
      },
      "execution_count": 68,
      "outputs": []
    },
    {
      "cell_type": "code",
      "source": [
        "vectorizer2.get_feature_names_out()[10:15]"
      ],
      "metadata": {
        "execution": {
          "iopub.status.busy": "2024-01-08T12:40:35.553862Z",
          "iopub.execute_input": "2024-01-08T12:40:35.55434Z",
          "iopub.status.idle": "2024-01-08T12:40:35.626607Z",
          "shell.execute_reply.started": "2024-01-08T12:40:35.554302Z",
          "shell.execute_reply": "2024-01-08T12:40:35.625772Z"
        },
        "trusted": true,
        "id": "1oUqBgavxU_V",
        "outputId": "20578a00-6a20-4059-bc49-d3f7ee0ca301",
        "colab": {
          "base_uri": "https://localhost:8080/"
        }
      },
      "execution_count": 69,
      "outputs": [
        {
          "output_type": "execute_result",
          "data": {
            "text/plain": [
              "array(['ability put', 'ability sandisk', 'ability something',\n",
              "       'ability stick', 'ability store'], dtype=object)"
            ]
          },
          "metadata": {},
          "execution_count": 69
        }
      ]
    },
    {
      "cell_type": "code",
      "source": [
        "X_n.toarray()"
      ],
      "metadata": {
        "execution": {
          "iopub.status.busy": "2024-01-08T12:40:49.83776Z",
          "iopub.execute_input": "2024-01-08T12:40:49.838479Z",
          "iopub.status.idle": "2024-01-08T12:40:50.161592Z",
          "shell.execute_reply.started": "2024-01-08T12:40:49.838442Z",
          "shell.execute_reply": "2024-01-08T12:40:50.15951Z"
        },
        "trusted": true,
        "id": "rvOEdsP4xU_V",
        "outputId": "5cf3f1d2-a0ef-4c59-dedc-39b4490d7ca4",
        "colab": {
          "base_uri": "https://localhost:8080/"
        }
      },
      "execution_count": 70,
      "outputs": [
        {
          "output_type": "execute_result",
          "data": {
            "text/plain": [
              "array([[0, 0, 0, ..., 0, 0, 0],\n",
              "       [0, 0, 0, ..., 0, 0, 0],\n",
              "       [0, 0, 0, ..., 0, 0, 0],\n",
              "       ...,\n",
              "       [0, 0, 0, ..., 0, 0, 0],\n",
              "       [0, 0, 0, ..., 0, 0, 0],\n",
              "       [0, 0, 0, ..., 0, 0, 0]])"
            ]
          },
          "metadata": {},
          "execution_count": 70
        }
      ]
    },
    {
      "cell_type": "markdown",
      "source": [
        "<a id=\"section-19\"></a>\n",
        "# <div style=\"padding: 30px; color:white; margin:10; font-size:75%; text-align:left; display:fill; border-radius:10px; background-color:#3b3745\"><b><span style='color:#F1A424'>6.2. |</span></b> <b>TF-IDF</b></div>"
      ],
      "metadata": {
        "id": "ccF9SzpLxU_V"
      }
    },
    {
      "cell_type": "markdown",
      "source": [
        "**Word**"
      ],
      "metadata": {
        "id": "XfBszxGKxU_V"
      }
    },
    {
      "cell_type": "code",
      "source": [
        "tf_idf_word_vectorizer = TfidfVectorizer()"
      ],
      "metadata": {
        "execution": {
          "iopub.status.busy": "2024-01-08T13:12:03.96906Z",
          "iopub.execute_input": "2024-01-08T13:12:03.969526Z",
          "iopub.status.idle": "2024-01-08T13:12:03.97569Z",
          "shell.execute_reply.started": "2024-01-08T13:12:03.969493Z",
          "shell.execute_reply": "2024-01-08T13:12:03.974397Z"
        },
        "trusted": true,
        "id": "iawkZZB1xU_V"
      },
      "execution_count": 71,
      "outputs": []
    },
    {
      "cell_type": "code",
      "source": [
        "X_tf_idf_word = tf_idf_word_vectorizer.fit_transform(X)"
      ],
      "metadata": {
        "execution": {
          "iopub.status.busy": "2024-01-08T13:12:06.436311Z",
          "iopub.execute_input": "2024-01-08T13:12:06.436794Z",
          "iopub.status.idle": "2024-01-08T13:12:06.650246Z",
          "shell.execute_reply.started": "2024-01-08T13:12:06.436759Z",
          "shell.execute_reply": "2024-01-08T13:12:06.649093Z"
        },
        "trusted": true,
        "id": "4XcVw2ymxU_V"
      },
      "execution_count": 72,
      "outputs": []
    },
    {
      "cell_type": "markdown",
      "source": [
        "**N-Gram**"
      ],
      "metadata": {
        "id": "WdEHxe8HxU_V"
      }
    },
    {
      "cell_type": "code",
      "source": [
        "tf_idf_ngram_vectorizer = TfidfVectorizer(ngram_range=(2, 3))"
      ],
      "metadata": {
        "execution": {
          "iopub.status.busy": "2024-01-08T13:43:38.844065Z",
          "iopub.execute_input": "2024-01-08T13:43:38.844695Z",
          "iopub.status.idle": "2024-01-08T13:43:38.850972Z",
          "shell.execute_reply.started": "2024-01-08T13:43:38.844613Z",
          "shell.execute_reply": "2024-01-08T13:43:38.849827Z"
        },
        "trusted": true,
        "id": "fSQBAOE8xU_V"
      },
      "execution_count": 73,
      "outputs": []
    },
    {
      "cell_type": "code",
      "source": [
        "X_tf_idf_ngram = tf_idf_ngram_vectorizer.fit_transform(X)"
      ],
      "metadata": {
        "execution": {
          "iopub.status.busy": "2024-01-08T13:43:40.624875Z",
          "iopub.execute_input": "2024-01-08T13:43:40.625308Z",
          "iopub.status.idle": "2024-01-08T13:43:41.695396Z",
          "shell.execute_reply.started": "2024-01-08T13:43:40.625272Z",
          "shell.execute_reply": "2024-01-08T13:43:41.694075Z"
        },
        "trusted": true,
        "id": "WtNuwl6ZxU_V"
      },
      "execution_count": 74,
      "outputs": []
    },
    {
      "cell_type": "markdown",
      "source": [
        "<a id=\"section-20\"></a>\n",
        "# <div style=\"padding: 30px; color:white; margin:10; font-size:75%; text-align:left; display:fill; border-radius:10px; background-color:#3b3745\"><b><span style='color:#F1A424'>7 |</span></b> <b>Sentiment Modeling</b></div>"
      ],
      "metadata": {
        "id": "vIfDWQp3xU_W"
      }
    },
    {
      "cell_type": "markdown",
      "source": [
        "<a id=\"section-21\"></a>\n",
        "# <div style=\"padding: 30px; color:white; margin:10; font-size:75%; text-align:left; display:fill; border-radius:10px; background-color:#3b3745\"><b><span style='color:#F1A424'>7.1. |</span></b> <b>Logistic Regression</b></div>"
      ],
      "metadata": {
        "id": "RsMW3r7zxU_W"
      }
    },
    {
      "cell_type": "code",
      "source": [
        "log_model = LogisticRegression().fit(X_tf_idf_word, y)"
      ],
      "metadata": {
        "execution": {
          "iopub.status.busy": "2024-01-08T13:32:12.273993Z",
          "iopub.execute_input": "2024-01-08T13:32:12.274521Z",
          "iopub.status.idle": "2024-01-08T13:32:12.38567Z",
          "shell.execute_reply.started": "2024-01-08T13:32:12.274482Z",
          "shell.execute_reply": "2024-01-08T13:32:12.384705Z"
        },
        "trusted": true,
        "id": "pF-0BPNlxU_W"
      },
      "execution_count": 75,
      "outputs": []
    },
    {
      "cell_type": "code",
      "source": [
        "cross_val_score(log_model,\n",
        "                X_tf_idf_word,\n",
        "                y,\n",
        "                scoring=\"accuracy\",\n",
        "                cv=5).mean()"
      ],
      "metadata": {
        "execution": {
          "iopub.status.busy": "2024-01-08T13:32:14.95171Z",
          "iopub.execute_input": "2024-01-08T13:32:14.952109Z",
          "iopub.status.idle": "2024-01-08T13:32:15.367232Z",
          "shell.execute_reply.started": "2024-01-08T13:32:14.952079Z",
          "shell.execute_reply": "2024-01-08T13:32:15.366024Z"
        },
        "trusted": true,
        "id": "X91MbwdCxU_W",
        "outputId": "a63b051c-3c22-4544-b59c-016bc038c225",
        "colab": {
          "base_uri": "https://localhost:8080/"
        }
      },
      "execution_count": 76,
      "outputs": [
        {
          "output_type": "execute_result",
          "data": {
            "text/plain": [
              "np.float64(0.830111902339776)"
            ]
          },
          "metadata": {},
          "execution_count": 76
        }
      ]
    },
    {
      "cell_type": "code",
      "source": [
        "new_review = pd.Series(\"this product is great\")"
      ],
      "metadata": {
        "execution": {
          "iopub.status.busy": "2024-01-08T13:32:19.144913Z",
          "iopub.execute_input": "2024-01-08T13:32:19.145397Z",
          "iopub.status.idle": "2024-01-08T13:32:19.151558Z",
          "shell.execute_reply.started": "2024-01-08T13:32:19.145359Z",
          "shell.execute_reply": "2024-01-08T13:32:19.150644Z"
        },
        "trusted": true,
        "id": "CQsnHoebxU_W"
      },
      "execution_count": 77,
      "outputs": []
    },
    {
      "cell_type": "code",
      "source": [
        "new_review = pd.Series(\"look at that shit very bad\")"
      ],
      "metadata": {
        "execution": {
          "iopub.status.busy": "2024-01-08T13:32:28.866449Z",
          "iopub.execute_input": "2024-01-08T13:32:28.867477Z",
          "iopub.status.idle": "2024-01-08T13:32:28.873132Z",
          "shell.execute_reply.started": "2024-01-08T13:32:28.867436Z",
          "shell.execute_reply": "2024-01-08T13:32:28.871972Z"
        },
        "trusted": true,
        "id": "GmZY10sqxU_W"
      },
      "execution_count": 78,
      "outputs": []
    },
    {
      "cell_type": "code",
      "source": [
        "new_review = pd.Series(\"it was good but I am sure that it fits me\")"
      ],
      "metadata": {
        "execution": {
          "iopub.status.busy": "2024-01-08T13:32:31.627531Z",
          "iopub.execute_input": "2024-01-08T13:32:31.62871Z",
          "iopub.status.idle": "2024-01-08T13:32:31.634406Z",
          "shell.execute_reply.started": "2024-01-08T13:32:31.628655Z",
          "shell.execute_reply": "2024-01-08T13:32:31.633321Z"
        },
        "trusted": true,
        "id": "zL-0R2W_xU_W"
      },
      "execution_count": 79,
      "outputs": []
    },
    {
      "cell_type": "code",
      "source": [
        "new_review = TfidfVectorizer().fit(X).transform(new_review)"
      ],
      "metadata": {
        "execution": {
          "iopub.status.busy": "2024-01-08T13:32:34.391489Z",
          "iopub.execute_input": "2024-01-08T13:32:34.39196Z",
          "iopub.status.idle": "2024-01-08T13:32:34.576305Z",
          "shell.execute_reply.started": "2024-01-08T13:32:34.391887Z",
          "shell.execute_reply": "2024-01-08T13:32:34.575031Z"
        },
        "trusted": true,
        "id": "K68Bt0tOxU_W"
      },
      "execution_count": 80,
      "outputs": []
    },
    {
      "cell_type": "code",
      "source": [
        "log_model.predict(new_review)"
      ],
      "metadata": {
        "execution": {
          "iopub.status.busy": "2024-01-08T13:32:37.880964Z",
          "iopub.execute_input": "2024-01-08T13:32:37.88135Z",
          "iopub.status.idle": "2024-01-08T13:32:37.890211Z",
          "shell.execute_reply.started": "2024-01-08T13:32:37.881319Z",
          "shell.execute_reply": "2024-01-08T13:32:37.888989Z"
        },
        "trusted": true,
        "id": "BX0YxhQ3xU_W",
        "outputId": "7904e407-5bed-4e12-f1df-8a21dc2f51fc",
        "colab": {
          "base_uri": "https://localhost:8080/"
        }
      },
      "execution_count": 81,
      "outputs": [
        {
          "output_type": "execute_result",
          "data": {
            "text/plain": [
              "array([1])"
            ]
          },
          "metadata": {},
          "execution_count": 81
        }
      ]
    },
    {
      "cell_type": "code",
      "source": [
        "random_review = pd.Series(df[\"reviewText\"].sample(1).values)"
      ],
      "metadata": {
        "execution": {
          "iopub.status.busy": "2024-01-08T13:32:41.424507Z",
          "iopub.execute_input": "2024-01-08T13:32:41.424973Z",
          "iopub.status.idle": "2024-01-08T13:32:41.435971Z",
          "shell.execute_reply.started": "2024-01-08T13:32:41.424936Z",
          "shell.execute_reply": "2024-01-08T13:32:41.434609Z"
        },
        "trusted": true,
        "id": "EVo9HsEgxU_W"
      },
      "execution_count": 82,
      "outputs": []
    },
    {
      "cell_type": "code",
      "source": [
        "new_review = TfidfVectorizer().fit(X).transform(random_review)"
      ],
      "metadata": {
        "execution": {
          "iopub.status.busy": "2024-01-08T13:32:44.632242Z",
          "iopub.execute_input": "2024-01-08T13:32:44.632688Z",
          "iopub.status.idle": "2024-01-08T13:32:44.818698Z",
          "shell.execute_reply.started": "2024-01-08T13:32:44.632653Z",
          "shell.execute_reply": "2024-01-08T13:32:44.817465Z"
        },
        "trusted": true,
        "id": "c2G-Y2-fxU_W"
      },
      "execution_count": 83,
      "outputs": []
    },
    {
      "cell_type": "code",
      "source": [
        "log_model.predict(new_review)"
      ],
      "metadata": {
        "execution": {
          "iopub.status.busy": "2024-01-08T13:32:51.745122Z",
          "iopub.execute_input": "2024-01-08T13:32:51.745606Z",
          "iopub.status.idle": "2024-01-08T13:32:51.753892Z",
          "shell.execute_reply.started": "2024-01-08T13:32:51.745569Z",
          "shell.execute_reply": "2024-01-08T13:32:51.752488Z"
        },
        "trusted": true,
        "id": "ehdkRfCixU_W",
        "outputId": "705c1358-0764-42c6-89aa-c9f69ec58eba",
        "colab": {
          "base_uri": "https://localhost:8080/"
        }
      },
      "execution_count": 84,
      "outputs": [
        {
          "output_type": "execute_result",
          "data": {
            "text/plain": [
              "array([1])"
            ]
          },
          "metadata": {},
          "execution_count": 84
        }
      ]
    },
    {
      "cell_type": "markdown",
      "source": [
        "<a id=\"section-22\"></a>\n",
        "# <div style=\"padding: 30px; color:white; margin:10; font-size:75%; text-align:left; display:fill; border-radius:10px; background-color:#3b3745\"><b><span style='color:#F1A424'>7.2. |</span></b> <b>Random Forests</b></div>"
      ],
      "metadata": {
        "id": "rceWaYytxU_W"
      }
    },
    {
      "cell_type": "code",
      "source": [
        "# Count Vectors\n",
        "rf_model = RandomForestClassifier().fit(X_count, y)\n",
        "cross_val_score(rf_model, X_count, y, cv=5, n_jobs=-1).mean()"
      ],
      "metadata": {
        "execution": {
          "iopub.status.busy": "2024-01-08T13:42:23.085877Z",
          "iopub.execute_input": "2024-01-08T13:42:23.086335Z",
          "iopub.status.idle": "2024-01-08T13:42:35.248446Z",
          "shell.execute_reply.started": "2024-01-08T13:42:23.086302Z",
          "shell.execute_reply": "2024-01-08T13:42:35.247058Z"
        },
        "trusted": true,
        "id": "BHPGa8pGxU_W",
        "outputId": "6436099b-6689-4a52-a744-5728f173aeb7",
        "colab": {
          "base_uri": "https://localhost:8080/"
        }
      },
      "execution_count": 85,
      "outputs": [
        {
          "output_type": "execute_result",
          "data": {
            "text/plain": [
              "np.float64(0.8423194303153612)"
            ]
          },
          "metadata": {},
          "execution_count": 85
        }
      ]
    },
    {
      "cell_type": "code",
      "source": [
        "# TF-IDF Word-Level\n",
        "rf_model = RandomForestClassifier().fit(X_tf_idf_word, y)\n",
        "cross_val_score(rf_model, X_tf_idf_word, y, cv=5, n_jobs=-1).mean()"
      ],
      "metadata": {
        "execution": {
          "iopub.status.busy": "2024-01-08T13:42:39.674711Z",
          "iopub.execute_input": "2024-01-08T13:42:39.675161Z",
          "iopub.status.idle": "2024-01-08T13:42:49.981727Z",
          "shell.execute_reply.started": "2024-01-08T13:42:39.675127Z",
          "shell.execute_reply": "2024-01-08T13:42:49.980192Z"
        },
        "trusted": true,
        "id": "POTCdTK2xU_W",
        "outputId": "d275860a-5ce7-4495-af15-1bac9a8e98dd",
        "colab": {
          "base_uri": "https://localhost:8080/"
        }
      },
      "execution_count": 86,
      "outputs": [
        {
          "output_type": "execute_result",
          "data": {
            "text/plain": [
              "np.float64(0.8240081383519836)"
            ]
          },
          "metadata": {},
          "execution_count": 86
        }
      ]
    },
    {
      "cell_type": "code",
      "source": [
        "# TF-IDF N-GRAM\n",
        "rf_model = RandomForestClassifier().fit(X_tf_idf_ngram, y)\n",
        "cross_val_score(rf_model, X_tf_idf_ngram, y, cv=5, n_jobs=-1).mean()"
      ],
      "metadata": {
        "execution": {
          "iopub.status.busy": "2024-01-08T13:44:30.01542Z",
          "iopub.execute_input": "2024-01-08T13:44:30.016726Z",
          "iopub.status.idle": "2024-01-08T13:48:12.206873Z",
          "shell.execute_reply.started": "2024-01-08T13:44:30.016673Z",
          "shell.execute_reply": "2024-01-08T13:48:12.205536Z"
        },
        "trusted": true,
        "id": "qpk0iHsyxU_W",
        "outputId": "cfa6f7db-5f6e-4037-ac9a-8d6f547d5580",
        "colab": {
          "base_uri": "https://localhost:8080/",
          "height": 333
        }
      },
      "execution_count": 87,
      "outputs": [
        {
          "output_type": "error",
          "ename": "KeyboardInterrupt",
          "evalue": "",
          "traceback": [
            "\u001b[0;31m---------------------------------------------------------------------------\u001b[0m",
            "\u001b[0;31mKeyboardInterrupt\u001b[0m                         Traceback (most recent call last)",
            "\u001b[0;32m<ipython-input-87-ac2b89631678>\u001b[0m in \u001b[0;36m<cell line: 0>\u001b[0;34m()\u001b[0m\n\u001b[1;32m      1\u001b[0m \u001b[0;31m# TF-IDF N-GRAM\u001b[0m\u001b[0;34m\u001b[0m\u001b[0;34m\u001b[0m\u001b[0m\n\u001b[1;32m      2\u001b[0m \u001b[0mrf_model\u001b[0m \u001b[0;34m=\u001b[0m \u001b[0mRandomForestClassifier\u001b[0m\u001b[0;34m(\u001b[0m\u001b[0;34m)\u001b[0m\u001b[0;34m.\u001b[0m\u001b[0mfit\u001b[0m\u001b[0;34m(\u001b[0m\u001b[0mX_tf_idf_ngram\u001b[0m\u001b[0;34m,\u001b[0m \u001b[0my\u001b[0m\u001b[0;34m)\u001b[0m\u001b[0;34m\u001b[0m\u001b[0;34m\u001b[0m\u001b[0m\n\u001b[0;32m----> 3\u001b[0;31m \u001b[0mcross_val_score\u001b[0m\u001b[0;34m(\u001b[0m\u001b[0mrf_model\u001b[0m\u001b[0;34m,\u001b[0m \u001b[0mX_tf_idf_ngram\u001b[0m\u001b[0;34m,\u001b[0m \u001b[0my\u001b[0m\u001b[0;34m,\u001b[0m \u001b[0mcv\u001b[0m\u001b[0;34m=\u001b[0m\u001b[0;36m5\u001b[0m\u001b[0;34m,\u001b[0m \u001b[0mn_jobs\u001b[0m\u001b[0;34m=\u001b[0m\u001b[0;34m-\u001b[0m\u001b[0;36m1\u001b[0m\u001b[0;34m)\u001b[0m\u001b[0;34m.\u001b[0m\u001b[0mmean\u001b[0m\u001b[0;34m(\u001b[0m\u001b[0;34m)\u001b[0m\u001b[0;34m\u001b[0m\u001b[0;34m\u001b[0m\u001b[0m\n\u001b[0m",
            "\u001b[0;32m/usr/local/lib/python3.11/dist-packages/sklearn/utils/_param_validation.py\u001b[0m in \u001b[0;36mwrapper\u001b[0;34m(*args, **kwargs)\u001b[0m\n\u001b[1;32m    214\u001b[0m                     )\n\u001b[1;32m    215\u001b[0m                 ):\n\u001b[0;32m--> 216\u001b[0;31m                     \u001b[0;32mreturn\u001b[0m \u001b[0mfunc\u001b[0m\u001b[0;34m(\u001b[0m\u001b[0;34m*\u001b[0m\u001b[0margs\u001b[0m\u001b[0;34m,\u001b[0m \u001b[0;34m**\u001b[0m\u001b[0mkwargs\u001b[0m\u001b[0;34m)\u001b[0m\u001b[0;34m\u001b[0m\u001b[0;34m\u001b[0m\u001b[0m\n\u001b[0m\u001b[1;32m    217\u001b[0m             \u001b[0;32mexcept\u001b[0m \u001b[0mInvalidParameterError\u001b[0m \u001b[0;32mas\u001b[0m \u001b[0me\u001b[0m\u001b[0;34m:\u001b[0m\u001b[0;34m\u001b[0m\u001b[0;34m\u001b[0m\u001b[0m\n\u001b[1;32m    218\u001b[0m                 \u001b[0;31m# When the function is just a wrapper around an estimator, we allow\u001b[0m\u001b[0;34m\u001b[0m\u001b[0;34m\u001b[0m\u001b[0m\n",
            "\u001b[0;32m/usr/local/lib/python3.11/dist-packages/sklearn/model_selection/_validation.py\u001b[0m in \u001b[0;36mcross_val_score\u001b[0;34m(estimator, X, y, groups, scoring, cv, n_jobs, verbose, params, pre_dispatch, error_score)\u001b[0m\n\u001b[1;32m    682\u001b[0m     \u001b[0mscorer\u001b[0m \u001b[0;34m=\u001b[0m \u001b[0mcheck_scoring\u001b[0m\u001b[0;34m(\u001b[0m\u001b[0mestimator\u001b[0m\u001b[0;34m,\u001b[0m \u001b[0mscoring\u001b[0m\u001b[0;34m=\u001b[0m\u001b[0mscoring\u001b[0m\u001b[0;34m)\u001b[0m\u001b[0;34m\u001b[0m\u001b[0;34m\u001b[0m\u001b[0m\n\u001b[1;32m    683\u001b[0m \u001b[0;34m\u001b[0m\u001b[0m\n\u001b[0;32m--> 684\u001b[0;31m     cv_results = cross_validate(\n\u001b[0m\u001b[1;32m    685\u001b[0m         \u001b[0mestimator\u001b[0m\u001b[0;34m=\u001b[0m\u001b[0mestimator\u001b[0m\u001b[0;34m,\u001b[0m\u001b[0;34m\u001b[0m\u001b[0;34m\u001b[0m\u001b[0m\n\u001b[1;32m    686\u001b[0m         \u001b[0mX\u001b[0m\u001b[0;34m=\u001b[0m\u001b[0mX\u001b[0m\u001b[0;34m,\u001b[0m\u001b[0;34m\u001b[0m\u001b[0;34m\u001b[0m\u001b[0m\n",
            "\u001b[0;32m/usr/local/lib/python3.11/dist-packages/sklearn/utils/_param_validation.py\u001b[0m in \u001b[0;36mwrapper\u001b[0;34m(*args, **kwargs)\u001b[0m\n\u001b[1;32m    214\u001b[0m                     )\n\u001b[1;32m    215\u001b[0m                 ):\n\u001b[0;32m--> 216\u001b[0;31m                     \u001b[0;32mreturn\u001b[0m \u001b[0mfunc\u001b[0m\u001b[0;34m(\u001b[0m\u001b[0;34m*\u001b[0m\u001b[0margs\u001b[0m\u001b[0;34m,\u001b[0m \u001b[0;34m**\u001b[0m\u001b[0mkwargs\u001b[0m\u001b[0;34m)\u001b[0m\u001b[0;34m\u001b[0m\u001b[0;34m\u001b[0m\u001b[0m\n\u001b[0m\u001b[1;32m    217\u001b[0m             \u001b[0;32mexcept\u001b[0m \u001b[0mInvalidParameterError\u001b[0m \u001b[0;32mas\u001b[0m \u001b[0me\u001b[0m\u001b[0;34m:\u001b[0m\u001b[0;34m\u001b[0m\u001b[0;34m\u001b[0m\u001b[0m\n\u001b[1;32m    218\u001b[0m                 \u001b[0;31m# When the function is just a wrapper around an estimator, we allow\u001b[0m\u001b[0;34m\u001b[0m\u001b[0;34m\u001b[0m\u001b[0m\n",
            "\u001b[0;32m/usr/local/lib/python3.11/dist-packages/sklearn/model_selection/_validation.py\u001b[0m in \u001b[0;36mcross_validate\u001b[0;34m(estimator, X, y, groups, scoring, cv, n_jobs, verbose, params, pre_dispatch, return_train_score, return_estimator, return_indices, error_score)\u001b[0m\n\u001b[1;32m    409\u001b[0m     \u001b[0;31m# independent, and that it is pickle-able.\u001b[0m\u001b[0;34m\u001b[0m\u001b[0;34m\u001b[0m\u001b[0m\n\u001b[1;32m    410\u001b[0m     \u001b[0mparallel\u001b[0m \u001b[0;34m=\u001b[0m \u001b[0mParallel\u001b[0m\u001b[0;34m(\u001b[0m\u001b[0mn_jobs\u001b[0m\u001b[0;34m=\u001b[0m\u001b[0mn_jobs\u001b[0m\u001b[0;34m,\u001b[0m \u001b[0mverbose\u001b[0m\u001b[0;34m=\u001b[0m\u001b[0mverbose\u001b[0m\u001b[0;34m,\u001b[0m \u001b[0mpre_dispatch\u001b[0m\u001b[0;34m=\u001b[0m\u001b[0mpre_dispatch\u001b[0m\u001b[0;34m)\u001b[0m\u001b[0;34m\u001b[0m\u001b[0;34m\u001b[0m\u001b[0m\n\u001b[0;32m--> 411\u001b[0;31m     results = parallel(\n\u001b[0m\u001b[1;32m    412\u001b[0m         delayed(_fit_and_score)(\n\u001b[1;32m    413\u001b[0m             \u001b[0mclone\u001b[0m\u001b[0;34m(\u001b[0m\u001b[0mestimator\u001b[0m\u001b[0;34m)\u001b[0m\u001b[0;34m,\u001b[0m\u001b[0;34m\u001b[0m\u001b[0;34m\u001b[0m\u001b[0m\n",
            "\u001b[0;32m/usr/local/lib/python3.11/dist-packages/sklearn/utils/parallel.py\u001b[0m in \u001b[0;36m__call__\u001b[0;34m(self, iterable)\u001b[0m\n\u001b[1;32m     75\u001b[0m             \u001b[0;32mfor\u001b[0m \u001b[0mdelayed_func\u001b[0m\u001b[0;34m,\u001b[0m \u001b[0margs\u001b[0m\u001b[0;34m,\u001b[0m \u001b[0mkwargs\u001b[0m \u001b[0;32min\u001b[0m \u001b[0miterable\u001b[0m\u001b[0;34m\u001b[0m\u001b[0;34m\u001b[0m\u001b[0m\n\u001b[1;32m     76\u001b[0m         )\n\u001b[0;32m---> 77\u001b[0;31m         \u001b[0;32mreturn\u001b[0m \u001b[0msuper\u001b[0m\u001b[0;34m(\u001b[0m\u001b[0;34m)\u001b[0m\u001b[0;34m.\u001b[0m\u001b[0m__call__\u001b[0m\u001b[0;34m(\u001b[0m\u001b[0miterable_with_config\u001b[0m\u001b[0;34m)\u001b[0m\u001b[0;34m\u001b[0m\u001b[0;34m\u001b[0m\u001b[0m\n\u001b[0m\u001b[1;32m     78\u001b[0m \u001b[0;34m\u001b[0m\u001b[0m\n\u001b[1;32m     79\u001b[0m \u001b[0;34m\u001b[0m\u001b[0m\n",
            "\u001b[0;32m/usr/local/lib/python3.11/dist-packages/joblib/parallel.py\u001b[0m in \u001b[0;36m__call__\u001b[0;34m(self, iterable)\u001b[0m\n\u001b[1;32m   2005\u001b[0m         \u001b[0mnext\u001b[0m\u001b[0;34m(\u001b[0m\u001b[0moutput\u001b[0m\u001b[0;34m)\u001b[0m\u001b[0;34m\u001b[0m\u001b[0;34m\u001b[0m\u001b[0m\n\u001b[1;32m   2006\u001b[0m \u001b[0;34m\u001b[0m\u001b[0m\n\u001b[0;32m-> 2007\u001b[0;31m         \u001b[0;32mreturn\u001b[0m \u001b[0moutput\u001b[0m \u001b[0;32mif\u001b[0m \u001b[0mself\u001b[0m\u001b[0;34m.\u001b[0m\u001b[0mreturn_generator\u001b[0m \u001b[0;32melse\u001b[0m \u001b[0mlist\u001b[0m\u001b[0;34m(\u001b[0m\u001b[0moutput\u001b[0m\u001b[0;34m)\u001b[0m\u001b[0;34m\u001b[0m\u001b[0;34m\u001b[0m\u001b[0m\n\u001b[0m\u001b[1;32m   2008\u001b[0m \u001b[0;34m\u001b[0m\u001b[0m\n\u001b[1;32m   2009\u001b[0m     \u001b[0;32mdef\u001b[0m \u001b[0m__repr__\u001b[0m\u001b[0;34m(\u001b[0m\u001b[0mself\u001b[0m\u001b[0;34m)\u001b[0m\u001b[0;34m:\u001b[0m\u001b[0;34m\u001b[0m\u001b[0;34m\u001b[0m\u001b[0m\n",
            "\u001b[0;32m/usr/local/lib/python3.11/dist-packages/joblib/parallel.py\u001b[0m in \u001b[0;36m_get_outputs\u001b[0;34m(self, iterator, pre_dispatch)\u001b[0m\n\u001b[1;32m   1648\u001b[0m \u001b[0;34m\u001b[0m\u001b[0m\n\u001b[1;32m   1649\u001b[0m             \u001b[0;32mwith\u001b[0m \u001b[0mself\u001b[0m\u001b[0;34m.\u001b[0m\u001b[0m_backend\u001b[0m\u001b[0;34m.\u001b[0m\u001b[0mretrieval_context\u001b[0m\u001b[0;34m(\u001b[0m\u001b[0;34m)\u001b[0m\u001b[0;34m:\u001b[0m\u001b[0;34m\u001b[0m\u001b[0;34m\u001b[0m\u001b[0m\n\u001b[0;32m-> 1650\u001b[0;31m                 \u001b[0;32myield\u001b[0m \u001b[0;32mfrom\u001b[0m \u001b[0mself\u001b[0m\u001b[0;34m.\u001b[0m\u001b[0m_retrieve\u001b[0m\u001b[0;34m(\u001b[0m\u001b[0;34m)\u001b[0m\u001b[0;34m\u001b[0m\u001b[0;34m\u001b[0m\u001b[0m\n\u001b[0m\u001b[1;32m   1651\u001b[0m \u001b[0;34m\u001b[0m\u001b[0m\n\u001b[1;32m   1652\u001b[0m         \u001b[0;32mexcept\u001b[0m \u001b[0mGeneratorExit\u001b[0m\u001b[0;34m:\u001b[0m\u001b[0;34m\u001b[0m\u001b[0;34m\u001b[0m\u001b[0m\n",
            "\u001b[0;32m/usr/local/lib/python3.11/dist-packages/joblib/parallel.py\u001b[0m in \u001b[0;36m_retrieve\u001b[0;34m(self)\u001b[0m\n\u001b[1;32m   1760\u001b[0m                 (self._jobs[0].get_status(\n\u001b[1;32m   1761\u001b[0m                     timeout=self.timeout) == TASK_PENDING)):\n\u001b[0;32m-> 1762\u001b[0;31m                 \u001b[0mtime\u001b[0m\u001b[0;34m.\u001b[0m\u001b[0msleep\u001b[0m\u001b[0;34m(\u001b[0m\u001b[0;36m0.01\u001b[0m\u001b[0;34m)\u001b[0m\u001b[0;34m\u001b[0m\u001b[0;34m\u001b[0m\u001b[0m\n\u001b[0m\u001b[1;32m   1763\u001b[0m                 \u001b[0;32mcontinue\u001b[0m\u001b[0;34m\u001b[0m\u001b[0;34m\u001b[0m\u001b[0m\n\u001b[1;32m   1764\u001b[0m \u001b[0;34m\u001b[0m\u001b[0m\n",
            "\u001b[0;31mKeyboardInterrupt\u001b[0m: "
          ]
        }
      ]
    },
    {
      "cell_type": "markdown",
      "source": [
        "<a id=\"section-23\"></a>\n",
        "# <div style=\"padding: 30px; color:white; margin:10; font-size:75%; text-align:left; display:fill; border-radius:10px; background-color:#3b3745\"><b><span style='color:#F1A424'>7.3. |</span></b> <b>Hyperparameter Optimization</b></div>"
      ],
      "metadata": {
        "id": "PhR8l4g6xU_X"
      }
    },
    {
      "cell_type": "code",
      "source": [
        "rf_model = RandomForestClassifier(random_state=17)"
      ],
      "metadata": {
        "execution": {
          "iopub.status.busy": "2024-01-08T13:48:17.783569Z",
          "iopub.execute_input": "2024-01-08T13:48:17.784036Z",
          "iopub.status.idle": "2024-01-08T13:48:17.789333Z",
          "shell.execute_reply.started": "2024-01-08T13:48:17.784002Z",
          "shell.execute_reply": "2024-01-08T13:48:17.788227Z"
        },
        "trusted": true,
        "id": "2ySparbQxU_X"
      },
      "execution_count": 88,
      "outputs": []
    },
    {
      "cell_type": "code",
      "source": [
        "rf_params = {\"max_depth\": [8, None],\n",
        "             \"max_features\": [7, \"auto\"],\n",
        "             \"min_samples_split\": [2, 5, 8],\n",
        "             \"n_estimators\": [100, 200]}"
      ],
      "metadata": {
        "execution": {
          "iopub.status.busy": "2024-01-08T13:48:21.2671Z",
          "iopub.execute_input": "2024-01-08T13:48:21.267515Z",
          "iopub.status.idle": "2024-01-08T13:48:21.273019Z",
          "shell.execute_reply.started": "2024-01-08T13:48:21.267485Z",
          "shell.execute_reply": "2024-01-08T13:48:21.271704Z"
        },
        "trusted": true,
        "id": "Q_TOi-dXxU_X"
      },
      "execution_count": 89,
      "outputs": []
    },
    {
      "cell_type": "code",
      "source": [
        "rf_best_grid = GridSearchCV(rf_model,\n",
        "                            rf_params,\n",
        "                            cv=5,\n",
        "                            n_jobs=-1,\n",
        "                            verbose=1).fit(X_count, y)"
      ],
      "metadata": {
        "execution": {
          "iopub.status.busy": "2024-01-08T13:48:27.0602Z",
          "iopub.execute_input": "2024-01-08T13:48:27.060786Z",
          "iopub.status.idle": "2024-01-08T13:49:54.997111Z",
          "shell.execute_reply.started": "2024-01-08T13:48:27.060749Z",
          "shell.execute_reply": "2024-01-08T13:49:54.996132Z"
        },
        "trusted": true,
        "id": "wwsUM9J5xU_X",
        "outputId": "8287062b-a450-4e75-a02f-ae28694bd791",
        "colab": {
          "base_uri": "https://localhost:8080/"
        }
      },
      "execution_count": 93,
      "outputs": [
        {
          "output_type": "stream",
          "name": "stdout",
          "text": [
            "Fitting 5 folds for each of 24 candidates, totalling 120 fits\n",
            "Fitting 5 folds for each of 24 candidates, totalling 120 fits\n"
          ]
        }
      ]
    },
    {
      "cell_type": "code",
      "source": [
        "rf_best_grid.best_params_"
      ],
      "metadata": {
        "execution": {
          "iopub.status.busy": "2024-01-08T13:51:26.783585Z",
          "iopub.execute_input": "2024-01-08T13:51:26.784118Z",
          "iopub.status.idle": "2024-01-08T13:51:26.791617Z",
          "shell.execute_reply.started": "2024-01-08T13:51:26.78408Z",
          "shell.execute_reply": "2024-01-08T13:51:26.790436Z"
        },
        "trusted": true,
        "id": "7AjJJdXtxU_X",
        "outputId": "fea27f97-9905-4f7a-9175-9284c1779d93",
        "colab": {
          "base_uri": "https://localhost:8080/"
        }
      },
      "execution_count": 92,
      "outputs": [
        {
          "output_type": "execute_result",
          "data": {
            "text/plain": [
              "{'max_depth': None,\n",
              " 'max_features': 7,\n",
              " 'min_samples_split': 2,\n",
              " 'n_estimators': 100}"
            ]
          },
          "metadata": {},
          "execution_count": 92
        }
      ]
    },
    {
      "cell_type": "code",
      "source": [
        "rf_final = rf_model.set_params(**rf_best_grid.best_params_, random_state=17).fit(X_count, y)"
      ],
      "metadata": {
        "execution": {
          "iopub.status.busy": "2024-01-08T13:51:30.880007Z",
          "iopub.execute_input": "2024-01-08T13:51:30.880504Z",
          "iopub.status.idle": "2024-01-08T13:51:33.846351Z",
          "shell.execute_reply.started": "2024-01-08T13:51:30.880456Z",
          "shell.execute_reply": "2024-01-08T13:51:33.845002Z"
        },
        "trusted": true,
        "id": "R2LPiAzzxU_X"
      },
      "execution_count": 94,
      "outputs": []
    },
    {
      "cell_type": "code",
      "source": [
        "cross_val_score(rf_final, X_count, y, cv=5, n_jobs=-1).mean()"
      ],
      "metadata": {
        "execution": {
          "iopub.status.busy": "2024-01-08T13:51:35.608222Z",
          "iopub.execute_input": "2024-01-08T13:51:35.608864Z",
          "iopub.status.idle": "2024-01-08T13:51:42.196904Z",
          "shell.execute_reply.started": "2024-01-08T13:51:35.608829Z",
          "shell.execute_reply": "2024-01-08T13:51:42.195218Z"
        },
        "trusted": true,
        "id": "NtJ5tancxU_X",
        "outputId": "510749b4-8793-4f78-da46-8ab7cb4dd36c",
        "colab": {
          "base_uri": "https://localhost:8080/"
        }
      },
      "execution_count": 95,
      "outputs": [
        {
          "output_type": "execute_result",
          "data": {
            "text/plain": [
              "np.float64(0.8128179043743643)"
            ]
          },
          "metadata": {},
          "execution_count": 95
        }
      ]
    }
  ]
}